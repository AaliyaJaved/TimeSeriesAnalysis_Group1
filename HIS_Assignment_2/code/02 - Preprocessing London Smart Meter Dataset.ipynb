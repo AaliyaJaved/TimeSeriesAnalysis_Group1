{
 "cells": [
  {
   "cell_type": "code",
   "execution_count": 146,
   "id": "33659962-9a0b-4cac-8d19-3184163cc153",
   "metadata": {},
   "outputs": [
    {
     "name": "stdout",
     "output_type": "stream",
     "text": [
      "C:\\Users\\zain.hanif\\Desktop\\HIS Project\\Modern-Time-Series-Forecasting-with-Python\n"
     ]
    }
   ],
   "source": [
    "#Changing the working directory to the root\n",
    "%cd ../.."
   ]
  },
  {
   "cell_type": "code",
   "execution_count": 1,
   "id": "bce03d17-9b58-44ba-8aed-eb016815bc85",
   "metadata": {},
   "outputs": [
    {
     "name": "stderr",
     "output_type": "stream",
     "text": [
      "C:\\Users\\zain.hanif\\AppData\\Local\\Temp\\ipykernel_29168\\3771276545.py:10: TqdmExperimentalWarning: Using `tqdm.autonotebook.tqdm` in notebook mode. Use `tqdm.tqdm` instead to force console mode (e.g. in jupyter console)\n",
      "  from tqdm.autonotebook import tqdm\n"
     ]
    }
   ],
   "source": [
    "import numpy as np\n",
    "import matplotlib.pyplot as plt\n",
    "import plotly.express as px\n",
    "import os\n",
    "import plotly.io as pio\n",
    "pio.templates.default = \"plotly_white\"\n",
    "import pandas as pd\n",
    "from pathlib import Path\n",
    "import tqdm as tqdm\n",
    "from tqdm.autonotebook import tqdm\n",
    "# %load_ext autoreload\n",
    "# %autoreload 2\n",
    "np.random.seed()\n",
    "tqdm.pandas()"
   ]
  },
  {
   "cell_type": "markdown",
   "id": "47449e71-2fb2-43f6-92cc-9bb0190c098f",
   "metadata": {
    "tags": []
   },
   "source": [
    "# Reading data to pandas dataframe\n",
    "\n",
    "Let's use London Smart Meters dataset from Kaggle for the current exercise. The source of the data is from London Data Store and Jean-Michel D. has augumented the dataset with a few more details and packaged it as a Kaggle Dataset.\n",
    "\n",
    "## About the Dataset\n",
    "\n",
    "London Data Store, free and open data-sharing portal, provided this dataset, which was collected and enriched by Jean-Michel D and uploaded on Kaggle @ https://www.kaggle.com/jeanmidev/smart-meters-in-london. \n",
    "The dataset has energy consumption readings for a sample of 5,567 London Households that took part in the UK Power Networks led Low Carbon London project between November 2011 and February 2014. Readings were taken at half hourly intervals. Some metadata about the households are also available as part of the dataset.\n",
    "\n",
    "## Data Wrangling\n",
    "The Kaggle dataset also has the time series data preprocessed on a daily level and combined all the separate files, etc. But let’s ignore those files and start with the raw files, which is in the hhblock_dataset folder."
   ]
  },
  {
   "cell_type": "code",
   "execution_count": 2,
   "id": "b363d00d-7f4d-494a-8317-938e30a66590",
   "metadata": {},
   "outputs": [
    {
     "name": "stdout",
     "output_type": "stream",
     "text": [
      "C:\\Users\\zain.hanif\\Desktop\\HIS Project\\Modern-Time-Series-Forecasting-with-Python\\data\\london_smart_meters\n",
      "C:\\Users\\zain.hanif\\Desktop\\HIS Project\\Modern-Time-Series-Forecasting-with-Python\\data\\london_smart_meters\\hhblock_dataset\\hhblock_dataset\n",
      "True\n"
     ]
    }
   ],
   "source": [
    "os.makedirs(\"imgs/chapter_2\", exist_ok=True)\n",
    "#Add your local machine database path here\n",
    "source_data = Path(\"C:/Users/zain.hanif/Desktop/HIS Project/Modern-Time-Series-Forecasting-with-Python/data/london_smart_meters/\")\n",
    "print(source_data)\n",
    "block_data_path = source_data/\"hhblock_dataset\"/\"hhblock_dataset\"\n",
    "#Command to check if the directory exist in your system or not\n",
    "print(block_data_path)\n",
    "print(block_data_path.is_dir())"
   ]
  },
  {
   "cell_type": "code",
   "execution_count": 3,
   "id": "801ed620-92a0-4539-a3c0-f23fe52d9c14",
   "metadata": {},
   "outputs": [],
   "source": [
    "assert block_data_path.is_dir(), \"Please check if the dataset has been downloaded properly. Refer to the Preface of the book or the Readme in the repo for expected data\""
   ]
  },
  {
   "cell_type": "markdown",
   "id": "c24a701f-df4e-4b25-b980-aebb0c57361f",
   "metadata": {
    "tags": []
   },
   "source": [
    "### Converting the half hourly block level dataset into a time series data \n",
    "\n",
    "Let's pick one block and see how we can transform the data."
   ]
  },
  {
   "cell_type": "code",
   "execution_count": 7,
   "id": "33d1bfe9-fd32-4f13-8c53-2a5d12e66df5",
   "metadata": {},
   "outputs": [
    {
     "data": {
      "text/html": [
       "<div>\n",
       "<style scoped>\n",
       "    .dataframe tbody tr th:only-of-type {\n",
       "        vertical-align: middle;\n",
       "    }\n",
       "\n",
       "    .dataframe tbody tr th {\n",
       "        vertical-align: top;\n",
       "    }\n",
       "\n",
       "    .dataframe thead th {\n",
       "        text-align: right;\n",
       "    }\n",
       "</style>\n",
       "<table border=\"1\" class=\"dataframe\">\n",
       "  <thead>\n",
       "    <tr style=\"text-align: right;\">\n",
       "      <th></th>\n",
       "      <th>LCLid</th>\n",
       "      <th>day</th>\n",
       "      <th>hh_0</th>\n",
       "      <th>hh_1</th>\n",
       "      <th>hh_2</th>\n",
       "      <th>hh_3</th>\n",
       "      <th>hh_4</th>\n",
       "      <th>hh_5</th>\n",
       "      <th>hh_6</th>\n",
       "      <th>hh_7</th>\n",
       "      <th>...</th>\n",
       "      <th>hh_38</th>\n",
       "      <th>hh_39</th>\n",
       "      <th>hh_40</th>\n",
       "      <th>hh_41</th>\n",
       "      <th>hh_42</th>\n",
       "      <th>hh_43</th>\n",
       "      <th>hh_44</th>\n",
       "      <th>hh_45</th>\n",
       "      <th>hh_46</th>\n",
       "      <th>hh_47</th>\n",
       "    </tr>\n",
       "  </thead>\n",
       "  <tbody>\n",
       "    <tr>\n",
       "      <th>0</th>\n",
       "      <td>MAC000002</td>\n",
       "      <td>2012-10-13</td>\n",
       "      <td>0.263</td>\n",
       "      <td>0.269</td>\n",
       "      <td>0.275</td>\n",
       "      <td>0.256</td>\n",
       "      <td>0.211</td>\n",
       "      <td>0.136</td>\n",
       "      <td>0.161</td>\n",
       "      <td>0.119</td>\n",
       "      <td>...</td>\n",
       "      <td>0.918</td>\n",
       "      <td>0.278</td>\n",
       "      <td>0.267</td>\n",
       "      <td>0.239</td>\n",
       "      <td>0.230</td>\n",
       "      <td>0.233</td>\n",
       "      <td>0.235</td>\n",
       "      <td>0.188</td>\n",
       "      <td>0.259</td>\n",
       "      <td>0.250</td>\n",
       "    </tr>\n",
       "    <tr>\n",
       "      <th>1</th>\n",
       "      <td>MAC000002</td>\n",
       "      <td>2012-10-14</td>\n",
       "      <td>0.262</td>\n",
       "      <td>0.166</td>\n",
       "      <td>0.226</td>\n",
       "      <td>0.088</td>\n",
       "      <td>0.126</td>\n",
       "      <td>0.082</td>\n",
       "      <td>0.123</td>\n",
       "      <td>0.083</td>\n",
       "      <td>...</td>\n",
       "      <td>1.075</td>\n",
       "      <td>0.956</td>\n",
       "      <td>0.821</td>\n",
       "      <td>0.745</td>\n",
       "      <td>0.712</td>\n",
       "      <td>0.511</td>\n",
       "      <td>0.231</td>\n",
       "      <td>0.210</td>\n",
       "      <td>0.278</td>\n",
       "      <td>0.159</td>\n",
       "    </tr>\n",
       "    <tr>\n",
       "      <th>2</th>\n",
       "      <td>MAC000002</td>\n",
       "      <td>2012-10-15</td>\n",
       "      <td>0.192</td>\n",
       "      <td>0.097</td>\n",
       "      <td>0.141</td>\n",
       "      <td>0.083</td>\n",
       "      <td>0.132</td>\n",
       "      <td>0.070</td>\n",
       "      <td>0.130</td>\n",
       "      <td>0.074</td>\n",
       "      <td>...</td>\n",
       "      <td>1.164</td>\n",
       "      <td>0.249</td>\n",
       "      <td>0.225</td>\n",
       "      <td>0.258</td>\n",
       "      <td>0.260</td>\n",
       "      <td>0.334</td>\n",
       "      <td>0.299</td>\n",
       "      <td>0.236</td>\n",
       "      <td>0.241</td>\n",
       "      <td>0.237</td>\n",
       "    </tr>\n",
       "    <tr>\n",
       "      <th>3</th>\n",
       "      <td>MAC000002</td>\n",
       "      <td>2012-10-16</td>\n",
       "      <td>0.237</td>\n",
       "      <td>0.237</td>\n",
       "      <td>0.193</td>\n",
       "      <td>0.118</td>\n",
       "      <td>0.098</td>\n",
       "      <td>0.107</td>\n",
       "      <td>0.094</td>\n",
       "      <td>0.109</td>\n",
       "      <td>...</td>\n",
       "      <td>0.966</td>\n",
       "      <td>0.172</td>\n",
       "      <td>0.192</td>\n",
       "      <td>0.228</td>\n",
       "      <td>0.203</td>\n",
       "      <td>0.211</td>\n",
       "      <td>0.188</td>\n",
       "      <td>0.213</td>\n",
       "      <td>0.157</td>\n",
       "      <td>0.202</td>\n",
       "    </tr>\n",
       "    <tr>\n",
       "      <th>4</th>\n",
       "      <td>MAC000002</td>\n",
       "      <td>2012-10-17</td>\n",
       "      <td>0.157</td>\n",
       "      <td>0.211</td>\n",
       "      <td>0.155</td>\n",
       "      <td>0.169</td>\n",
       "      <td>0.101</td>\n",
       "      <td>0.117</td>\n",
       "      <td>0.084</td>\n",
       "      <td>0.118</td>\n",
       "      <td>...</td>\n",
       "      <td>0.223</td>\n",
       "      <td>0.075</td>\n",
       "      <td>0.230</td>\n",
       "      <td>0.208</td>\n",
       "      <td>0.265</td>\n",
       "      <td>0.377</td>\n",
       "      <td>0.327</td>\n",
       "      <td>0.277</td>\n",
       "      <td>0.288</td>\n",
       "      <td>0.256</td>\n",
       "    </tr>\n",
       "  </tbody>\n",
       "</table>\n",
       "<p>5 rows × 50 columns</p>\n",
       "</div>"
      ],
      "text/plain": [
       "       LCLid        day   hh_0   hh_1   hh_2   hh_3   hh_4   hh_5   hh_6  \\\n",
       "0  MAC000002 2012-10-13  0.263  0.269  0.275  0.256  0.211  0.136  0.161   \n",
       "1  MAC000002 2012-10-14  0.262  0.166  0.226  0.088  0.126  0.082  0.123   \n",
       "2  MAC000002 2012-10-15  0.192  0.097  0.141  0.083  0.132  0.070  0.130   \n",
       "3  MAC000002 2012-10-16  0.237  0.237  0.193  0.118  0.098  0.107  0.094   \n",
       "4  MAC000002 2012-10-17  0.157  0.211  0.155  0.169  0.101  0.117  0.084   \n",
       "\n",
       "    hh_7  ...  hh_38  hh_39  hh_40  hh_41  hh_42  hh_43  hh_44  hh_45  hh_46  \\\n",
       "0  0.119  ...  0.918  0.278  0.267  0.239  0.230  0.233  0.235  0.188  0.259   \n",
       "1  0.083  ...  1.075  0.956  0.821  0.745  0.712  0.511  0.231  0.210  0.278   \n",
       "2  0.074  ...  1.164  0.249  0.225  0.258  0.260  0.334  0.299  0.236  0.241   \n",
       "3  0.109  ...  0.966  0.172  0.192  0.228  0.203  0.211  0.188  0.213  0.157   \n",
       "4  0.118  ...  0.223  0.075  0.230  0.208  0.265  0.377  0.327  0.277  0.288   \n",
       "\n",
       "   hh_47  \n",
       "0  0.250  \n",
       "1  0.159  \n",
       "2  0.237  \n",
       "3  0.202  \n",
       "4  0.256  \n",
       "\n",
       "[5 rows x 50 columns]"
      ]
     },
     "execution_count": 7,
     "metadata": {},
     "output_type": "execute_result"
    }
   ],
   "source": [
    "block_1 = pd.read_csv(block_data_path/\"block_0.csv\", parse_dates=False)\n",
    "\n",
    "block_1['day'] = pd.to_datetime(block_1['day'], yearfirst=True)\n",
    "\n",
    "block_1.head()"
   ]
  },
  {
   "cell_type": "code",
   "execution_count": 9,
   "id": "9bc08a06-725f-45e4-ac22-d018a7d5317b",
   "metadata": {},
   "outputs": [
    {
     "data": {
      "text/plain": [
       "LCLid\n",
       "MAC003597   2014-02-27\n",
       "MAC004387   2014-02-27\n",
       "MAC003239   2014-02-27\n",
       "MAC003646   2014-02-27\n",
       "MAC003422   2014-02-27\n",
       "Name: day, dtype: datetime64[ns]"
      ]
     },
     "execution_count": 9,
     "metadata": {},
     "output_type": "execute_result"
    }
   ],
   "source": [
    "#Check End Dates of all time series\n",
    "block_1.groupby(\"LCLid\")['day'].max().sample(5)"
   ]
  },
  {
   "cell_type": "code",
   "execution_count": 11,
   "id": "7cadd15d-1d8a-4779-b64b-db8ba612b3b2",
   "metadata": {},
   "outputs": [
    {
     "data": {
      "application/vnd.jupyter.widget-view+json": {
       "model_id": "1be1dfc6f3e146e1a45fdbb4a1ec6691",
       "version_major": 2,
       "version_minor": 0
      },
      "text/plain": [
       "0it [00:00, ?it/s]"
      ]
     },
     "metadata": {},
     "output_type": "display_data"
    },
    {
     "name": "stdout",
     "output_type": "stream",
     "text": [
      "Max Date across all blocks: 2014-02-27 00:00:00\n"
     ]
    }
   ],
   "source": [
    "max_date = None\n",
    "for f in tqdm(block_data_path.glob(\"*.csv\")):\n",
    "    df = pd.read_csv(f, parse_dates=False)\n",
    "    df['day'] = pd.to_datetime(df['day'], yearfirst=True)\n",
    "    if max_date is None:\n",
    "        max_date = df['day'].max()\n",
    "    else:\n",
    "        if df['day'].max()>max_date:\n",
    "            max_date = df['day'].max()\n",
    "print(f\"Max Date across all blocks: {max_date}\")\n",
    "del df"
   ]
  },
  {
   "cell_type": "code",
   "execution_count": 13,
   "id": "4d1271f2-201e-4544-95b7-f006bab2594a",
   "metadata": {},
   "outputs": [
    {
     "data": {
      "text/html": [
       "<div>\n",
       "<style scoped>\n",
       "    .dataframe tbody tr th:only-of-type {\n",
       "        vertical-align: middle;\n",
       "    }\n",
       "\n",
       "    .dataframe tbody tr th {\n",
       "        vertical-align: top;\n",
       "    }\n",
       "\n",
       "    .dataframe thead th {\n",
       "        text-align: right;\n",
       "    }\n",
       "</style>\n",
       "<table border=\"1\" class=\"dataframe\">\n",
       "  <thead>\n",
       "    <tr style=\"text-align: right;\">\n",
       "      <th></th>\n",
       "      <th>LCLid</th>\n",
       "      <th>day</th>\n",
       "      <th>hour_block</th>\n",
       "      <th>energy_consumption</th>\n",
       "      <th>offset</th>\n",
       "    </tr>\n",
       "  </thead>\n",
       "  <tbody>\n",
       "    <tr>\n",
       "      <th>0</th>\n",
       "      <td>MAC000002</td>\n",
       "      <td>2012-10-13</td>\n",
       "      <td>hh_0</td>\n",
       "      <td>0.263</td>\n",
       "      <td>0</td>\n",
       "    </tr>\n",
       "    <tr>\n",
       "      <th>1</th>\n",
       "      <td>MAC000002</td>\n",
       "      <td>2012-10-13</td>\n",
       "      <td>hh_1</td>\n",
       "      <td>0.269</td>\n",
       "      <td>1</td>\n",
       "    </tr>\n",
       "    <tr>\n",
       "      <th>2</th>\n",
       "      <td>MAC000002</td>\n",
       "      <td>2012-10-13</td>\n",
       "      <td>hh_2</td>\n",
       "      <td>0.275</td>\n",
       "      <td>2</td>\n",
       "    </tr>\n",
       "    <tr>\n",
       "      <th>3</th>\n",
       "      <td>MAC000002</td>\n",
       "      <td>2012-10-13</td>\n",
       "      <td>hh_3</td>\n",
       "      <td>0.256</td>\n",
       "      <td>3</td>\n",
       "    </tr>\n",
       "    <tr>\n",
       "      <th>4</th>\n",
       "      <td>MAC000002</td>\n",
       "      <td>2012-10-13</td>\n",
       "      <td>hh_4</td>\n",
       "      <td>0.211</td>\n",
       "      <td>4</td>\n",
       "    </tr>\n",
       "  </tbody>\n",
       "</table>\n",
       "</div>"
      ],
      "text/plain": [
       "       LCLid        day hour_block  energy_consumption  offset\n",
       "0  MAC000002 2012-10-13       hh_0               0.263       0\n",
       "1  MAC000002 2012-10-13       hh_1               0.269       1\n",
       "2  MAC000002 2012-10-13       hh_2               0.275       2\n",
       "3  MAC000002 2012-10-13       hh_3               0.256       3\n",
       "4  MAC000002 2012-10-13       hh_4               0.211       4"
      ]
     },
     "execution_count": 13,
     "metadata": {},
     "output_type": "execute_result"
    }
   ],
   "source": [
    "#Reshaping the dataframe into the long form with hour blocks along the rows\n",
    "block_1 = block_1.set_index(['LCLid', \"day\"]).stack().reset_index().rename(columns={\"level_2\": \"hour_block\", 0: \"energy_consumption\"})\n",
    "#Creating a numerical hourblock column\n",
    "block_1['offset'] = block_1['hour_block'].str.replace(\"hh_\", \"\").astype(int)\n",
    "\n",
    "block_1.head()"
   ]
  },
  {
   "cell_type": "markdown",
   "id": "07a4e040-ea80-4353-939d-4fd7ff2a2880",
   "metadata": {},
   "source": [
    "#### Compact Form"
   ]
  },
  {
   "cell_type": "code",
   "execution_count": 17,
   "id": "f19551b7-b632-4865-90af-2abf172da3cf",
   "metadata": {},
   "outputs": [],
   "source": [
    "def preprocess_compact(x):\n",
    "    start_date = x['day'].min()\n",
    "    name = x['LCLid'].unique()[0]\n",
    "    ### Fill missing dates with NaN ###\n",
    "    # Create a date range from  min to max\n",
    "    dr = pd.date_range(start=x['day'].min(), end=max_date, freq=\"1D\")\n",
    "    # Add hh_0 to hh_47 to columns and with some unstack magic recreating date-hh_x combinations\n",
    "    dr = pd.DataFrame(columns=[f\"hh_{i}\" for i in range(48)], index=dr).unstack().reset_index()\n",
    "    # renaming the columns\n",
    "    dr.columns = [\"hour_block\", \"day\", \"_\"]\n",
    "    # left merging the dataframe to the standard dataframe\n",
    "    # now the missing values will be left as NaN\n",
    "    dr = dr.merge(x, on=['hour_block','day'], how='left')\n",
    "    # sorting the rows\n",
    "    dr.sort_values(['day',\"offset\"], inplace=True)\n",
    "    # extracting the timeseries array\n",
    "    ts = dr['energy_consumption'].values\n",
    "    len_ts = len(ts)\n",
    "    return start_date, name, ts, len_ts"
   ]
  },
  {
   "cell_type": "code",
   "execution_count": 19,
   "id": "57fbbf9b-6a29-4289-9ae0-2d311388a56b",
   "metadata": {},
   "outputs": [
    {
     "data": {
      "application/vnd.jupyter.widget-view+json": {
       "model_id": "",
       "version_major": 2,
       "version_minor": 0
      },
      "text/plain": [
       "  0%|          | 0/50 [00:00<?, ?it/s]"
      ]
     },
     "metadata": {},
     "output_type": "display_data"
    }
   ],
   "source": [
    "def load_process_block_compact(block_df, freq=\"30min\", ts_identifier=\"series_name\", value_name=\"series_value\"):\n",
    "    grps = block_df.groupby('LCLid')\n",
    "    all_series = []\n",
    "    all_start_dates = []\n",
    "    all_names = []\n",
    "    all_data = {}\n",
    "    all_len = []\n",
    "    for idx, df in tqdm(grps, leave=False):\n",
    "        start_date, name, ts, len_ts = preprocess_compact(df)\n",
    "        all_series.append(ts)\n",
    "        all_start_dates.append(start_date)\n",
    "        all_names.append(name)\n",
    "        all_len.append(len_ts)\n",
    "\n",
    "    all_data[ts_identifier] = all_names\n",
    "    all_data['start_timestamp'] = all_start_dates\n",
    "    all_data['frequency'] = freq\n",
    "    all_data[value_name] = all_series\n",
    "    all_data['series_length'] = all_len\n",
    "    return pd.DataFrame(all_data)\n",
    "\n",
    "block1_compact = load_process_block_compact(block_1, freq=\"30min\", ts_identifier=\"LCLid\", value_name=\"energy_consumption\")"
   ]
  },
  {
   "cell_type": "code",
   "execution_count": 21,
   "id": "b768098c-cb7b-42ff-9ff2-b09589953218",
   "metadata": {},
   "outputs": [
    {
     "data": {
      "text/html": [
       "<div>\n",
       "<style scoped>\n",
       "    .dataframe tbody tr th:only-of-type {\n",
       "        vertical-align: middle;\n",
       "    }\n",
       "\n",
       "    .dataframe tbody tr th {\n",
       "        vertical-align: top;\n",
       "    }\n",
       "\n",
       "    .dataframe thead th {\n",
       "        text-align: right;\n",
       "    }\n",
       "</style>\n",
       "<table border=\"1\" class=\"dataframe\">\n",
       "  <thead>\n",
       "    <tr style=\"text-align: right;\">\n",
       "      <th></th>\n",
       "      <th>LCLid</th>\n",
       "      <th>start_timestamp</th>\n",
       "      <th>frequency</th>\n",
       "      <th>energy_consumption</th>\n",
       "      <th>series_length</th>\n",
       "    </tr>\n",
       "  </thead>\n",
       "  <tbody>\n",
       "    <tr>\n",
       "      <th>0</th>\n",
       "      <td>MAC000002</td>\n",
       "      <td>2012-10-13</td>\n",
       "      <td>30min</td>\n",
       "      <td>[0.263, 0.2689999999999999, 0.275, 0.256, 0.21...</td>\n",
       "      <td>24144</td>\n",
       "    </tr>\n",
       "    <tr>\n",
       "      <th>1</th>\n",
       "      <td>MAC000246</td>\n",
       "      <td>2011-12-04</td>\n",
       "      <td>30min</td>\n",
       "      <td>[0.175, 0.098, 0.144, 0.065, 0.071, 0.037, 0.0...</td>\n",
       "      <td>39216</td>\n",
       "    </tr>\n",
       "    <tr>\n",
       "      <th>2</th>\n",
       "      <td>MAC000450</td>\n",
       "      <td>2012-03-23</td>\n",
       "      <td>30min</td>\n",
       "      <td>[1.337, 1.426, 0.996, 0.971, 0.994, 0.952, 0.8...</td>\n",
       "      <td>33936</td>\n",
       "    </tr>\n",
       "    <tr>\n",
       "      <th>3</th>\n",
       "      <td>MAC001074</td>\n",
       "      <td>2012-05-09</td>\n",
       "      <td>30min</td>\n",
       "      <td>[0.18, 0.086, 0.106, 0.173, 0.146, 0.223, 0.21...</td>\n",
       "      <td>31680</td>\n",
       "    </tr>\n",
       "    <tr>\n",
       "      <th>4</th>\n",
       "      <td>MAC003223</td>\n",
       "      <td>2012-09-18</td>\n",
       "      <td>30min</td>\n",
       "      <td>[0.076, 0.079, 0.123, 0.109, 0.051, 0.069, 0.0...</td>\n",
       "      <td>25344</td>\n",
       "    </tr>\n",
       "  </tbody>\n",
       "</table>\n",
       "</div>"
      ],
      "text/plain": [
       "       LCLid start_timestamp frequency  \\\n",
       "0  MAC000002      2012-10-13     30min   \n",
       "1  MAC000246      2011-12-04     30min   \n",
       "2  MAC000450      2012-03-23     30min   \n",
       "3  MAC001074      2012-05-09     30min   \n",
       "4  MAC003223      2012-09-18     30min   \n",
       "\n",
       "                                  energy_consumption  series_length  \n",
       "0  [0.263, 0.2689999999999999, 0.275, 0.256, 0.21...          24144  \n",
       "1  [0.175, 0.098, 0.144, 0.065, 0.071, 0.037, 0.0...          39216  \n",
       "2  [1.337, 1.426, 0.996, 0.971, 0.994, 0.952, 0.8...          33936  \n",
       "3  [0.18, 0.086, 0.106, 0.173, 0.146, 0.223, 0.21...          31680  \n",
       "4  [0.076, 0.079, 0.123, 0.109, 0.051, 0.069, 0.0...          25344  "
      ]
     },
     "execution_count": 21,
     "metadata": {},
     "output_type": "execute_result"
    }
   ],
   "source": [
    "block1_compact.head()"
   ]
  },
  {
   "cell_type": "code",
   "execution_count": 23,
   "id": "22221006-26c7-4c11-92d4-7fbe6d4ec89c",
   "metadata": {},
   "outputs": [
    {
     "data": {
      "text/plain": [
       "Index                  132\n",
       "LCLid                 2900\n",
       "start_timestamp        400\n",
       "frequency             2700\n",
       "energy_consumption    6000\n",
       "series_length          400\n",
       "dtype: int64"
      ]
     },
     "metadata": {},
     "output_type": "display_data"
    },
    {
     "name": "stdout",
     "output_type": "stream",
     "text": [
      "Total: 0.011951446533203125 MB\n"
     ]
    }
   ],
   "source": [
    "display(block1_compact.memory_usage(deep=True))\n",
    "print(f\"Total: {block1_compact.memory_usage(deep=True).sum()/1024**2} MB\")"
   ]
  },
  {
   "cell_type": "markdown",
   "id": "d6e178ac-5e36-466a-bc4c-a068c3fe89c3",
   "metadata": {},
   "source": [
    "#### Expanded Form"
   ]
  },
  {
   "cell_type": "code",
   "execution_count": 25,
   "id": "bf102637-d9c8-4869-9d58-4e1ace5de1e7",
   "metadata": {},
   "outputs": [],
   "source": [
    "def preprocess_expanded(x):\n",
    "    start_date = x['day'].min()\n",
    "    ### Fill missing dates with NaN ###\n",
    "    # Create a date range from  min to max\n",
    "    dr = pd.date_range(start=x['day'].min(), end=x['day'].max(), freq=\"1D\")\n",
    "    # Add hh_0 to hh_47 to columns and with some unstack magic recreating date-hh_x combinations\n",
    "    dr = pd.DataFrame(columns=[f\"hh_{i}\" for i in range(48)], index=dr).unstack().reset_index()\n",
    "    # renaming the columns\n",
    "    dr.columns = [\"hour_block\", \"day\", \"_\"]\n",
    "    # left merging the dataframe to the standard dataframe\n",
    "    # now the missing values will be left as NaN\n",
    "    dr = dr.merge(x, on=['hour_block','day'], how='left')\n",
    "    dr['series_length'] = len(dr)\n",
    "    return dr"
   ]
  },
  {
   "cell_type": "code",
   "execution_count": 27,
   "id": "c1b89d9b-a6bc-413e-aef0-b33dd2a69f5b",
   "metadata": {},
   "outputs": [
    {
     "data": {
      "application/vnd.jupyter.widget-view+json": {
       "model_id": "",
       "version_major": 2,
       "version_minor": 0
      },
      "text/plain": [
       "  0%|          | 0/50 [00:00<?, ?it/s]"
      ]
     },
     "metadata": {},
     "output_type": "display_data"
    },
    {
     "name": "stderr",
     "output_type": "stream",
     "text": [
      "C:\\Users\\zain.hanif\\AppData\\Local\\Temp\\ipykernel_29168\\1880645514.py:12: PerformanceWarning: Adding/subtracting object-dtype array to DatetimeArray not vectorized.\n",
      "  block_df['timestamp'] = block_df['day'] + block_df['offset']*30*pd.offsets.Minute()\n"
     ]
    }
   ],
   "source": [
    "def load_process_block_expanded(block_df, freq=\"30min\"):\n",
    "    grps = block_df.groupby('LCLid')\n",
    "    all_series = []\n",
    "    for idx, df in tqdm(grps, leave=False):\n",
    "        ts = preprocess_expanded(df)\n",
    "        all_series.append(ts)\n",
    "\n",
    "    block_df = pd.concat(all_series)\n",
    "    # Recreate Offset because there would be null rows now\n",
    "    block_df['offset'] = block_df['hour_block'].str.replace(\"hh_\", \"\").astype(int)\n",
    "    # Creating a datetime column with the date | Will take some time because operation is not vectorized\n",
    "    block_df['timestamp'] = block_df['day'] + block_df['offset']*30*pd.offsets.Minute()\n",
    "    block_df['frequency'] = freq\n",
    "    block_df.sort_values([\"LCLid\",\"timestamp\"], inplace=True)\n",
    "    block_df.drop(columns=[\"_\", \"hour_block\", \"offset\", \"day\"], inplace=True)\n",
    "    return block_df\n",
    "#     del all_series\n",
    "block1_expanded = load_process_block_expanded(block_1, freq=\"30min\")"
   ]
  },
  {
   "cell_type": "code",
   "execution_count": 28,
   "id": "c9a46c20-c802-4b28-a18f-0fc3bfe3fb20",
   "metadata": {},
   "outputs": [
    {
     "data": {
      "text/html": [
       "<div>\n",
       "<style scoped>\n",
       "    .dataframe tbody tr th:only-of-type {\n",
       "        vertical-align: middle;\n",
       "    }\n",
       "\n",
       "    .dataframe tbody tr th {\n",
       "        vertical-align: top;\n",
       "    }\n",
       "\n",
       "    .dataframe thead th {\n",
       "        text-align: right;\n",
       "    }\n",
       "</style>\n",
       "<table border=\"1\" class=\"dataframe\">\n",
       "  <thead>\n",
       "    <tr style=\"text-align: right;\">\n",
       "      <th></th>\n",
       "      <th>LCLid</th>\n",
       "      <th>energy_consumption</th>\n",
       "      <th>series_length</th>\n",
       "      <th>timestamp</th>\n",
       "      <th>frequency</th>\n",
       "    </tr>\n",
       "  </thead>\n",
       "  <tbody>\n",
       "    <tr>\n",
       "      <th>0</th>\n",
       "      <td>MAC000002</td>\n",
       "      <td>0.263</td>\n",
       "      <td>24144</td>\n",
       "      <td>2012-10-13 00:00:00</td>\n",
       "      <td>30min</td>\n",
       "    </tr>\n",
       "    <tr>\n",
       "      <th>503</th>\n",
       "      <td>MAC000002</td>\n",
       "      <td>0.269</td>\n",
       "      <td>24144</td>\n",
       "      <td>2012-10-13 00:30:00</td>\n",
       "      <td>30min</td>\n",
       "    </tr>\n",
       "    <tr>\n",
       "      <th>1006</th>\n",
       "      <td>MAC000002</td>\n",
       "      <td>0.275</td>\n",
       "      <td>24144</td>\n",
       "      <td>2012-10-13 01:00:00</td>\n",
       "      <td>30min</td>\n",
       "    </tr>\n",
       "    <tr>\n",
       "      <th>1509</th>\n",
       "      <td>MAC000002</td>\n",
       "      <td>0.256</td>\n",
       "      <td>24144</td>\n",
       "      <td>2012-10-13 01:30:00</td>\n",
       "      <td>30min</td>\n",
       "    </tr>\n",
       "    <tr>\n",
       "      <th>2012</th>\n",
       "      <td>MAC000002</td>\n",
       "      <td>0.211</td>\n",
       "      <td>24144</td>\n",
       "      <td>2012-10-13 02:00:00</td>\n",
       "      <td>30min</td>\n",
       "    </tr>\n",
       "  </tbody>\n",
       "</table>\n",
       "</div>"
      ],
      "text/plain": [
       "          LCLid  energy_consumption  series_length            timestamp  \\\n",
       "0     MAC000002               0.263          24144  2012-10-13 00:00:00   \n",
       "503   MAC000002               0.269          24144  2012-10-13 00:30:00   \n",
       "1006  MAC000002               0.275          24144  2012-10-13 01:00:00   \n",
       "1509  MAC000002               0.256          24144  2012-10-13 01:30:00   \n",
       "2012  MAC000002               0.211          24144  2012-10-13 02:00:00   \n",
       "\n",
       "     frequency  \n",
       "0        30min  \n",
       "503      30min  \n",
       "1006     30min  \n",
       "1509     30min  \n",
       "2012     30min  "
      ]
     },
     "execution_count": 28,
     "metadata": {},
     "output_type": "execute_result"
    }
   ],
   "source": [
    "block1_expanded.head()"
   ]
  },
  {
   "cell_type": "code",
   "execution_count": 31,
   "id": "ff0ea3c3-94e4-4093-b9cf-77a8bc35198e",
   "metadata": {},
   "outputs": [
    {
     "data": {
      "text/plain": [
       "Index                 9834240\n",
       "LCLid                 9834240\n",
       "energy_consumption    9834240\n",
       "series_length         9834240\n",
       "timestamp             9834240\n",
       "frequency             9834240\n",
       "dtype: int64"
      ]
     },
     "metadata": {},
     "output_type": "display_data"
    },
    {
     "name": "stdout",
     "output_type": "stream",
     "text": [
      "Total: 56.27197265625 MB\n"
     ]
    }
   ],
   "source": [
    "display(block1_expanded.memory_usage())\n",
    "print(f\"Total: {block1_expanded.memory_usage().sum()/1024**2} MB\")"
   ]
  },
  {
   "cell_type": "code",
   "execution_count": 33,
   "id": "6e76246e-bdc6-4ec9-b860-27da4071edbb",
   "metadata": {},
   "outputs": [],
   "source": [
    "del block1_expanded, block_1, block1_compact"
   ]
  },
  {
   "cell_type": "markdown",
   "id": "63eaa201-7292-4f33-8ff2-d84e5b767fee",
   "metadata": {
    "tags": []
   },
   "source": [
    "#### Reading and combining all the block data into a single dataframe"
   ]
  },
  {
   "cell_type": "code",
   "execution_count": 89,
   "id": "d2c68f5b-fe77-42a4-b375-ac6ef8f23862",
   "metadata": {
    "tags": []
   },
   "outputs": [
    {
     "data": {
      "application/vnd.jupyter.widget-view+json": {
       "model_id": "846f4767e0844d0d8676416149aad576",
       "version_major": 2,
       "version_minor": 0
      },
      "text/plain": [
       "Processing Blocks..:   0%|          | 0/112 [00:00<?, ?it/s]"
      ]
     },
     "metadata": {},
     "output_type": "display_data"
    },
    {
     "data": {
      "application/vnd.jupyter.widget-view+json": {
       "model_id": "",
       "version_major": 2,
       "version_minor": 0
      },
      "text/plain": [
       "  0%|          | 0/50 [00:00<?, ?it/s]"
      ]
     },
     "metadata": {},
     "output_type": "display_data"
    },
    {
     "data": {
      "application/vnd.jupyter.widget-view+json": {
       "model_id": "",
       "version_major": 2,
       "version_minor": 0
      },
      "text/plain": [
       "  0%|          | 0/50 [00:00<?, ?it/s]"
      ]
     },
     "metadata": {},
     "output_type": "display_data"
    },
    {
     "data": {
      "application/vnd.jupyter.widget-view+json": {
       "model_id": "",
       "version_major": 2,
       "version_minor": 0
      },
      "text/plain": [
       "  0%|          | 0/50 [00:00<?, ?it/s]"
      ]
     },
     "metadata": {},
     "output_type": "display_data"
    },
    {
     "data": {
      "application/vnd.jupyter.widget-view+json": {
       "model_id": "",
       "version_major": 2,
       "version_minor": 0
      },
      "text/plain": [
       "  0%|          | 0/50 [00:00<?, ?it/s]"
      ]
     },
     "metadata": {},
     "output_type": "display_data"
    },
    {
     "data": {
      "application/vnd.jupyter.widget-view+json": {
       "model_id": "",
       "version_major": 2,
       "version_minor": 0
      },
      "text/plain": [
       "  0%|          | 0/50 [00:00<?, ?it/s]"
      ]
     },
     "metadata": {},
     "output_type": "display_data"
    },
    {
     "data": {
      "application/vnd.jupyter.widget-view+json": {
       "model_id": "",
       "version_major": 2,
       "version_minor": 0
      },
      "text/plain": [
       "  0%|          | 0/50 [00:00<?, ?it/s]"
      ]
     },
     "metadata": {},
     "output_type": "display_data"
    },
    {
     "data": {
      "application/vnd.jupyter.widget-view+json": {
       "model_id": "",
       "version_major": 2,
       "version_minor": 0
      },
      "text/plain": [
       "  0%|          | 0/50 [00:00<?, ?it/s]"
      ]
     },
     "metadata": {},
     "output_type": "display_data"
    },
    {
     "data": {
      "application/vnd.jupyter.widget-view+json": {
       "model_id": "",
       "version_major": 2,
       "version_minor": 0
      },
      "text/plain": [
       "  0%|          | 0/50 [00:00<?, ?it/s]"
      ]
     },
     "metadata": {},
     "output_type": "display_data"
    },
    {
     "data": {
      "application/vnd.jupyter.widget-view+json": {
       "model_id": "",
       "version_major": 2,
       "version_minor": 0
      },
      "text/plain": [
       "  0%|          | 0/50 [00:00<?, ?it/s]"
      ]
     },
     "metadata": {},
     "output_type": "display_data"
    },
    {
     "data": {
      "application/vnd.jupyter.widget-view+json": {
       "model_id": "",
       "version_major": 2,
       "version_minor": 0
      },
      "text/plain": [
       "  0%|          | 0/50 [00:00<?, ?it/s]"
      ]
     },
     "metadata": {},
     "output_type": "display_data"
    },
    {
     "data": {
      "application/vnd.jupyter.widget-view+json": {
       "model_id": "",
       "version_major": 2,
       "version_minor": 0
      },
      "text/plain": [
       "  0%|          | 0/50 [00:00<?, ?it/s]"
      ]
     },
     "metadata": {},
     "output_type": "display_data"
    },
    {
     "data": {
      "application/vnd.jupyter.widget-view+json": {
       "model_id": "",
       "version_major": 2,
       "version_minor": 0
      },
      "text/plain": [
       "  0%|          | 0/50 [00:00<?, ?it/s]"
      ]
     },
     "metadata": {},
     "output_type": "display_data"
    },
    {
     "data": {
      "application/vnd.jupyter.widget-view+json": {
       "model_id": "",
       "version_major": 2,
       "version_minor": 0
      },
      "text/plain": [
       "  0%|          | 0/48 [00:00<?, ?it/s]"
      ]
     },
     "metadata": {},
     "output_type": "display_data"
    },
    {
     "data": {
      "application/vnd.jupyter.widget-view+json": {
       "model_id": "",
       "version_major": 2,
       "version_minor": 0
      },
      "text/plain": [
       "  0%|          | 0/50 [00:00<?, ?it/s]"
      ]
     },
     "metadata": {},
     "output_type": "display_data"
    },
    {
     "data": {
      "application/vnd.jupyter.widget-view+json": {
       "model_id": "",
       "version_major": 2,
       "version_minor": 0
      },
      "text/plain": [
       "  0%|          | 0/50 [00:00<?, ?it/s]"
      ]
     },
     "metadata": {},
     "output_type": "display_data"
    },
    {
     "data": {
      "application/vnd.jupyter.widget-view+json": {
       "model_id": "",
       "version_major": 2,
       "version_minor": 0
      },
      "text/plain": [
       "  0%|          | 0/16 [00:00<?, ?it/s]"
      ]
     },
     "metadata": {},
     "output_type": "display_data"
    },
    {
     "data": {
      "application/vnd.jupyter.widget-view+json": {
       "model_id": "",
       "version_major": 2,
       "version_minor": 0
      },
      "text/plain": [
       "  0%|          | 0/50 [00:00<?, ?it/s]"
      ]
     },
     "metadata": {},
     "output_type": "display_data"
    },
    {
     "data": {
      "application/vnd.jupyter.widget-view+json": {
       "model_id": "",
       "version_major": 2,
       "version_minor": 0
      },
      "text/plain": [
       "  0%|          | 0/50 [00:00<?, ?it/s]"
      ]
     },
     "metadata": {},
     "output_type": "display_data"
    },
    {
     "data": {
      "application/vnd.jupyter.widget-view+json": {
       "model_id": "",
       "version_major": 2,
       "version_minor": 0
      },
      "text/plain": [
       "  0%|          | 0/50 [00:00<?, ?it/s]"
      ]
     },
     "metadata": {},
     "output_type": "display_data"
    },
    {
     "data": {
      "application/vnd.jupyter.widget-view+json": {
       "model_id": "",
       "version_major": 2,
       "version_minor": 0
      },
      "text/plain": [
       "  0%|          | 0/50 [00:00<?, ?it/s]"
      ]
     },
     "metadata": {},
     "output_type": "display_data"
    },
    {
     "data": {
      "application/vnd.jupyter.widget-view+json": {
       "model_id": "",
       "version_major": 2,
       "version_minor": 0
      },
      "text/plain": [
       "  0%|          | 0/50 [00:00<?, ?it/s]"
      ]
     },
     "metadata": {},
     "output_type": "display_data"
    },
    {
     "data": {
      "application/vnd.jupyter.widget-view+json": {
       "model_id": "",
       "version_major": 2,
       "version_minor": 0
      },
      "text/plain": [
       "  0%|          | 0/50 [00:00<?, ?it/s]"
      ]
     },
     "metadata": {},
     "output_type": "display_data"
    },
    {
     "data": {
      "application/vnd.jupyter.widget-view+json": {
       "model_id": "",
       "version_major": 2,
       "version_minor": 0
      },
      "text/plain": [
       "  0%|          | 0/50 [00:00<?, ?it/s]"
      ]
     },
     "metadata": {},
     "output_type": "display_data"
    },
    {
     "data": {
      "application/vnd.jupyter.widget-view+json": {
       "model_id": "",
       "version_major": 2,
       "version_minor": 0
      },
      "text/plain": [
       "  0%|          | 0/50 [00:00<?, ?it/s]"
      ]
     },
     "metadata": {},
     "output_type": "display_data"
    },
    {
     "data": {
      "application/vnd.jupyter.widget-view+json": {
       "model_id": "",
       "version_major": 2,
       "version_minor": 0
      },
      "text/plain": [
       "  0%|          | 0/50 [00:00<?, ?it/s]"
      ]
     },
     "metadata": {},
     "output_type": "display_data"
    },
    {
     "data": {
      "application/vnd.jupyter.widget-view+json": {
       "model_id": "",
       "version_major": 2,
       "version_minor": 0
      },
      "text/plain": [
       "  0%|          | 0/50 [00:00<?, ?it/s]"
      ]
     },
     "metadata": {},
     "output_type": "display_data"
    },
    {
     "data": {
      "application/vnd.jupyter.widget-view+json": {
       "model_id": "",
       "version_major": 2,
       "version_minor": 0
      },
      "text/plain": [
       "  0%|          | 0/50 [00:00<?, ?it/s]"
      ]
     },
     "metadata": {},
     "output_type": "display_data"
    },
    {
     "data": {
      "application/vnd.jupyter.widget-view+json": {
       "model_id": "",
       "version_major": 2,
       "version_minor": 0
      },
      "text/plain": [
       "  0%|          | 0/50 [00:00<?, ?it/s]"
      ]
     },
     "metadata": {},
     "output_type": "display_data"
    },
    {
     "data": {
      "application/vnd.jupyter.widget-view+json": {
       "model_id": "",
       "version_major": 2,
       "version_minor": 0
      },
      "text/plain": [
       "  0%|          | 0/50 [00:00<?, ?it/s]"
      ]
     },
     "metadata": {},
     "output_type": "display_data"
    },
    {
     "data": {
      "application/vnd.jupyter.widget-view+json": {
       "model_id": "",
       "version_major": 2,
       "version_minor": 0
      },
      "text/plain": [
       "  0%|          | 0/50 [00:00<?, ?it/s]"
      ]
     },
     "metadata": {},
     "output_type": "display_data"
    },
    {
     "data": {
      "application/vnd.jupyter.widget-view+json": {
       "model_id": "",
       "version_major": 2,
       "version_minor": 0
      },
      "text/plain": [
       "  0%|          | 0/50 [00:00<?, ?it/s]"
      ]
     },
     "metadata": {},
     "output_type": "display_data"
    },
    {
     "data": {
      "application/vnd.jupyter.widget-view+json": {
       "model_id": "",
       "version_major": 2,
       "version_minor": 0
      },
      "text/plain": [
       "  0%|          | 0/50 [00:00<?, ?it/s]"
      ]
     },
     "metadata": {},
     "output_type": "display_data"
    },
    {
     "data": {
      "application/vnd.jupyter.widget-view+json": {
       "model_id": "",
       "version_major": 2,
       "version_minor": 0
      },
      "text/plain": [
       "  0%|          | 0/50 [00:00<?, ?it/s]"
      ]
     },
     "metadata": {},
     "output_type": "display_data"
    },
    {
     "data": {
      "application/vnd.jupyter.widget-view+json": {
       "model_id": "",
       "version_major": 2,
       "version_minor": 0
      },
      "text/plain": [
       "  0%|          | 0/50 [00:00<?, ?it/s]"
      ]
     },
     "metadata": {},
     "output_type": "display_data"
    },
    {
     "data": {
      "application/vnd.jupyter.widget-view+json": {
       "model_id": "",
       "version_major": 2,
       "version_minor": 0
      },
      "text/plain": [
       "  0%|          | 0/50 [00:00<?, ?it/s]"
      ]
     },
     "metadata": {},
     "output_type": "display_data"
    },
    {
     "data": {
      "application/vnd.jupyter.widget-view+json": {
       "model_id": "",
       "version_major": 2,
       "version_minor": 0
      },
      "text/plain": [
       "  0%|          | 0/50 [00:00<?, ?it/s]"
      ]
     },
     "metadata": {},
     "output_type": "display_data"
    },
    {
     "data": {
      "application/vnd.jupyter.widget-view+json": {
       "model_id": "",
       "version_major": 2,
       "version_minor": 0
      },
      "text/plain": [
       "  0%|          | 0/50 [00:00<?, ?it/s]"
      ]
     },
     "metadata": {},
     "output_type": "display_data"
    },
    {
     "data": {
      "application/vnd.jupyter.widget-view+json": {
       "model_id": "",
       "version_major": 2,
       "version_minor": 0
      },
      "text/plain": [
       "  0%|          | 0/50 [00:00<?, ?it/s]"
      ]
     },
     "metadata": {},
     "output_type": "display_data"
    },
    {
     "data": {
      "application/vnd.jupyter.widget-view+json": {
       "model_id": "",
       "version_major": 2,
       "version_minor": 0
      },
      "text/plain": [
       "  0%|          | 0/50 [00:00<?, ?it/s]"
      ]
     },
     "metadata": {},
     "output_type": "display_data"
    },
    {
     "data": {
      "application/vnd.jupyter.widget-view+json": {
       "model_id": "",
       "version_major": 2,
       "version_minor": 0
      },
      "text/plain": [
       "  0%|          | 0/50 [00:00<?, ?it/s]"
      ]
     },
     "metadata": {},
     "output_type": "display_data"
    },
    {
     "data": {
      "application/vnd.jupyter.widget-view+json": {
       "model_id": "",
       "version_major": 2,
       "version_minor": 0
      },
      "text/plain": [
       "  0%|          | 0/50 [00:00<?, ?it/s]"
      ]
     },
     "metadata": {},
     "output_type": "display_data"
    },
    {
     "data": {
      "application/vnd.jupyter.widget-view+json": {
       "model_id": "",
       "version_major": 2,
       "version_minor": 0
      },
      "text/plain": [
       "  0%|          | 0/50 [00:00<?, ?it/s]"
      ]
     },
     "metadata": {},
     "output_type": "display_data"
    },
    {
     "data": {
      "application/vnd.jupyter.widget-view+json": {
       "model_id": "",
       "version_major": 2,
       "version_minor": 0
      },
      "text/plain": [
       "  0%|          | 0/50 [00:00<?, ?it/s]"
      ]
     },
     "metadata": {},
     "output_type": "display_data"
    },
    {
     "data": {
      "application/vnd.jupyter.widget-view+json": {
       "model_id": "",
       "version_major": 2,
       "version_minor": 0
      },
      "text/plain": [
       "  0%|          | 0/50 [00:00<?, ?it/s]"
      ]
     },
     "metadata": {},
     "output_type": "display_data"
    },
    {
     "data": {
      "application/vnd.jupyter.widget-view+json": {
       "model_id": "",
       "version_major": 2,
       "version_minor": 0
      },
      "text/plain": [
       "  0%|          | 0/50 [00:00<?, ?it/s]"
      ]
     },
     "metadata": {},
     "output_type": "display_data"
    },
    {
     "data": {
      "application/vnd.jupyter.widget-view+json": {
       "model_id": "",
       "version_major": 2,
       "version_minor": 0
      },
      "text/plain": [
       "  0%|          | 0/50 [00:00<?, ?it/s]"
      ]
     },
     "metadata": {},
     "output_type": "display_data"
    },
    {
     "data": {
      "application/vnd.jupyter.widget-view+json": {
       "model_id": "",
       "version_major": 2,
       "version_minor": 0
      },
      "text/plain": [
       "  0%|          | 0/50 [00:00<?, ?it/s]"
      ]
     },
     "metadata": {},
     "output_type": "display_data"
    },
    {
     "data": {
      "application/vnd.jupyter.widget-view+json": {
       "model_id": "",
       "version_major": 2,
       "version_minor": 0
      },
      "text/plain": [
       "  0%|          | 0/50 [00:00<?, ?it/s]"
      ]
     },
     "metadata": {},
     "output_type": "display_data"
    },
    {
     "data": {
      "application/vnd.jupyter.widget-view+json": {
       "model_id": "",
       "version_major": 2,
       "version_minor": 0
      },
      "text/plain": [
       "  0%|          | 0/50 [00:00<?, ?it/s]"
      ]
     },
     "metadata": {},
     "output_type": "display_data"
    },
    {
     "data": {
      "application/vnd.jupyter.widget-view+json": {
       "model_id": "",
       "version_major": 2,
       "version_minor": 0
      },
      "text/plain": [
       "  0%|          | 0/50 [00:00<?, ?it/s]"
      ]
     },
     "metadata": {},
     "output_type": "display_data"
    },
    {
     "data": {
      "application/vnd.jupyter.widget-view+json": {
       "model_id": "",
       "version_major": 2,
       "version_minor": 0
      },
      "text/plain": [
       "  0%|          | 0/50 [00:00<?, ?it/s]"
      ]
     },
     "metadata": {},
     "output_type": "display_data"
    },
    {
     "data": {
      "application/vnd.jupyter.widget-view+json": {
       "model_id": "",
       "version_major": 2,
       "version_minor": 0
      },
      "text/plain": [
       "  0%|          | 0/50 [00:00<?, ?it/s]"
      ]
     },
     "metadata": {},
     "output_type": "display_data"
    },
    {
     "data": {
      "application/vnd.jupyter.widget-view+json": {
       "model_id": "",
       "version_major": 2,
       "version_minor": 0
      },
      "text/plain": [
       "  0%|          | 0/50 [00:00<?, ?it/s]"
      ]
     },
     "metadata": {},
     "output_type": "display_data"
    },
    {
     "data": {
      "application/vnd.jupyter.widget-view+json": {
       "model_id": "",
       "version_major": 2,
       "version_minor": 0
      },
      "text/plain": [
       "  0%|          | 0/50 [00:00<?, ?it/s]"
      ]
     },
     "metadata": {},
     "output_type": "display_data"
    },
    {
     "data": {
      "application/vnd.jupyter.widget-view+json": {
       "model_id": "",
       "version_major": 2,
       "version_minor": 0
      },
      "text/plain": [
       "  0%|          | 0/50 [00:00<?, ?it/s]"
      ]
     },
     "metadata": {},
     "output_type": "display_data"
    },
    {
     "data": {
      "application/vnd.jupyter.widget-view+json": {
       "model_id": "",
       "version_major": 2,
       "version_minor": 0
      },
      "text/plain": [
       "  0%|          | 0/50 [00:00<?, ?it/s]"
      ]
     },
     "metadata": {},
     "output_type": "display_data"
    },
    {
     "data": {
      "application/vnd.jupyter.widget-view+json": {
       "model_id": "",
       "version_major": 2,
       "version_minor": 0
      },
      "text/plain": [
       "  0%|          | 0/50 [00:00<?, ?it/s]"
      ]
     },
     "metadata": {},
     "output_type": "display_data"
    },
    {
     "data": {
      "application/vnd.jupyter.widget-view+json": {
       "model_id": "",
       "version_major": 2,
       "version_minor": 0
      },
      "text/plain": [
       "  0%|          | 0/50 [00:00<?, ?it/s]"
      ]
     },
     "metadata": {},
     "output_type": "display_data"
    },
    {
     "data": {
      "application/vnd.jupyter.widget-view+json": {
       "model_id": "",
       "version_major": 2,
       "version_minor": 0
      },
      "text/plain": [
       "  0%|          | 0/50 [00:00<?, ?it/s]"
      ]
     },
     "metadata": {},
     "output_type": "display_data"
    },
    {
     "data": {
      "application/vnd.jupyter.widget-view+json": {
       "model_id": "",
       "version_major": 2,
       "version_minor": 0
      },
      "text/plain": [
       "  0%|          | 0/50 [00:00<?, ?it/s]"
      ]
     },
     "metadata": {},
     "output_type": "display_data"
    },
    {
     "data": {
      "application/vnd.jupyter.widget-view+json": {
       "model_id": "",
       "version_major": 2,
       "version_minor": 0
      },
      "text/plain": [
       "  0%|          | 0/50 [00:00<?, ?it/s]"
      ]
     },
     "metadata": {},
     "output_type": "display_data"
    },
    {
     "data": {
      "application/vnd.jupyter.widget-view+json": {
       "model_id": "",
       "version_major": 2,
       "version_minor": 0
      },
      "text/plain": [
       "  0%|          | 0/50 [00:00<?, ?it/s]"
      ]
     },
     "metadata": {},
     "output_type": "display_data"
    },
    {
     "data": {
      "application/vnd.jupyter.widget-view+json": {
       "model_id": "",
       "version_major": 2,
       "version_minor": 0
      },
      "text/plain": [
       "  0%|          | 0/50 [00:00<?, ?it/s]"
      ]
     },
     "metadata": {},
     "output_type": "display_data"
    },
    {
     "data": {
      "application/vnd.jupyter.widget-view+json": {
       "model_id": "",
       "version_major": 2,
       "version_minor": 0
      },
      "text/plain": [
       "  0%|          | 0/50 [00:00<?, ?it/s]"
      ]
     },
     "metadata": {},
     "output_type": "display_data"
    },
    {
     "data": {
      "application/vnd.jupyter.widget-view+json": {
       "model_id": "",
       "version_major": 2,
       "version_minor": 0
      },
      "text/plain": [
       "  0%|          | 0/50 [00:00<?, ?it/s]"
      ]
     },
     "metadata": {},
     "output_type": "display_data"
    },
    {
     "data": {
      "application/vnd.jupyter.widget-view+json": {
       "model_id": "",
       "version_major": 2,
       "version_minor": 0
      },
      "text/plain": [
       "  0%|          | 0/50 [00:00<?, ?it/s]"
      ]
     },
     "metadata": {},
     "output_type": "display_data"
    },
    {
     "data": {
      "application/vnd.jupyter.widget-view+json": {
       "model_id": "",
       "version_major": 2,
       "version_minor": 0
      },
      "text/plain": [
       "  0%|          | 0/50 [00:00<?, ?it/s]"
      ]
     },
     "metadata": {},
     "output_type": "display_data"
    },
    {
     "data": {
      "application/vnd.jupyter.widget-view+json": {
       "model_id": "",
       "version_major": 2,
       "version_minor": 0
      },
      "text/plain": [
       "  0%|          | 0/50 [00:00<?, ?it/s]"
      ]
     },
     "metadata": {},
     "output_type": "display_data"
    },
    {
     "data": {
      "application/vnd.jupyter.widget-view+json": {
       "model_id": "",
       "version_major": 2,
       "version_minor": 0
      },
      "text/plain": [
       "  0%|          | 0/49 [00:00<?, ?it/s]"
      ]
     },
     "metadata": {},
     "output_type": "display_data"
    },
    {
     "data": {
      "application/vnd.jupyter.widget-view+json": {
       "model_id": "",
       "version_major": 2,
       "version_minor": 0
      },
      "text/plain": [
       "  0%|          | 0/50 [00:00<?, ?it/s]"
      ]
     },
     "metadata": {},
     "output_type": "display_data"
    },
    {
     "data": {
      "application/vnd.jupyter.widget-view+json": {
       "model_id": "",
       "version_major": 2,
       "version_minor": 0
      },
      "text/plain": [
       "  0%|          | 0/50 [00:00<?, ?it/s]"
      ]
     },
     "metadata": {},
     "output_type": "display_data"
    },
    {
     "data": {
      "application/vnd.jupyter.widget-view+json": {
       "model_id": "",
       "version_major": 2,
       "version_minor": 0
      },
      "text/plain": [
       "  0%|          | 0/50 [00:00<?, ?it/s]"
      ]
     },
     "metadata": {},
     "output_type": "display_data"
    },
    {
     "data": {
      "application/vnd.jupyter.widget-view+json": {
       "model_id": "",
       "version_major": 2,
       "version_minor": 0
      },
      "text/plain": [
       "  0%|          | 0/50 [00:00<?, ?it/s]"
      ]
     },
     "metadata": {},
     "output_type": "display_data"
    },
    {
     "data": {
      "application/vnd.jupyter.widget-view+json": {
       "model_id": "",
       "version_major": 2,
       "version_minor": 0
      },
      "text/plain": [
       "  0%|          | 0/50 [00:00<?, ?it/s]"
      ]
     },
     "metadata": {},
     "output_type": "display_data"
    },
    {
     "data": {
      "application/vnd.jupyter.widget-view+json": {
       "model_id": "",
       "version_major": 2,
       "version_minor": 0
      },
      "text/plain": [
       "  0%|          | 0/50 [00:00<?, ?it/s]"
      ]
     },
     "metadata": {},
     "output_type": "display_data"
    },
    {
     "data": {
      "application/vnd.jupyter.widget-view+json": {
       "model_id": "",
       "version_major": 2,
       "version_minor": 0
      },
      "text/plain": [
       "  0%|          | 0/49 [00:00<?, ?it/s]"
      ]
     },
     "metadata": {},
     "output_type": "display_data"
    },
    {
     "data": {
      "application/vnd.jupyter.widget-view+json": {
       "model_id": "",
       "version_major": 2,
       "version_minor": 0
      },
      "text/plain": [
       "  0%|          | 0/50 [00:00<?, ?it/s]"
      ]
     },
     "metadata": {},
     "output_type": "display_data"
    },
    {
     "data": {
      "application/vnd.jupyter.widget-view+json": {
       "model_id": "",
       "version_major": 2,
       "version_minor": 0
      },
      "text/plain": [
       "  0%|          | 0/50 [00:00<?, ?it/s]"
      ]
     },
     "metadata": {},
     "output_type": "display_data"
    },
    {
     "data": {
      "application/vnd.jupyter.widget-view+json": {
       "model_id": "",
       "version_major": 2,
       "version_minor": 0
      },
      "text/plain": [
       "  0%|          | 0/50 [00:00<?, ?it/s]"
      ]
     },
     "metadata": {},
     "output_type": "display_data"
    },
    {
     "data": {
      "application/vnd.jupyter.widget-view+json": {
       "model_id": "",
       "version_major": 2,
       "version_minor": 0
      },
      "text/plain": [
       "  0%|          | 0/50 [00:00<?, ?it/s]"
      ]
     },
     "metadata": {},
     "output_type": "display_data"
    },
    {
     "data": {
      "application/vnd.jupyter.widget-view+json": {
       "model_id": "",
       "version_major": 2,
       "version_minor": 0
      },
      "text/plain": [
       "  0%|          | 0/50 [00:00<?, ?it/s]"
      ]
     },
     "metadata": {},
     "output_type": "display_data"
    },
    {
     "data": {
      "application/vnd.jupyter.widget-view+json": {
       "model_id": "",
       "version_major": 2,
       "version_minor": 0
      },
      "text/plain": [
       "  0%|          | 0/50 [00:00<?, ?it/s]"
      ]
     },
     "metadata": {},
     "output_type": "display_data"
    },
    {
     "data": {
      "application/vnd.jupyter.widget-view+json": {
       "model_id": "",
       "version_major": 2,
       "version_minor": 0
      },
      "text/plain": [
       "  0%|          | 0/50 [00:00<?, ?it/s]"
      ]
     },
     "metadata": {},
     "output_type": "display_data"
    },
    {
     "data": {
      "application/vnd.jupyter.widget-view+json": {
       "model_id": "",
       "version_major": 2,
       "version_minor": 0
      },
      "text/plain": [
       "  0%|          | 0/49 [00:00<?, ?it/s]"
      ]
     },
     "metadata": {},
     "output_type": "display_data"
    },
    {
     "data": {
      "application/vnd.jupyter.widget-view+json": {
       "model_id": "",
       "version_major": 2,
       "version_minor": 0
      },
      "text/plain": [
       "  0%|          | 0/50 [00:00<?, ?it/s]"
      ]
     },
     "metadata": {},
     "output_type": "display_data"
    },
    {
     "data": {
      "application/vnd.jupyter.widget-view+json": {
       "model_id": "",
       "version_major": 2,
       "version_minor": 0
      },
      "text/plain": [
       "  0%|          | 0/50 [00:00<?, ?it/s]"
      ]
     },
     "metadata": {},
     "output_type": "display_data"
    },
    {
     "data": {
      "application/vnd.jupyter.widget-view+json": {
       "model_id": "",
       "version_major": 2,
       "version_minor": 0
      },
      "text/plain": [
       "  0%|          | 0/50 [00:00<?, ?it/s]"
      ]
     },
     "metadata": {},
     "output_type": "display_data"
    },
    {
     "data": {
      "application/vnd.jupyter.widget-view+json": {
       "model_id": "",
       "version_major": 2,
       "version_minor": 0
      },
      "text/plain": [
       "  0%|          | 0/50 [00:00<?, ?it/s]"
      ]
     },
     "metadata": {},
     "output_type": "display_data"
    },
    {
     "data": {
      "application/vnd.jupyter.widget-view+json": {
       "model_id": "",
       "version_major": 2,
       "version_minor": 0
      },
      "text/plain": [
       "  0%|          | 0/50 [00:00<?, ?it/s]"
      ]
     },
     "metadata": {},
     "output_type": "display_data"
    },
    {
     "data": {
      "application/vnd.jupyter.widget-view+json": {
       "model_id": "",
       "version_major": 2,
       "version_minor": 0
      },
      "text/plain": [
       "  0%|          | 0/50 [00:00<?, ?it/s]"
      ]
     },
     "metadata": {},
     "output_type": "display_data"
    },
    {
     "data": {
      "application/vnd.jupyter.widget-view+json": {
       "model_id": "",
       "version_major": 2,
       "version_minor": 0
      },
      "text/plain": [
       "  0%|          | 0/50 [00:00<?, ?it/s]"
      ]
     },
     "metadata": {},
     "output_type": "display_data"
    },
    {
     "data": {
      "application/vnd.jupyter.widget-view+json": {
       "model_id": "",
       "version_major": 2,
       "version_minor": 0
      },
      "text/plain": [
       "  0%|          | 0/50 [00:00<?, ?it/s]"
      ]
     },
     "metadata": {},
     "output_type": "display_data"
    },
    {
     "data": {
      "application/vnd.jupyter.widget-view+json": {
       "model_id": "",
       "version_major": 2,
       "version_minor": 0
      },
      "text/plain": [
       "  0%|          | 0/50 [00:00<?, ?it/s]"
      ]
     },
     "metadata": {},
     "output_type": "display_data"
    },
    {
     "data": {
      "application/vnd.jupyter.widget-view+json": {
       "model_id": "",
       "version_major": 2,
       "version_minor": 0
      },
      "text/plain": [
       "  0%|          | 0/50 [00:00<?, ?it/s]"
      ]
     },
     "metadata": {},
     "output_type": "display_data"
    },
    {
     "data": {
      "application/vnd.jupyter.widget-view+json": {
       "model_id": "",
       "version_major": 2,
       "version_minor": 0
      },
      "text/plain": [
       "  0%|          | 0/50 [00:00<?, ?it/s]"
      ]
     },
     "metadata": {},
     "output_type": "display_data"
    },
    {
     "data": {
      "application/vnd.jupyter.widget-view+json": {
       "model_id": "",
       "version_major": 2,
       "version_minor": 0
      },
      "text/plain": [
       "  0%|          | 0/50 [00:00<?, ?it/s]"
      ]
     },
     "metadata": {},
     "output_type": "display_data"
    },
    {
     "data": {
      "application/vnd.jupyter.widget-view+json": {
       "model_id": "",
       "version_major": 2,
       "version_minor": 0
      },
      "text/plain": [
       "  0%|          | 0/50 [00:00<?, ?it/s]"
      ]
     },
     "metadata": {},
     "output_type": "display_data"
    },
    {
     "data": {
      "application/vnd.jupyter.widget-view+json": {
       "model_id": "",
       "version_major": 2,
       "version_minor": 0
      },
      "text/plain": [
       "  0%|          | 0/50 [00:00<?, ?it/s]"
      ]
     },
     "metadata": {},
     "output_type": "display_data"
    },
    {
     "data": {
      "application/vnd.jupyter.widget-view+json": {
       "model_id": "",
       "version_major": 2,
       "version_minor": 0
      },
      "text/plain": [
       "  0%|          | 0/50 [00:00<?, ?it/s]"
      ]
     },
     "metadata": {},
     "output_type": "display_data"
    },
    {
     "data": {
      "application/vnd.jupyter.widget-view+json": {
       "model_id": "",
       "version_major": 2,
       "version_minor": 0
      },
      "text/plain": [
       "  0%|          | 0/50 [00:00<?, ?it/s]"
      ]
     },
     "metadata": {},
     "output_type": "display_data"
    },
    {
     "data": {
      "application/vnd.jupyter.widget-view+json": {
       "model_id": "",
       "version_major": 2,
       "version_minor": 0
      },
      "text/plain": [
       "  0%|          | 0/50 [00:00<?, ?it/s]"
      ]
     },
     "metadata": {},
     "output_type": "display_data"
    },
    {
     "data": {
      "application/vnd.jupyter.widget-view+json": {
       "model_id": "",
       "version_major": 2,
       "version_minor": 0
      },
      "text/plain": [
       "  0%|          | 0/50 [00:00<?, ?it/s]"
      ]
     },
     "metadata": {},
     "output_type": "display_data"
    },
    {
     "data": {
      "application/vnd.jupyter.widget-view+json": {
       "model_id": "",
       "version_major": 2,
       "version_minor": 0
      },
      "text/plain": [
       "  0%|          | 0/50 [00:00<?, ?it/s]"
      ]
     },
     "metadata": {},
     "output_type": "display_data"
    },
    {
     "data": {
      "application/vnd.jupyter.widget-view+json": {
       "model_id": "",
       "version_major": 2,
       "version_minor": 0
      },
      "text/plain": [
       "  0%|          | 0/50 [00:00<?, ?it/s]"
      ]
     },
     "metadata": {},
     "output_type": "display_data"
    },
    {
     "data": {
      "application/vnd.jupyter.widget-view+json": {
       "model_id": "",
       "version_major": 2,
       "version_minor": 0
      },
      "text/plain": [
       "  0%|          | 0/49 [00:00<?, ?it/s]"
      ]
     },
     "metadata": {},
     "output_type": "display_data"
    },
    {
     "data": {
      "application/vnd.jupyter.widget-view+json": {
       "model_id": "",
       "version_major": 2,
       "version_minor": 0
      },
      "text/plain": [
       "  0%|          | 0/50 [00:00<?, ?it/s]"
      ]
     },
     "metadata": {},
     "output_type": "display_data"
    },
    {
     "data": {
      "application/vnd.jupyter.widget-view+json": {
       "model_id": "",
       "version_major": 2,
       "version_minor": 0
      },
      "text/plain": [
       "  0%|          | 0/50 [00:00<?, ?it/s]"
      ]
     },
     "metadata": {},
     "output_type": "display_data"
    },
    {
     "data": {
      "application/vnd.jupyter.widget-view+json": {
       "model_id": "",
       "version_major": 2,
       "version_minor": 0
      },
      "text/plain": [
       "  0%|          | 0/50 [00:00<?, ?it/s]"
      ]
     },
     "metadata": {},
     "output_type": "display_data"
    },
    {
     "data": {
      "application/vnd.jupyter.widget-view+json": {
       "model_id": "",
       "version_major": 2,
       "version_minor": 0
      },
      "text/plain": [
       "  0%|          | 0/50 [00:00<?, ?it/s]"
      ]
     },
     "metadata": {},
     "output_type": "display_data"
    },
    {
     "data": {
      "application/vnd.jupyter.widget-view+json": {
       "model_id": "",
       "version_major": 2,
       "version_minor": 0
      },
      "text/plain": [
       "  0%|          | 0/50 [00:00<?, ?it/s]"
      ]
     },
     "metadata": {},
     "output_type": "display_data"
    },
    {
     "data": {
      "application/vnd.jupyter.widget-view+json": {
       "model_id": "",
       "version_major": 2,
       "version_minor": 0
      },
      "text/plain": [
       "  0%|          | 0/50 [00:00<?, ?it/s]"
      ]
     },
     "metadata": {},
     "output_type": "display_data"
    },
    {
     "data": {
      "application/vnd.jupyter.widget-view+json": {
       "model_id": "",
       "version_major": 2,
       "version_minor": 0
      },
      "text/plain": [
       "  0%|          | 0/50 [00:00<?, ?it/s]"
      ]
     },
     "metadata": {},
     "output_type": "display_data"
    }
   ],
   "source": [
    "from tqdm.notebook import tqdm  # Use this if in a Jupyter environment\n",
    "block_df_l = []\n",
    "for file in tqdm(sorted(list(block_data_path.glob(\"*.csv\"))), desc=\"Processing Blocks..\"):\n",
    "    block_df = pd.read_csv(file, parse_dates=False)\n",
    "    block_df['day'] = pd.to_datetime(block_df['day'], yearfirst=True)\n",
    "    # Taking only from 2015-01-01 instead of 2012\n",
    "    block_df = block_df.loc[block_df['day']>=\"2012-01-01\"]\n",
    "    #Reshaping the dataframe into the long form with hour blocks along the rows\n",
    "    block_df = block_df.set_index(['LCLid', \"day\"]).stack().reset_index().rename(columns={\"level_2\": \"hour_block\", 0: \"energy_consumption\"})\n",
    "    #Creating a numerical hourblock column\n",
    "    block_df['offset'] = block_df['hour_block'].str.replace(\"hh_\", \"\").astype(int)\n",
    "    block_df_l.append(load_process_block_compact(block_df, freq=\"30min\", ts_identifier=\"LCLid\", value_name=\"energy_consumption\"))"
   ]
  },
  {
   "cell_type": "code",
   "execution_count": 91,
   "id": "e2334663-867e-448e-82e3-8d796872b2ee",
   "metadata": {
    "tags": []
   },
   "outputs": [
    {
     "data": {
      "text/plain": [
       "Index                  44480\n",
       "LCLid                 322480\n",
       "start_timestamp        44480\n",
       "frequency             300240\n",
       "energy_consumption    667200\n",
       "series_length          44480\n",
       "dtype: int64"
      ]
     },
     "metadata": {},
     "output_type": "display_data"
    },
    {
     "name": "stdout",
     "output_type": "stream",
     "text": [
      "Total: 1.357421875 MB\n"
     ]
    }
   ],
   "source": [
    "hhblock_df = pd.concat(block_df_l)\n",
    "del block_df_l\n",
    "display(hhblock_df.memory_usage(deep=True))\n",
    "print(f\"Total: {hhblock_df.memory_usage(deep=True).sum()/1024**2} MB\")"
   ]
  },
  {
   "cell_type": "code",
   "execution_count": 93,
   "id": "3395b1b5-4f51-4ea4-979c-92720896e364",
   "metadata": {},
   "outputs": [
    {
     "data": {
      "text/html": [
       "<div>\n",
       "<style scoped>\n",
       "    .dataframe tbody tr th:only-of-type {\n",
       "        vertical-align: middle;\n",
       "    }\n",
       "\n",
       "    .dataframe tbody tr th {\n",
       "        vertical-align: top;\n",
       "    }\n",
       "\n",
       "    .dataframe thead th {\n",
       "        text-align: right;\n",
       "    }\n",
       "</style>\n",
       "<table border=\"1\" class=\"dataframe\">\n",
       "  <thead>\n",
       "    <tr style=\"text-align: right;\">\n",
       "      <th></th>\n",
       "      <th>LCLid</th>\n",
       "      <th>start_timestamp</th>\n",
       "      <th>frequency</th>\n",
       "      <th>energy_consumption</th>\n",
       "      <th>series_length</th>\n",
       "    </tr>\n",
       "  </thead>\n",
       "  <tbody>\n",
       "    <tr>\n",
       "      <th>0</th>\n",
       "      <td>MAC000002</td>\n",
       "      <td>2012-10-13</td>\n",
       "      <td>30min</td>\n",
       "      <td>[0.263, 0.2689999999999999, 0.275, 0.256, 0.21...</td>\n",
       "      <td>24144</td>\n",
       "    </tr>\n",
       "    <tr>\n",
       "      <th>1</th>\n",
       "      <td>MAC000246</td>\n",
       "      <td>2012-01-01</td>\n",
       "      <td>30min</td>\n",
       "      <td>[0.509, 0.317, 0.253, 0.249, 0.93, 0.607, 0.10...</td>\n",
       "      <td>37872</td>\n",
       "    </tr>\n",
       "    <tr>\n",
       "      <th>2</th>\n",
       "      <td>MAC000450</td>\n",
       "      <td>2012-03-23</td>\n",
       "      <td>30min</td>\n",
       "      <td>[1.337, 1.426, 0.996, 0.971, 0.994, 0.952, 0.8...</td>\n",
       "      <td>33936</td>\n",
       "    </tr>\n",
       "    <tr>\n",
       "      <th>3</th>\n",
       "      <td>MAC001074</td>\n",
       "      <td>2012-05-09</td>\n",
       "      <td>30min</td>\n",
       "      <td>[0.18, 0.086, 0.106, 0.173, 0.146, 0.223, 0.21...</td>\n",
       "      <td>31680</td>\n",
       "    </tr>\n",
       "    <tr>\n",
       "      <th>4</th>\n",
       "      <td>MAC003223</td>\n",
       "      <td>2012-09-18</td>\n",
       "      <td>30min</td>\n",
       "      <td>[0.076, 0.079, 0.123, 0.109, 0.051, 0.069, 0.0...</td>\n",
       "      <td>25344</td>\n",
       "    </tr>\n",
       "  </tbody>\n",
       "</table>\n",
       "</div>"
      ],
      "text/plain": [
       "       LCLid start_timestamp frequency  \\\n",
       "0  MAC000002      2012-10-13     30min   \n",
       "1  MAC000246      2012-01-01     30min   \n",
       "2  MAC000450      2012-03-23     30min   \n",
       "3  MAC001074      2012-05-09     30min   \n",
       "4  MAC003223      2012-09-18     30min   \n",
       "\n",
       "                                  energy_consumption  series_length  \n",
       "0  [0.263, 0.2689999999999999, 0.275, 0.256, 0.21...          24144  \n",
       "1  [0.509, 0.317, 0.253, 0.249, 0.93, 0.607, 0.10...          37872  \n",
       "2  [1.337, 1.426, 0.996, 0.971, 0.994, 0.952, 0.8...          33936  \n",
       "3  [0.18, 0.086, 0.106, 0.173, 0.146, 0.223, 0.21...          31680  \n",
       "4  [0.076, 0.079, 0.123, 0.109, 0.051, 0.069, 0.0...          25344  "
      ]
     },
     "execution_count": 93,
     "metadata": {},
     "output_type": "execute_result"
    }
   ],
   "source": [
    "hhblock_df.head()"
   ]
  },
  {
   "cell_type": "markdown",
   "id": "58329ca8-2d49-4ebd-a2dc-05399a4a616f",
   "metadata": {
    "tags": []
   },
   "source": [
    "### Merging additional information"
   ]
  },
  {
   "cell_type": "markdown",
   "id": "04d04aba-d859-489e-81e5-dcef0caa0d96",
   "metadata": {
    "tags": []
   },
   "source": [
    "#### Household information"
   ]
  },
  {
   "cell_type": "code",
   "execution_count": 95,
   "id": "f17e77aa-99c0-407e-9ab6-9a59bc56bf58",
   "metadata": {},
   "outputs": [
    {
     "data": {
      "text/html": [
       "<div>\n",
       "<style scoped>\n",
       "    .dataframe tbody tr th:only-of-type {\n",
       "        vertical-align: middle;\n",
       "    }\n",
       "\n",
       "    .dataframe tbody tr th {\n",
       "        vertical-align: top;\n",
       "    }\n",
       "\n",
       "    .dataframe thead th {\n",
       "        text-align: right;\n",
       "    }\n",
       "</style>\n",
       "<table border=\"1\" class=\"dataframe\">\n",
       "  <thead>\n",
       "    <tr style=\"text-align: right;\">\n",
       "      <th></th>\n",
       "      <th>LCLid</th>\n",
       "      <th>stdorToU</th>\n",
       "      <th>Acorn</th>\n",
       "      <th>Acorn_grouped</th>\n",
       "      <th>file</th>\n",
       "    </tr>\n",
       "  </thead>\n",
       "  <tbody>\n",
       "    <tr>\n",
       "      <th>0</th>\n",
       "      <td>MAC005492</td>\n",
       "      <td>ToU</td>\n",
       "      <td>ACORN-</td>\n",
       "      <td>ACORN-</td>\n",
       "      <td>block_0</td>\n",
       "    </tr>\n",
       "    <tr>\n",
       "      <th>1</th>\n",
       "      <td>MAC001074</td>\n",
       "      <td>ToU</td>\n",
       "      <td>ACORN-</td>\n",
       "      <td>ACORN-</td>\n",
       "      <td>block_0</td>\n",
       "    </tr>\n",
       "    <tr>\n",
       "      <th>2</th>\n",
       "      <td>MAC000002</td>\n",
       "      <td>Std</td>\n",
       "      <td>ACORN-A</td>\n",
       "      <td>Affluent</td>\n",
       "      <td>block_0</td>\n",
       "    </tr>\n",
       "    <tr>\n",
       "      <th>3</th>\n",
       "      <td>MAC003613</td>\n",
       "      <td>Std</td>\n",
       "      <td>ACORN-A</td>\n",
       "      <td>Affluent</td>\n",
       "      <td>block_0</td>\n",
       "    </tr>\n",
       "    <tr>\n",
       "      <th>4</th>\n",
       "      <td>MAC003597</td>\n",
       "      <td>Std</td>\n",
       "      <td>ACORN-A</td>\n",
       "      <td>Affluent</td>\n",
       "      <td>block_0</td>\n",
       "    </tr>\n",
       "  </tbody>\n",
       "</table>\n",
       "</div>"
      ],
      "text/plain": [
       "       LCLid stdorToU    Acorn Acorn_grouped     file\n",
       "0  MAC005492      ToU   ACORN-        ACORN-  block_0\n",
       "1  MAC001074      ToU   ACORN-        ACORN-  block_0\n",
       "2  MAC000002      Std  ACORN-A      Affluent  block_0\n",
       "3  MAC003613      Std  ACORN-A      Affluent  block_0\n",
       "4  MAC003597      Std  ACORN-A      Affluent  block_0"
      ]
     },
     "execution_count": 95,
     "metadata": {},
     "output_type": "execute_result"
    }
   ],
   "source": [
    "household_info = pd.read_csv(source_data/\"informations_households.csv\")\n",
    "household_info.head()"
   ]
  },
  {
   "cell_type": "code",
   "execution_count": 97,
   "id": "e047a646-7883-40d5-8423-bd469b0ab326",
   "metadata": {},
   "outputs": [
    {
     "data": {
      "text/html": [
       "<div>\n",
       "<style scoped>\n",
       "    .dataframe tbody tr th:only-of-type {\n",
       "        vertical-align: middle;\n",
       "    }\n",
       "\n",
       "    .dataframe tbody tr th {\n",
       "        vertical-align: top;\n",
       "    }\n",
       "\n",
       "    .dataframe thead th {\n",
       "        text-align: right;\n",
       "    }\n",
       "</style>\n",
       "<table border=\"1\" class=\"dataframe\">\n",
       "  <thead>\n",
       "    <tr style=\"text-align: right;\">\n",
       "      <th></th>\n",
       "      <th>LCLid</th>\n",
       "      <th>start_timestamp</th>\n",
       "      <th>frequency</th>\n",
       "      <th>energy_consumption</th>\n",
       "      <th>series_length</th>\n",
       "      <th>stdorToU</th>\n",
       "      <th>Acorn</th>\n",
       "      <th>Acorn_grouped</th>\n",
       "      <th>file</th>\n",
       "    </tr>\n",
       "  </thead>\n",
       "  <tbody>\n",
       "    <tr>\n",
       "      <th>0</th>\n",
       "      <td>MAC000002</td>\n",
       "      <td>2012-10-13</td>\n",
       "      <td>30min</td>\n",
       "      <td>[0.263, 0.2689999999999999, 0.275, 0.256, 0.21...</td>\n",
       "      <td>24144</td>\n",
       "      <td>Std</td>\n",
       "      <td>ACORN-A</td>\n",
       "      <td>Affluent</td>\n",
       "      <td>block_0</td>\n",
       "    </tr>\n",
       "    <tr>\n",
       "      <th>1</th>\n",
       "      <td>MAC000246</td>\n",
       "      <td>2012-01-01</td>\n",
       "      <td>30min</td>\n",
       "      <td>[0.509, 0.317, 0.253, 0.249, 0.93, 0.607, 0.10...</td>\n",
       "      <td>37872</td>\n",
       "      <td>Std</td>\n",
       "      <td>ACORN-A</td>\n",
       "      <td>Affluent</td>\n",
       "      <td>block_0</td>\n",
       "    </tr>\n",
       "    <tr>\n",
       "      <th>2</th>\n",
       "      <td>MAC000450</td>\n",
       "      <td>2012-03-23</td>\n",
       "      <td>30min</td>\n",
       "      <td>[1.337, 1.426, 0.996, 0.971, 0.994, 0.952, 0.8...</td>\n",
       "      <td>33936</td>\n",
       "      <td>Std</td>\n",
       "      <td>ACORN-A</td>\n",
       "      <td>Affluent</td>\n",
       "      <td>block_0</td>\n",
       "    </tr>\n",
       "    <tr>\n",
       "      <th>3</th>\n",
       "      <td>MAC001074</td>\n",
       "      <td>2012-05-09</td>\n",
       "      <td>30min</td>\n",
       "      <td>[0.18, 0.086, 0.106, 0.173, 0.146, 0.223, 0.21...</td>\n",
       "      <td>31680</td>\n",
       "      <td>ToU</td>\n",
       "      <td>ACORN-</td>\n",
       "      <td>ACORN-</td>\n",
       "      <td>block_0</td>\n",
       "    </tr>\n",
       "    <tr>\n",
       "      <th>4</th>\n",
       "      <td>MAC003223</td>\n",
       "      <td>2012-09-18</td>\n",
       "      <td>30min</td>\n",
       "      <td>[0.076, 0.079, 0.123, 0.109, 0.051, 0.069, 0.0...</td>\n",
       "      <td>25344</td>\n",
       "      <td>Std</td>\n",
       "      <td>ACORN-A</td>\n",
       "      <td>Affluent</td>\n",
       "      <td>block_0</td>\n",
       "    </tr>\n",
       "  </tbody>\n",
       "</table>\n",
       "</div>"
      ],
      "text/plain": [
       "       LCLid start_timestamp frequency  \\\n",
       "0  MAC000002      2012-10-13     30min   \n",
       "1  MAC000246      2012-01-01     30min   \n",
       "2  MAC000450      2012-03-23     30min   \n",
       "3  MAC001074      2012-05-09     30min   \n",
       "4  MAC003223      2012-09-18     30min   \n",
       "\n",
       "                                  energy_consumption  series_length stdorToU  \\\n",
       "0  [0.263, 0.2689999999999999, 0.275, 0.256, 0.21...          24144      Std   \n",
       "1  [0.509, 0.317, 0.253, 0.249, 0.93, 0.607, 0.10...          37872      Std   \n",
       "2  [1.337, 1.426, 0.996, 0.971, 0.994, 0.952, 0.8...          33936      Std   \n",
       "3  [0.18, 0.086, 0.106, 0.173, 0.146, 0.223, 0.21...          31680      ToU   \n",
       "4  [0.076, 0.079, 0.123, 0.109, 0.051, 0.069, 0.0...          25344      Std   \n",
       "\n",
       "     Acorn Acorn_grouped     file  \n",
       "0  ACORN-A      Affluent  block_0  \n",
       "1  ACORN-A      Affluent  block_0  \n",
       "2  ACORN-A      Affluent  block_0  \n",
       "3   ACORN-        ACORN-  block_0  \n",
       "4  ACORN-A      Affluent  block_0  "
      ]
     },
     "execution_count": 97,
     "metadata": {},
     "output_type": "execute_result"
    }
   ],
   "source": [
    "hhblock_df = hhblock_df.merge(household_info, on='LCLid', validate=\"one_to_one\")\n",
    "hhblock_df.head()"
   ]
  },
  {
   "cell_type": "markdown",
   "id": "eeaa90fb-7fb6-4a08-a631-9a6d8ef86f40",
   "metadata": {
    "tags": []
   },
   "source": [
    "#### Weather and Bank Holidays"
   ]
  },
  {
   "cell_type": "code",
   "execution_count": 99,
   "id": "73358282-4bf3-43ae-97f8-f96f4310ccb3",
   "metadata": {},
   "outputs": [
    {
     "data": {
      "text/html": [
       "<div>\n",
       "<style scoped>\n",
       "    .dataframe tbody tr th:only-of-type {\n",
       "        vertical-align: middle;\n",
       "    }\n",
       "\n",
       "    .dataframe tbody tr th {\n",
       "        vertical-align: top;\n",
       "    }\n",
       "\n",
       "    .dataframe thead th {\n",
       "        text-align: right;\n",
       "    }\n",
       "</style>\n",
       "<table border=\"1\" class=\"dataframe\">\n",
       "  <thead>\n",
       "    <tr style=\"text-align: right;\">\n",
       "      <th></th>\n",
       "      <th>Type</th>\n",
       "    </tr>\n",
       "    <tr>\n",
       "      <th>Bank holidays</th>\n",
       "      <th></th>\n",
       "    </tr>\n",
       "  </thead>\n",
       "  <tbody>\n",
       "    <tr>\n",
       "      <th>2012-12-26</th>\n",
       "      <td>Boxing Day</td>\n",
       "    </tr>\n",
       "    <tr>\n",
       "      <th>2012-12-25</th>\n",
       "      <td>Christmas Day</td>\n",
       "    </tr>\n",
       "    <tr>\n",
       "      <th>2012-08-27</th>\n",
       "      <td>Summer bank holiday</td>\n",
       "    </tr>\n",
       "    <tr>\n",
       "      <th>2012-05-06</th>\n",
       "      <td>Queen?s Diamond Jubilee (extra bank holiday)</td>\n",
       "    </tr>\n",
       "    <tr>\n",
       "      <th>2012-04-06</th>\n",
       "      <td>Spring bank holiday (substitute day)</td>\n",
       "    </tr>\n",
       "  </tbody>\n",
       "</table>\n",
       "</div>"
      ],
      "text/plain": [
       "                                                       Type\n",
       "Bank holidays                                              \n",
       "2012-12-26                                       Boxing Day\n",
       "2012-12-25                                    Christmas Day\n",
       "2012-08-27                              Summer bank holiday\n",
       "2012-05-06     Queen?s Diamond Jubilee (extra bank holiday)\n",
       "2012-04-06             Spring bank holiday (substitute day)"
      ]
     },
     "execution_count": 99,
     "metadata": {},
     "output_type": "execute_result"
    }
   ],
   "source": [
    "bank_holidays = pd.read_csv(source_data/\"uk_bank_holidays.csv\", parse_dates=False)\n",
    "bank_holidays['Bank holidays'] = pd.to_datetime(bank_holidays['Bank holidays'], yearfirst=True)\n",
    "bank_holidays.set_index(\"Bank holidays\", inplace=True)\n",
    "bank_holidays.head()"
   ]
  },
  {
   "cell_type": "code",
   "execution_count": 101,
   "id": "8c5d64c6-b29b-4f6e-8c89-793fe83ecc21",
   "metadata": {},
   "outputs": [
    {
     "data": {
      "text/html": [
       "<div>\n",
       "<style scoped>\n",
       "    .dataframe tbody tr th:only-of-type {\n",
       "        vertical-align: middle;\n",
       "    }\n",
       "\n",
       "    .dataframe tbody tr th {\n",
       "        vertical-align: top;\n",
       "    }\n",
       "\n",
       "    .dataframe thead th {\n",
       "        text-align: right;\n",
       "    }\n",
       "</style>\n",
       "<table border=\"1\" class=\"dataframe\">\n",
       "  <thead>\n",
       "    <tr style=\"text-align: right;\">\n",
       "      <th></th>\n",
       "      <th>Type</th>\n",
       "    </tr>\n",
       "    <tr>\n",
       "      <th>datetime</th>\n",
       "      <th></th>\n",
       "    </tr>\n",
       "  </thead>\n",
       "  <tbody>\n",
       "    <tr>\n",
       "      <th>2012-02-01 00:00:00</th>\n",
       "      <td>New Year?s Day (substitute day)</td>\n",
       "    </tr>\n",
       "    <tr>\n",
       "      <th>2012-02-01 00:30:00</th>\n",
       "      <td>New Year?s Day (substitute day)</td>\n",
       "    </tr>\n",
       "    <tr>\n",
       "      <th>2012-02-01 01:00:00</th>\n",
       "      <td>New Year?s Day (substitute day)</td>\n",
       "    </tr>\n",
       "    <tr>\n",
       "      <th>2012-02-01 01:30:00</th>\n",
       "      <td>New Year?s Day (substitute day)</td>\n",
       "    </tr>\n",
       "    <tr>\n",
       "      <th>2012-02-01 02:00:00</th>\n",
       "      <td>New Year?s Day (substitute day)</td>\n",
       "    </tr>\n",
       "  </tbody>\n",
       "</table>\n",
       "</div>"
      ],
      "text/plain": [
       "                                                Type\n",
       "datetime                                            \n",
       "2012-02-01 00:00:00  New Year?s Day (substitute day)\n",
       "2012-02-01 00:30:00  New Year?s Day (substitute day)\n",
       "2012-02-01 01:00:00  New Year?s Day (substitute day)\n",
       "2012-02-01 01:30:00  New Year?s Day (substitute day)\n",
       "2012-02-01 02:00:00  New Year?s Day (substitute day)"
      ]
     },
     "execution_count": 101,
     "metadata": {},
     "output_type": "execute_result"
    }
   ],
   "source": [
    "#Reindex on standard date range\n",
    "bank_holidays = bank_holidays.resample(\"30min\").asfreq()\n",
    "bank_holidays = bank_holidays.groupby(bank_holidays.index.date).ffill().fillna(\"NO_HOLIDAY\")\n",
    "bank_holidays.index.name=\"datetime\"\n",
    "bank_holidays.head()"
   ]
  },
  {
   "cell_type": "code",
   "execution_count": 103,
   "id": "7b27a978-802a-4068-8c0c-eb3237886241",
   "metadata": {},
   "outputs": [
    {
     "data": {
      "text/html": [
       "<div>\n",
       "<style scoped>\n",
       "    .dataframe tbody tr th:only-of-type {\n",
       "        vertical-align: middle;\n",
       "    }\n",
       "\n",
       "    .dataframe tbody tr th {\n",
       "        vertical-align: top;\n",
       "    }\n",
       "\n",
       "    .dataframe thead th {\n",
       "        text-align: right;\n",
       "    }\n",
       "</style>\n",
       "<table border=\"1\" class=\"dataframe\">\n",
       "  <thead>\n",
       "    <tr style=\"text-align: right;\">\n",
       "      <th></th>\n",
       "      <th>visibility</th>\n",
       "      <th>windBearing</th>\n",
       "      <th>temperature</th>\n",
       "      <th>dewPoint</th>\n",
       "      <th>pressure</th>\n",
       "      <th>apparentTemperature</th>\n",
       "      <th>windSpeed</th>\n",
       "      <th>precipType</th>\n",
       "      <th>icon</th>\n",
       "      <th>humidity</th>\n",
       "      <th>summary</th>\n",
       "    </tr>\n",
       "    <tr>\n",
       "      <th>time</th>\n",
       "      <th></th>\n",
       "      <th></th>\n",
       "      <th></th>\n",
       "      <th></th>\n",
       "      <th></th>\n",
       "      <th></th>\n",
       "      <th></th>\n",
       "      <th></th>\n",
       "      <th></th>\n",
       "      <th></th>\n",
       "      <th></th>\n",
       "    </tr>\n",
       "  </thead>\n",
       "  <tbody>\n",
       "    <tr>\n",
       "      <th>2011-11-11 00:00:00</th>\n",
       "      <td>5.97</td>\n",
       "      <td>104</td>\n",
       "      <td>10.24</td>\n",
       "      <td>8.86</td>\n",
       "      <td>1016.76</td>\n",
       "      <td>10.24</td>\n",
       "      <td>2.77</td>\n",
       "      <td>rain</td>\n",
       "      <td>partly-cloudy-night</td>\n",
       "      <td>0.91</td>\n",
       "      <td>Partly Cloudy</td>\n",
       "    </tr>\n",
       "    <tr>\n",
       "      <th>2011-11-11 01:00:00</th>\n",
       "      <td>4.88</td>\n",
       "      <td>99</td>\n",
       "      <td>9.76</td>\n",
       "      <td>8.83</td>\n",
       "      <td>1016.63</td>\n",
       "      <td>8.24</td>\n",
       "      <td>2.95</td>\n",
       "      <td>rain</td>\n",
       "      <td>partly-cloudy-night</td>\n",
       "      <td>0.94</td>\n",
       "      <td>Partly Cloudy</td>\n",
       "    </tr>\n",
       "    <tr>\n",
       "      <th>2011-11-11 02:00:00</th>\n",
       "      <td>3.70</td>\n",
       "      <td>98</td>\n",
       "      <td>9.46</td>\n",
       "      <td>8.79</td>\n",
       "      <td>1016.36</td>\n",
       "      <td>7.76</td>\n",
       "      <td>3.17</td>\n",
       "      <td>rain</td>\n",
       "      <td>partly-cloudy-night</td>\n",
       "      <td>0.96</td>\n",
       "      <td>Partly Cloudy</td>\n",
       "    </tr>\n",
       "    <tr>\n",
       "      <th>2011-11-11 03:00:00</th>\n",
       "      <td>3.12</td>\n",
       "      <td>99</td>\n",
       "      <td>9.23</td>\n",
       "      <td>8.63</td>\n",
       "      <td>1016.28</td>\n",
       "      <td>7.44</td>\n",
       "      <td>3.25</td>\n",
       "      <td>rain</td>\n",
       "      <td>fog</td>\n",
       "      <td>0.96</td>\n",
       "      <td>Foggy</td>\n",
       "    </tr>\n",
       "    <tr>\n",
       "      <th>2011-11-11 04:00:00</th>\n",
       "      <td>1.85</td>\n",
       "      <td>111</td>\n",
       "      <td>9.26</td>\n",
       "      <td>9.21</td>\n",
       "      <td>1015.98</td>\n",
       "      <td>7.24</td>\n",
       "      <td>3.70</td>\n",
       "      <td>rain</td>\n",
       "      <td>fog</td>\n",
       "      <td>1.00</td>\n",
       "      <td>Foggy</td>\n",
       "    </tr>\n",
       "  </tbody>\n",
       "</table>\n",
       "</div>"
      ],
      "text/plain": [
       "                     visibility  windBearing  temperature  dewPoint  pressure  \\\n",
       "time                                                                            \n",
       "2011-11-11 00:00:00        5.97          104        10.24      8.86   1016.76   \n",
       "2011-11-11 01:00:00        4.88           99         9.76      8.83   1016.63   \n",
       "2011-11-11 02:00:00        3.70           98         9.46      8.79   1016.36   \n",
       "2011-11-11 03:00:00        3.12           99         9.23      8.63   1016.28   \n",
       "2011-11-11 04:00:00        1.85          111         9.26      9.21   1015.98   \n",
       "\n",
       "                     apparentTemperature  windSpeed precipType  \\\n",
       "time                                                             \n",
       "2011-11-11 00:00:00                10.24       2.77       rain   \n",
       "2011-11-11 01:00:00                 8.24       2.95       rain   \n",
       "2011-11-11 02:00:00                 7.76       3.17       rain   \n",
       "2011-11-11 03:00:00                 7.44       3.25       rain   \n",
       "2011-11-11 04:00:00                 7.24       3.70       rain   \n",
       "\n",
       "                                    icon  humidity        summary  \n",
       "time                                                               \n",
       "2011-11-11 00:00:00  partly-cloudy-night      0.91  Partly Cloudy  \n",
       "2011-11-11 01:00:00  partly-cloudy-night      0.94  Partly Cloudy  \n",
       "2011-11-11 02:00:00  partly-cloudy-night      0.96  Partly Cloudy  \n",
       "2011-11-11 03:00:00                  fog      0.96          Foggy  \n",
       "2011-11-11 04:00:00                  fog      1.00          Foggy  "
      ]
     },
     "execution_count": 103,
     "metadata": {},
     "output_type": "execute_result"
    }
   ],
   "source": [
    "weather_hourly = pd.read_csv(source_data/\"weather_hourly_darksky.csv\", parse_dates=False)\n",
    "weather_hourly['time'] = pd.to_datetime(weather_hourly['time'], yearfirst=True)\n",
    "weather_hourly.set_index(\"time\", inplace=True)\n",
    "weather_hourly.head()"
   ]
  },
  {
   "cell_type": "code",
   "execution_count": 105,
   "id": "10258a10-ca32-4e23-b1ec-eb430cee2b7f",
   "metadata": {},
   "outputs": [
    {
     "data": {
      "text/html": [
       "<div>\n",
       "<style scoped>\n",
       "    .dataframe tbody tr th:only-of-type {\n",
       "        vertical-align: middle;\n",
       "    }\n",
       "\n",
       "    .dataframe tbody tr th {\n",
       "        vertical-align: top;\n",
       "    }\n",
       "\n",
       "    .dataframe thead th {\n",
       "        text-align: right;\n",
       "    }\n",
       "</style>\n",
       "<table border=\"1\" class=\"dataframe\">\n",
       "  <thead>\n",
       "    <tr style=\"text-align: right;\">\n",
       "      <th></th>\n",
       "      <th>visibility</th>\n",
       "      <th>windBearing</th>\n",
       "      <th>temperature</th>\n",
       "      <th>dewPoint</th>\n",
       "      <th>pressure</th>\n",
       "      <th>apparentTemperature</th>\n",
       "      <th>windSpeed</th>\n",
       "      <th>precipType</th>\n",
       "      <th>icon</th>\n",
       "      <th>humidity</th>\n",
       "      <th>summary</th>\n",
       "    </tr>\n",
       "    <tr>\n",
       "      <th>time</th>\n",
       "      <th></th>\n",
       "      <th></th>\n",
       "      <th></th>\n",
       "      <th></th>\n",
       "      <th></th>\n",
       "      <th></th>\n",
       "      <th></th>\n",
       "      <th></th>\n",
       "      <th></th>\n",
       "      <th></th>\n",
       "      <th></th>\n",
       "    </tr>\n",
       "  </thead>\n",
       "  <tbody>\n",
       "    <tr>\n",
       "      <th>2011-11-01 00:00:00</th>\n",
       "      <td>13.63</td>\n",
       "      <td>160</td>\n",
       "      <td>13.49</td>\n",
       "      <td>11.48</td>\n",
       "      <td>1008.14</td>\n",
       "      <td>13.49</td>\n",
       "      <td>3.11</td>\n",
       "      <td>rain</td>\n",
       "      <td>clear-night</td>\n",
       "      <td>0.88</td>\n",
       "      <td>Clear</td>\n",
       "    </tr>\n",
       "    <tr>\n",
       "      <th>2011-11-01 00:30:00</th>\n",
       "      <td>13.63</td>\n",
       "      <td>160</td>\n",
       "      <td>13.49</td>\n",
       "      <td>11.48</td>\n",
       "      <td>1008.14</td>\n",
       "      <td>13.49</td>\n",
       "      <td>3.11</td>\n",
       "      <td>rain</td>\n",
       "      <td>clear-night</td>\n",
       "      <td>0.88</td>\n",
       "      <td>Clear</td>\n",
       "    </tr>\n",
       "    <tr>\n",
       "      <th>2011-11-01 01:00:00</th>\n",
       "      <td>13.26</td>\n",
       "      <td>154</td>\n",
       "      <td>12.73</td>\n",
       "      <td>11.58</td>\n",
       "      <td>1007.88</td>\n",
       "      <td>12.73</td>\n",
       "      <td>3.08</td>\n",
       "      <td>rain</td>\n",
       "      <td>partly-cloudy-night</td>\n",
       "      <td>0.93</td>\n",
       "      <td>Partly Cloudy</td>\n",
       "    </tr>\n",
       "    <tr>\n",
       "      <th>2011-11-01 01:30:00</th>\n",
       "      <td>13.26</td>\n",
       "      <td>154</td>\n",
       "      <td>12.73</td>\n",
       "      <td>11.58</td>\n",
       "      <td>1007.88</td>\n",
       "      <td>12.73</td>\n",
       "      <td>3.08</td>\n",
       "      <td>rain</td>\n",
       "      <td>partly-cloudy-night</td>\n",
       "      <td>0.93</td>\n",
       "      <td>Partly Cloudy</td>\n",
       "    </tr>\n",
       "    <tr>\n",
       "      <th>2011-11-01 02:00:00</th>\n",
       "      <td>12.94</td>\n",
       "      <td>161</td>\n",
       "      <td>13.65</td>\n",
       "      <td>12.14</td>\n",
       "      <td>1007.09</td>\n",
       "      <td>13.65</td>\n",
       "      <td>3.71</td>\n",
       "      <td>rain</td>\n",
       "      <td>clear-night</td>\n",
       "      <td>0.91</td>\n",
       "      <td>Clear</td>\n",
       "    </tr>\n",
       "  </tbody>\n",
       "</table>\n",
       "</div>"
      ],
      "text/plain": [
       "                     visibility  windBearing  temperature  dewPoint  pressure  \\\n",
       "time                                                                            \n",
       "2011-11-01 00:00:00       13.63          160        13.49     11.48   1008.14   \n",
       "2011-11-01 00:30:00       13.63          160        13.49     11.48   1008.14   \n",
       "2011-11-01 01:00:00       13.26          154        12.73     11.58   1007.88   \n",
       "2011-11-01 01:30:00       13.26          154        12.73     11.58   1007.88   \n",
       "2011-11-01 02:00:00       12.94          161        13.65     12.14   1007.09   \n",
       "\n",
       "                     apparentTemperature  windSpeed precipType  \\\n",
       "time                                                             \n",
       "2011-11-01 00:00:00                13.49       3.11       rain   \n",
       "2011-11-01 00:30:00                13.49       3.11       rain   \n",
       "2011-11-01 01:00:00                12.73       3.08       rain   \n",
       "2011-11-01 01:30:00                12.73       3.08       rain   \n",
       "2011-11-01 02:00:00                13.65       3.71       rain   \n",
       "\n",
       "                                    icon  humidity        summary  \n",
       "time                                                               \n",
       "2011-11-01 00:00:00          clear-night      0.88          Clear  \n",
       "2011-11-01 00:30:00          clear-night      0.88          Clear  \n",
       "2011-11-01 01:00:00  partly-cloudy-night      0.93  Partly Cloudy  \n",
       "2011-11-01 01:30:00  partly-cloudy-night      0.93  Partly Cloudy  \n",
       "2011-11-01 02:00:00          clear-night      0.91          Clear  "
      ]
     },
     "execution_count": 105,
     "metadata": {},
     "output_type": "execute_result"
    }
   ],
   "source": [
    "#Resampling at 30min and forward fill\n",
    "weather_hourly = weather_hourly.resample(\"30min\").ffill()\n",
    "weather_hourly.head()"
   ]
  },
  {
   "cell_type": "code",
   "execution_count": 107,
   "id": "d034ec41-6e2b-42fd-ac0f-6532c93c436a",
   "metadata": {},
   "outputs": [],
   "source": [
    "def map_weather_holidays(row):\n",
    "    date_range = pd.date_range(row['start_timestamp'], periods=row['series_length'], freq=row['frequency'])\n",
    "    std_df = pd.DataFrame(index=date_range)\n",
    "    #Filling Na iwth NO_HOLIDAY cause rows before earliers holiday will be NaN\n",
    "    holidays = std_df.join(bank_holidays, how=\"left\").fillna(\"NO_HOLIDAY\")\n",
    "    weather = std_df.join(weather_hourly, how='left')\n",
    "    assert len(holidays)==row['series_length'], \"Length of holidays should be same as series length\"\n",
    "    assert len(weather)==row['series_length'], \"Length of weather should be same as series length\"\n",
    "    row['holidays'] = holidays['Type'].values\n",
    "    for col in weather:\n",
    "        row[col] = weather[col].values\n",
    "    return row"
   ]
  },
  {
   "cell_type": "code",
   "execution_count": 109,
   "id": "c272753d-a258-4292-af01-691e538c8e6f",
   "metadata": {},
   "outputs": [
    {
     "data": {
      "application/vnd.jupyter.widget-view+json": {
       "model_id": "d38009e38c4749baaca8eaed4cd56f6f",
       "version_major": 2,
       "version_minor": 0
      },
      "text/plain": [
       "  0%|          | 0/5560 [00:00<?, ?it/s]"
      ]
     },
     "metadata": {},
     "output_type": "display_data"
    },
    {
     "data": {
      "text/html": [
       "<div>\n",
       "<style scoped>\n",
       "    .dataframe tbody tr th:only-of-type {\n",
       "        vertical-align: middle;\n",
       "    }\n",
       "\n",
       "    .dataframe tbody tr th {\n",
       "        vertical-align: top;\n",
       "    }\n",
       "\n",
       "    .dataframe thead th {\n",
       "        text-align: right;\n",
       "    }\n",
       "</style>\n",
       "<table border=\"1\" class=\"dataframe\">\n",
       "  <thead>\n",
       "    <tr style=\"text-align: right;\">\n",
       "      <th></th>\n",
       "      <th>LCLid</th>\n",
       "      <th>start_timestamp</th>\n",
       "      <th>frequency</th>\n",
       "      <th>energy_consumption</th>\n",
       "      <th>series_length</th>\n",
       "      <th>stdorToU</th>\n",
       "      <th>Acorn</th>\n",
       "      <th>Acorn_grouped</th>\n",
       "      <th>file</th>\n",
       "      <th>holidays</th>\n",
       "      <th>...</th>\n",
       "      <th>windBearing</th>\n",
       "      <th>temperature</th>\n",
       "      <th>dewPoint</th>\n",
       "      <th>pressure</th>\n",
       "      <th>apparentTemperature</th>\n",
       "      <th>windSpeed</th>\n",
       "      <th>precipType</th>\n",
       "      <th>icon</th>\n",
       "      <th>humidity</th>\n",
       "      <th>summary</th>\n",
       "    </tr>\n",
       "  </thead>\n",
       "  <tbody>\n",
       "    <tr>\n",
       "      <th>0</th>\n",
       "      <td>MAC000002</td>\n",
       "      <td>2012-10-13</td>\n",
       "      <td>30min</td>\n",
       "      <td>[0.263, 0.2689999999999999, 0.275, 0.256, 0.21...</td>\n",
       "      <td>24144</td>\n",
       "      <td>Std</td>\n",
       "      <td>ACORN-A</td>\n",
       "      <td>Affluent</td>\n",
       "      <td>block_0</td>\n",
       "      <td>[NO_HOLIDAY, NO_HOLIDAY, NO_HOLIDAY, NO_HOLIDA...</td>\n",
       "      <td>...</td>\n",
       "      <td>[186, 186, 188, 188, 190, 190, 203, 203, 206, ...</td>\n",
       "      <td>[8.78, 8.78, 8.27, 8.27, 7.87, 7.87, 7.89, 7.8...</td>\n",
       "      <td>[6.28, 6.28, 6.21, 6.21, 6.22, 6.22, 6.76, 6.7...</td>\n",
       "      <td>[1007.7, 1007.7, 1007.36, 1007.36, 1006.73, 10...</td>\n",
       "      <td>[7.55, 7.55, 7.34, 7.34, 6.75, 6.75, 6.89, 6.8...</td>\n",
       "      <td>[2.28, 2.28, 1.81, 1.81, 1.95, 1.95, 1.83, 1.8...</td>\n",
       "      <td>[rain, rain, rain, rain, rain, rain, rain, rai...</td>\n",
       "      <td>[clear-night, clear-night, clear-night, clear-...</td>\n",
       "      <td>[0.84, 0.84, 0.87, 0.87, 0.89, 0.89, 0.93, 0.9...</td>\n",
       "      <td>[Clear, Clear, Clear, Clear, Partly Cloudy, Pa...</td>\n",
       "    </tr>\n",
       "    <tr>\n",
       "      <th>1</th>\n",
       "      <td>MAC000246</td>\n",
       "      <td>2012-01-01</td>\n",
       "      <td>30min</td>\n",
       "      <td>[0.509, 0.317, 0.253, 0.249, 0.93, 0.607, 0.10...</td>\n",
       "      <td>37872</td>\n",
       "      <td>Std</td>\n",
       "      <td>ACORN-A</td>\n",
       "      <td>Affluent</td>\n",
       "      <td>block_0</td>\n",
       "      <td>[NO_HOLIDAY, NO_HOLIDAY, NO_HOLIDAY, NO_HOLIDA...</td>\n",
       "      <td>...</td>\n",
       "      <td>[229, 229, 238, 238, 229, 229, 231, 231, 227, ...</td>\n",
       "      <td>[12.12, 12.12, 12.59, 12.59, 12.45, 12.45, 12....</td>\n",
       "      <td>[10.97, 10.97, 11.02, 11.02, 11.04, 11.04, 10....</td>\n",
       "      <td>[1008.1, 1008.1, 1007.88, 1007.88, 1007.95, 10...</td>\n",
       "      <td>[12.12, 12.12, 12.59, 12.59, 12.45, 12.45, 12....</td>\n",
       "      <td>[5.9, 5.9, 6.06, 6.06, 5.31, 5.31, 4.68, 4.68,...</td>\n",
       "      <td>[rain, rain, rain, rain, rain, rain, rain, rai...</td>\n",
       "      <td>[partly-cloudy-night, partly-cloudy-night, clo...</td>\n",
       "      <td>[0.93, 0.93, 0.9, 0.9, 0.91, 0.91, 0.93, 0.93,...</td>\n",
       "      <td>[Mostly Cloudy, Mostly Cloudy, Overcast, Overc...</td>\n",
       "    </tr>\n",
       "    <tr>\n",
       "      <th>2</th>\n",
       "      <td>MAC000450</td>\n",
       "      <td>2012-03-23</td>\n",
       "      <td>30min</td>\n",
       "      <td>[1.337, 1.426, 0.996, 0.971, 0.994, 0.952, 0.8...</td>\n",
       "      <td>33936</td>\n",
       "      <td>Std</td>\n",
       "      <td>ACORN-A</td>\n",
       "      <td>Affluent</td>\n",
       "      <td>block_0</td>\n",
       "      <td>[NO_HOLIDAY, NO_HOLIDAY, NO_HOLIDAY, NO_HOLIDA...</td>\n",
       "      <td>...</td>\n",
       "      <td>[78, 78, 73, 73, 81, 81, 80, 80, 75, 75, 71, 7...</td>\n",
       "      <td>[8.76, 8.76, 8.54, 8.54, 8.09, 8.09, 7.34, 7.3...</td>\n",
       "      <td>[7.25, 7.25, 7.12, 7.12, 7.17, 7.17, 6.68, 6.6...</td>\n",
       "      <td>[1027.41, 1027.41, 1026.91, 1026.91, 1026.54, ...</td>\n",
       "      <td>[7.59, 7.59, 7.43, 7.43, 7.24, 7.24, 7.34, 7.3...</td>\n",
       "      <td>[2.18, 2.18, 2.07, 2.07, 1.72, 1.72, 1.34, 1.3...</td>\n",
       "      <td>[rain, rain, rain, rain, rain, rain, rain, rai...</td>\n",
       "      <td>[fog, fog, fog, fog, fog, fog, fog, fog, fog, ...</td>\n",
       "      <td>[0.9, 0.9, 0.91, 0.91, 0.94, 0.94, 0.96, 0.96,...</td>\n",
       "      <td>[Foggy, Foggy, Foggy, Foggy, Foggy, Foggy, Fog...</td>\n",
       "    </tr>\n",
       "    <tr>\n",
       "      <th>3</th>\n",
       "      <td>MAC001074</td>\n",
       "      <td>2012-05-09</td>\n",
       "      <td>30min</td>\n",
       "      <td>[0.18, 0.086, 0.106, 0.173, 0.146, 0.223, 0.21...</td>\n",
       "      <td>31680</td>\n",
       "      <td>ToU</td>\n",
       "      <td>ACORN-</td>\n",
       "      <td>ACORN-</td>\n",
       "      <td>block_0</td>\n",
       "      <td>[NO_HOLIDAY, NO_HOLIDAY, NO_HOLIDAY, NO_HOLIDA...</td>\n",
       "      <td>...</td>\n",
       "      <td>[215, 215, 207, 207, 215, 215, 216, 216, 126, ...</td>\n",
       "      <td>[11.46, 11.46, 11.38, 11.38, 11.38, 11.38, 10....</td>\n",
       "      <td>[10.23, 10.23, 10.17, 10.17, 10.24, 10.24, 10....</td>\n",
       "      <td>[1007.39, 1007.39, 1007.21, 1007.21, 1007.06, ...</td>\n",
       "      <td>[11.46, 11.46, 11.38, 11.38, 11.38, 11.38, 10....</td>\n",
       "      <td>[2.35, 2.35, 2.15, 2.15, 1.84, 1.84, 1.22, 1.2...</td>\n",
       "      <td>[rain, rain, rain, rain, rain, rain, rain, rai...</td>\n",
       "      <td>[partly-cloudy-night, partly-cloudy-night, par...</td>\n",
       "      <td>[0.92, 0.92, 0.92, 0.92, 0.93, 0.93, 0.95, 0.9...</td>\n",
       "      <td>[Partly Cloudy, Partly Cloudy, Mostly Cloudy, ...</td>\n",
       "    </tr>\n",
       "    <tr>\n",
       "      <th>4</th>\n",
       "      <td>MAC003223</td>\n",
       "      <td>2012-09-18</td>\n",
       "      <td>30min</td>\n",
       "      <td>[0.076, 0.079, 0.123, 0.109, 0.051, 0.069, 0.0...</td>\n",
       "      <td>25344</td>\n",
       "      <td>Std</td>\n",
       "      <td>ACORN-A</td>\n",
       "      <td>Affluent</td>\n",
       "      <td>block_0</td>\n",
       "      <td>[NO_HOLIDAY, NO_HOLIDAY, NO_HOLIDAY, NO_HOLIDA...</td>\n",
       "      <td>...</td>\n",
       "      <td>[236, 236, 240, 240, 242, 242, 244, 244, 248, ...</td>\n",
       "      <td>[14.06, 14.06, 13.12, 13.12, 12.53, 12.53, 12....</td>\n",
       "      <td>[10.82, 10.82, 10.29, 10.29, 9.86, 9.86, 9.83,...</td>\n",
       "      <td>[1011.09, 1011.09, 1010.82, 1010.82, 1010.65, ...</td>\n",
       "      <td>[14.06, 14.06, 13.12, 13.12, 12.53, 12.53, 12....</td>\n",
       "      <td>[3.86, 3.86, 3.81, 3.81, 4.27, 4.27, 4.12, 4.1...</td>\n",
       "      <td>[rain, rain, rain, rain, rain, rain, rain, rai...</td>\n",
       "      <td>[clear-night, clear-night, clear-night, clear-...</td>\n",
       "      <td>[0.81, 0.81, 0.83, 0.83, 0.84, 0.84, 0.86, 0.8...</td>\n",
       "      <td>[Clear, Clear, Clear, Clear, Clear, Clear, Par...</td>\n",
       "    </tr>\n",
       "  </tbody>\n",
       "</table>\n",
       "<p>5 rows × 21 columns</p>\n",
       "</div>"
      ],
      "text/plain": [
       "       LCLid start_timestamp frequency  \\\n",
       "0  MAC000002      2012-10-13     30min   \n",
       "1  MAC000246      2012-01-01     30min   \n",
       "2  MAC000450      2012-03-23     30min   \n",
       "3  MAC001074      2012-05-09     30min   \n",
       "4  MAC003223      2012-09-18     30min   \n",
       "\n",
       "                                  energy_consumption  series_length stdorToU  \\\n",
       "0  [0.263, 0.2689999999999999, 0.275, 0.256, 0.21...          24144      Std   \n",
       "1  [0.509, 0.317, 0.253, 0.249, 0.93, 0.607, 0.10...          37872      Std   \n",
       "2  [1.337, 1.426, 0.996, 0.971, 0.994, 0.952, 0.8...          33936      Std   \n",
       "3  [0.18, 0.086, 0.106, 0.173, 0.146, 0.223, 0.21...          31680      ToU   \n",
       "4  [0.076, 0.079, 0.123, 0.109, 0.051, 0.069, 0.0...          25344      Std   \n",
       "\n",
       "     Acorn Acorn_grouped     file  \\\n",
       "0  ACORN-A      Affluent  block_0   \n",
       "1  ACORN-A      Affluent  block_0   \n",
       "2  ACORN-A      Affluent  block_0   \n",
       "3   ACORN-        ACORN-  block_0   \n",
       "4  ACORN-A      Affluent  block_0   \n",
       "\n",
       "                                            holidays  ...  \\\n",
       "0  [NO_HOLIDAY, NO_HOLIDAY, NO_HOLIDAY, NO_HOLIDA...  ...   \n",
       "1  [NO_HOLIDAY, NO_HOLIDAY, NO_HOLIDAY, NO_HOLIDA...  ...   \n",
       "2  [NO_HOLIDAY, NO_HOLIDAY, NO_HOLIDAY, NO_HOLIDA...  ...   \n",
       "3  [NO_HOLIDAY, NO_HOLIDAY, NO_HOLIDAY, NO_HOLIDA...  ...   \n",
       "4  [NO_HOLIDAY, NO_HOLIDAY, NO_HOLIDAY, NO_HOLIDA...  ...   \n",
       "\n",
       "                                         windBearing  \\\n",
       "0  [186, 186, 188, 188, 190, 190, 203, 203, 206, ...   \n",
       "1  [229, 229, 238, 238, 229, 229, 231, 231, 227, ...   \n",
       "2  [78, 78, 73, 73, 81, 81, 80, 80, 75, 75, 71, 7...   \n",
       "3  [215, 215, 207, 207, 215, 215, 216, 216, 126, ...   \n",
       "4  [236, 236, 240, 240, 242, 242, 244, 244, 248, ...   \n",
       "\n",
       "                                         temperature  \\\n",
       "0  [8.78, 8.78, 8.27, 8.27, 7.87, 7.87, 7.89, 7.8...   \n",
       "1  [12.12, 12.12, 12.59, 12.59, 12.45, 12.45, 12....   \n",
       "2  [8.76, 8.76, 8.54, 8.54, 8.09, 8.09, 7.34, 7.3...   \n",
       "3  [11.46, 11.46, 11.38, 11.38, 11.38, 11.38, 10....   \n",
       "4  [14.06, 14.06, 13.12, 13.12, 12.53, 12.53, 12....   \n",
       "\n",
       "                                            dewPoint  \\\n",
       "0  [6.28, 6.28, 6.21, 6.21, 6.22, 6.22, 6.76, 6.7...   \n",
       "1  [10.97, 10.97, 11.02, 11.02, 11.04, 11.04, 10....   \n",
       "2  [7.25, 7.25, 7.12, 7.12, 7.17, 7.17, 6.68, 6.6...   \n",
       "3  [10.23, 10.23, 10.17, 10.17, 10.24, 10.24, 10....   \n",
       "4  [10.82, 10.82, 10.29, 10.29, 9.86, 9.86, 9.83,...   \n",
       "\n",
       "                                            pressure  \\\n",
       "0  [1007.7, 1007.7, 1007.36, 1007.36, 1006.73, 10...   \n",
       "1  [1008.1, 1008.1, 1007.88, 1007.88, 1007.95, 10...   \n",
       "2  [1027.41, 1027.41, 1026.91, 1026.91, 1026.54, ...   \n",
       "3  [1007.39, 1007.39, 1007.21, 1007.21, 1007.06, ...   \n",
       "4  [1011.09, 1011.09, 1010.82, 1010.82, 1010.65, ...   \n",
       "\n",
       "                                 apparentTemperature  \\\n",
       "0  [7.55, 7.55, 7.34, 7.34, 6.75, 6.75, 6.89, 6.8...   \n",
       "1  [12.12, 12.12, 12.59, 12.59, 12.45, 12.45, 12....   \n",
       "2  [7.59, 7.59, 7.43, 7.43, 7.24, 7.24, 7.34, 7.3...   \n",
       "3  [11.46, 11.46, 11.38, 11.38, 11.38, 11.38, 10....   \n",
       "4  [14.06, 14.06, 13.12, 13.12, 12.53, 12.53, 12....   \n",
       "\n",
       "                                           windSpeed  \\\n",
       "0  [2.28, 2.28, 1.81, 1.81, 1.95, 1.95, 1.83, 1.8...   \n",
       "1  [5.9, 5.9, 6.06, 6.06, 5.31, 5.31, 4.68, 4.68,...   \n",
       "2  [2.18, 2.18, 2.07, 2.07, 1.72, 1.72, 1.34, 1.3...   \n",
       "3  [2.35, 2.35, 2.15, 2.15, 1.84, 1.84, 1.22, 1.2...   \n",
       "4  [3.86, 3.86, 3.81, 3.81, 4.27, 4.27, 4.12, 4.1...   \n",
       "\n",
       "                                          precipType  \\\n",
       "0  [rain, rain, rain, rain, rain, rain, rain, rai...   \n",
       "1  [rain, rain, rain, rain, rain, rain, rain, rai...   \n",
       "2  [rain, rain, rain, rain, rain, rain, rain, rai...   \n",
       "3  [rain, rain, rain, rain, rain, rain, rain, rai...   \n",
       "4  [rain, rain, rain, rain, rain, rain, rain, rai...   \n",
       "\n",
       "                                                icon  \\\n",
       "0  [clear-night, clear-night, clear-night, clear-...   \n",
       "1  [partly-cloudy-night, partly-cloudy-night, clo...   \n",
       "2  [fog, fog, fog, fog, fog, fog, fog, fog, fog, ...   \n",
       "3  [partly-cloudy-night, partly-cloudy-night, par...   \n",
       "4  [clear-night, clear-night, clear-night, clear-...   \n",
       "\n",
       "                                            humidity  \\\n",
       "0  [0.84, 0.84, 0.87, 0.87, 0.89, 0.89, 0.93, 0.9...   \n",
       "1  [0.93, 0.93, 0.9, 0.9, 0.91, 0.91, 0.93, 0.93,...   \n",
       "2  [0.9, 0.9, 0.91, 0.91, 0.94, 0.94, 0.96, 0.96,...   \n",
       "3  [0.92, 0.92, 0.92, 0.92, 0.93, 0.93, 0.95, 0.9...   \n",
       "4  [0.81, 0.81, 0.83, 0.83, 0.84, 0.84, 0.86, 0.8...   \n",
       "\n",
       "                                             summary  \n",
       "0  [Clear, Clear, Clear, Clear, Partly Cloudy, Pa...  \n",
       "1  [Mostly Cloudy, Mostly Cloudy, Overcast, Overc...  \n",
       "2  [Foggy, Foggy, Foggy, Foggy, Foggy, Foggy, Fog...  \n",
       "3  [Partly Cloudy, Partly Cloudy, Mostly Cloudy, ...  \n",
       "4  [Clear, Clear, Clear, Clear, Clear, Clear, Par...  \n",
       "\n",
       "[5 rows x 21 columns]"
      ]
     },
     "execution_count": 109,
     "metadata": {},
     "output_type": "execute_result"
    }
   ],
   "source": [
    "import warnings\n",
    "warnings.filterwarnings(\"ignore\")\n",
    "hhblock_df = hhblock_df.progress_apply(map_weather_holidays, axis=1)\n",
    "\n",
    "hhblock_df.head()"
   ]
  },
  {
   "cell_type": "code",
   "execution_count": 57,
   "id": "491d9e6f-00ce-4984-979d-1d0c44416b3c",
   "metadata": {
    "tags": []
   },
   "outputs": [],
   "source": [
    "del block_df, weather_hourly, bank_holidays, household_info"
   ]
  },
  {
   "cell_type": "code",
   "execution_count": 132,
   "id": "e25a315b-3f17-4c82-801a-2c96da54ab0e",
   "metadata": {},
   "outputs": [
    {
     "data": {
      "text/plain": [
       "Index                     132\n",
       "LCLid                  322480\n",
       "start_timestamp         44480\n",
       "frequency              300240\n",
       "energy_consumption     667200\n",
       "series_length           44480\n",
       "stdorToU               289120\n",
       "Acorn                  311358\n",
       "Acorn_grouped          323195\n",
       "file                   316985\n",
       "holidays               667200\n",
       "visibility             667200\n",
       "windBearing            667200\n",
       "temperature            667200\n",
       "dewPoint               667200\n",
       "pressure               667200\n",
       "apparentTemperature    667200\n",
       "windSpeed              667200\n",
       "precipType             667200\n",
       "icon                   667200\n",
       "humidity               667200\n",
       "summary                667200\n",
       "dtype: int64"
      ]
     },
     "metadata": {},
     "output_type": "display_data"
    },
    {
     "name": "stdout",
     "output_type": "stream",
     "text": [
      "Total: 10.133810043334961 MB\n"
     ]
    }
   ],
   "source": [
    "display(hhblock_df.memory_usage(deep=True))\n",
    "print(f\"Total: {hhblock_df.memory_usage(deep=True).sum()/1024**2} MB\")"
   ]
  },
  {
   "cell_type": "markdown",
   "id": "1acf0dba-a6a3-44df-bde0-44641466a322",
   "metadata": {},
   "source": [
    "### Saving the file on disk"
   ]
  },
  {
   "cell_type": "markdown",
   "id": "080995b2-4895-4944-9f31-b5463d7935d0",
   "metadata": {},
   "source": [
    "Saving the entire dataset in a ts file"
   ]
  },
  {
   "cell_type": "code",
   "execution_count": 148,
   "id": "2c7b67d9-3007-4eb0-9aeb-a21a3cc0161c",
   "metadata": {},
   "outputs": [
    {
     "name": "stdout",
     "output_type": "stream",
     "text": [
      "C:\\Users\\zain.hanif\\Desktop\\HIS Project\\Modern-Time-Series-Forecasting-with-Python\\notebooks\\Chapter02\n"
     ]
    }
   ],
   "source": [
    "import os\n",
    "print(os.getcwd())\n",
    "os.makedirs(\"data/london_smart_meters/preprocessed\", exist_ok=True)"
   ]
  },
  {
   "cell_type": "code",
   "execution_count": 150,
   "id": "d627cbba-e116-4aa4-8be0-a72d1a5181c8",
   "metadata": {},
   "outputs": [
    {
     "data": {
      "application/vnd.jupyter.widget-view+json": {
       "model_id": "058bb310fc964ca2bd43a04d9d5f682f",
       "version_major": 2,
       "version_minor": 0
      },
      "text/plain": [
       "Writing in Chunks...:   0%|          | 0/6 [00:00<?, ?it/s]"
      ]
     },
     "metadata": {},
     "output_type": "display_data"
    },
    {
     "data": {
      "application/vnd.jupyter.widget-view+json": {
       "model_id": "cb2012006a0243118c6ca4c0b9f88d79",
       "version_major": 2,
       "version_minor": 0
      },
      "text/plain": [
       "  0%|          | 0/1000 [00:00<?, ?it/s]"
      ]
     },
     "metadata": {},
     "output_type": "display_data"
    },
    {
     "ename": "KeyboardInterrupt",
     "evalue": "",
     "output_type": "error",
     "traceback": [
      "\u001b[1;31m---------------------------------------------------------------------------\u001b[0m",
      "\u001b[1;31mKeyboardInterrupt\u001b[0m                         Traceback (most recent call last)",
      "Cell \u001b[1;32mIn[150], line 6\u001b[0m\n\u001b[0;32m      3\u001b[0m sys\u001b[38;5;241m.\u001b[39mpath\u001b[38;5;241m.\u001b[39mappend(\u001b[38;5;124mr\u001b[39m\u001b[38;5;124m'\u001b[39m\u001b[38;5;124mC:\u001b[39m\u001b[38;5;124m\\\u001b[39m\u001b[38;5;124mUsers\u001b[39m\u001b[38;5;124m\\\u001b[39m\u001b[38;5;124mzain.hanif\u001b[39m\u001b[38;5;124m\\\u001b[39m\u001b[38;5;124mDesktop\u001b[39m\u001b[38;5;124m\\\u001b[39m\u001b[38;5;124mHIS Project\u001b[39m\u001b[38;5;124m\\\u001b[39m\u001b[38;5;124mModern-Time-Series-Forecasting-with-Python\u001b[39m\u001b[38;5;124m'\u001b[39m)\n\u001b[0;32m      5\u001b[0m \u001b[38;5;28;01mfrom\u001b[39;00m \u001b[38;5;21;01msrc\u001b[39;00m\u001b[38;5;21;01m.\u001b[39;00m\u001b[38;5;21;01mutils\u001b[39;00m\u001b[38;5;21;01m.\u001b[39;00m\u001b[38;5;21;01mdata_utils\u001b[39;00m \u001b[38;5;28;01mimport\u001b[39;00m write_compact_to_ts\n\u001b[1;32m----> 6\u001b[0m \u001b[43mwrite_compact_to_ts\u001b[49m\u001b[43m(\u001b[49m\u001b[43mhhblock_df\u001b[49m\u001b[43m,\u001b[49m\n\u001b[0;32m      7\u001b[0m \u001b[43m       \u001b[49m\u001b[43mstatic_columns\u001b[49m\u001b[43m \u001b[49m\u001b[38;5;241;43m=\u001b[39;49m\u001b[43m \u001b[49m\u001b[43m[\u001b[49m\u001b[38;5;124;43m'\u001b[39;49m\u001b[38;5;124;43mLCLid\u001b[39;49m\u001b[38;5;124;43m'\u001b[39;49m\u001b[43m,\u001b[49m\u001b[43m \u001b[49m\u001b[38;5;124;43m'\u001b[39;49m\u001b[38;5;124;43mstart_timestamp\u001b[39;49m\u001b[38;5;124;43m'\u001b[39;49m\u001b[43m,\u001b[49m\u001b[43m \u001b[49m\u001b[38;5;124;43m'\u001b[39;49m\u001b[38;5;124;43mfrequency\u001b[39;49m\u001b[38;5;124;43m'\u001b[39;49m\u001b[43m,\u001b[49m\u001b[38;5;124;43m'\u001b[39;49m\u001b[38;5;124;43mseries_length\u001b[39;49m\u001b[38;5;124;43m'\u001b[39;49m\u001b[43m,\u001b[49m\u001b[43m \u001b[49m\u001b[38;5;124;43m'\u001b[39;49m\u001b[38;5;124;43mstdorToU\u001b[39;49m\u001b[38;5;124;43m'\u001b[39;49m\u001b[43m,\u001b[49m\u001b[43m \u001b[49m\u001b[38;5;124;43m'\u001b[39;49m\u001b[38;5;124;43mAcorn\u001b[39;49m\u001b[38;5;124;43m'\u001b[39;49m\u001b[43m,\u001b[49m\u001b[43m \u001b[49m\u001b[38;5;124;43m'\u001b[39;49m\u001b[38;5;124;43mAcorn_grouped\u001b[39;49m\u001b[38;5;124;43m'\u001b[39;49m\u001b[43m,\u001b[49m\u001b[43m \u001b[49m\u001b[38;5;124;43m'\u001b[39;49m\u001b[38;5;124;43mfile\u001b[39;49m\u001b[38;5;124;43m'\u001b[39;49m\u001b[43m]\u001b[49m\u001b[43m,\u001b[49m\u001b[43m \u001b[49m\n\u001b[0;32m      8\u001b[0m \u001b[43m       \u001b[49m\u001b[43mtime_varying_columns\u001b[49m\u001b[43m \u001b[49m\u001b[38;5;241;43m=\u001b[39;49m\u001b[43m \u001b[49m\u001b[43m[\u001b[49m\u001b[38;5;124;43m'\u001b[39;49m\u001b[38;5;124;43menergy_consumption\u001b[39;49m\u001b[38;5;124;43m'\u001b[39;49m\u001b[43m,\u001b[49m\u001b[43m \u001b[49m\u001b[38;5;124;43m'\u001b[39;49m\u001b[38;5;124;43mholidays\u001b[39;49m\u001b[38;5;124;43m'\u001b[39;49m\u001b[43m,\u001b[49m\u001b[43m \u001b[49m\u001b[38;5;124;43m'\u001b[39;49m\u001b[38;5;124;43mvisibility\u001b[39;49m\u001b[38;5;124;43m'\u001b[39;49m\u001b[43m,\u001b[49m\u001b[43m \u001b[49m\u001b[38;5;124;43m'\u001b[39;49m\u001b[38;5;124;43mwindBearing\u001b[39;49m\u001b[38;5;124;43m'\u001b[39;49m\u001b[43m,\u001b[49m\u001b[43m \u001b[49m\u001b[38;5;124;43m'\u001b[39;49m\u001b[38;5;124;43mtemperature\u001b[39;49m\u001b[38;5;124;43m'\u001b[39;49m\u001b[43m,\u001b[49m\u001b[43m \u001b[49m\u001b[38;5;124;43m'\u001b[39;49m\u001b[38;5;124;43mdewPoint\u001b[39;49m\u001b[38;5;124;43m'\u001b[39;49m\u001b[43m,\u001b[49m\n\u001b[0;32m      9\u001b[0m \u001b[43m                              \u001b[49m\u001b[38;5;124;43m'\u001b[39;49m\u001b[38;5;124;43mpressure\u001b[39;49m\u001b[38;5;124;43m'\u001b[39;49m\u001b[43m,\u001b[49m\u001b[43m \u001b[49m\u001b[38;5;124;43m'\u001b[39;49m\u001b[38;5;124;43mapparentTemperature\u001b[39;49m\u001b[38;5;124;43m'\u001b[39;49m\u001b[43m,\u001b[49m\u001b[43m \u001b[49m\u001b[38;5;124;43m'\u001b[39;49m\u001b[38;5;124;43mwindSpeed\u001b[39;49m\u001b[38;5;124;43m'\u001b[39;49m\u001b[43m,\u001b[49m\u001b[43m \u001b[49m\u001b[38;5;124;43m'\u001b[39;49m\u001b[38;5;124;43mprecipType\u001b[39;49m\u001b[38;5;124;43m'\u001b[39;49m\u001b[43m,\u001b[49m\u001b[43m \u001b[49m\u001b[38;5;124;43m'\u001b[39;49m\u001b[38;5;124;43micon\u001b[39;49m\u001b[38;5;124;43m'\u001b[39;49m\u001b[43m,\u001b[49m\u001b[38;5;124;43m'\u001b[39;49m\u001b[38;5;124;43mhumidity\u001b[39;49m\u001b[38;5;124;43m'\u001b[39;49m\u001b[43m,\u001b[49m\u001b[43m \u001b[49m\u001b[38;5;124;43m'\u001b[39;49m\u001b[38;5;124;43msummary\u001b[39;49m\u001b[38;5;124;43m'\u001b[39;49m\u001b[43m]\u001b[49m\u001b[43m,\u001b[49m\n\u001b[0;32m     10\u001b[0m \u001b[43m       \u001b[49m\u001b[43mfilename\u001b[49m\u001b[38;5;241;43m=\u001b[39;49m\u001b[38;5;124;43mf\u001b[39;49m\u001b[38;5;124;43m\"\u001b[39;49m\u001b[38;5;124;43mdata/london_smart_meters/preprocessed/london_smart_meters_merged.ts\u001b[39;49m\u001b[38;5;124;43m\"\u001b[39;49m\u001b[43m,\u001b[49m\n\u001b[0;32m     11\u001b[0m \u001b[43m       \u001b[49m\u001b[43msep\u001b[49m\u001b[38;5;241;43m=\u001b[39;49m\u001b[38;5;124;43m\"\u001b[39;49m\u001b[38;5;124;43m;\u001b[39;49m\u001b[38;5;124;43m\"\u001b[39;49m\u001b[43m,\u001b[49m\n\u001b[0;32m     12\u001b[0m \u001b[43m      \u001b[49m\u001b[43mchunk_size\u001b[49m\u001b[38;5;241;43m=\u001b[39;49m\u001b[38;5;241;43m1000\u001b[39;49m\u001b[43m)\u001b[49m\n",
      "File \u001b[1;32m~\\Desktop\\HIS Project\\Modern-Time-Series-Forecasting-with-Python\\src\\utils\\data_utils.py:235\u001b[0m, in \u001b[0;36mwrite_compact_to_ts\u001b[1;34m(df, filename, static_columns, time_varying_columns, sep, encoding, date_format, chunk_size)\u001b[0m\n\u001b[0;32m    231\u001b[0m     l \u001b[38;5;241m+\u001b[39m\u001b[38;5;241m=\u001b[39m \u001b[38;5;124m\"\u001b[39m\u001b[38;5;130;01m\\n\u001b[39;00m\u001b[38;5;124m\"\u001b[39m\n\u001b[0;32m    232\u001b[0m     \u001b[38;5;28;01mreturn\u001b[39;00m l\n\u001b[0;32m    234\u001b[0m [\n\u001b[1;32m--> 235\u001b[0m     f\u001b[38;5;241m.\u001b[39mwritelines([\u001b[43mwrite_ts\u001b[49m\u001b[43m(\u001b[49m\u001b[43mx\u001b[49m\u001b[38;5;241;43m.\u001b[39;49m\u001b[43mloc\u001b[49m\u001b[43m[\u001b[49m\u001b[43mi\u001b[49m\u001b[43m]\u001b[49m\u001b[43m)\u001b[49m \u001b[38;5;28;01mfor\u001b[39;00m i \u001b[38;5;129;01min\u001b[39;00m tqdm(x\u001b[38;5;241m.\u001b[39mindex)])\n\u001b[0;32m    236\u001b[0m     \u001b[38;5;28;01mfor\u001b[39;00m x \u001b[38;5;129;01min\u001b[39;00m tqdm(\n\u001b[0;32m    237\u001b[0m         np\u001b[38;5;241m.\u001b[39msplit(df, np\u001b[38;5;241m.\u001b[39marange(chunk_size, \u001b[38;5;28mlen\u001b[39m(df), chunk_size)),\n\u001b[0;32m    238\u001b[0m         desc\u001b[38;5;241m=\u001b[39m\u001b[38;5;124m\"\u001b[39m\u001b[38;5;124mWriting in Chunks...\u001b[39m\u001b[38;5;124m\"\u001b[39m,\n\u001b[0;32m    239\u001b[0m     )\n\u001b[0;32m    240\u001b[0m ]\n",
      "File \u001b[1;32m~\\Desktop\\HIS Project\\Modern-Time-Series-Forecasting-with-Python\\src\\utils\\data_utils.py:224\u001b[0m, in \u001b[0;36mwrite_compact_to_ts.<locals>.write_ts\u001b[1;34m(x)\u001b[0m\n\u001b[0;32m    222\u001b[0m \u001b[38;5;28;01mif\u001b[39;00m \u001b[38;5;28misinstance\u001b[39m(x[c], np\u001b[38;5;241m.\u001b[39mndarray):\n\u001b[0;32m    223\u001b[0m     l \u001b[38;5;241m+\u001b[39m\u001b[38;5;241m=\u001b[39m \u001b[38;5;124m\"\u001b[39m\u001b[38;5;124m|\u001b[39m\u001b[38;5;124m\"\u001b[39m\u001b[38;5;241m.\u001b[39mjoin(x[c]\u001b[38;5;241m.\u001b[39mastype(\u001b[38;5;28mstr\u001b[39m))\n\u001b[1;32m--> 224\u001b[0m     l \u001b[38;5;241m+\u001b[39m\u001b[38;5;241m=\u001b[39m sep\n\u001b[0;32m    225\u001b[0m \u001b[38;5;28;01melif\u001b[39;00m \u001b[38;5;28misinstance\u001b[39m(x[c], pd\u001b[38;5;241m.\u001b[39mTimestamp):\n\u001b[0;32m    226\u001b[0m     l \u001b[38;5;241m+\u001b[39m\u001b[38;5;241m=\u001b[39m x[c]\u001b[38;5;241m.\u001b[39mstrftime(date_format)\n",
      "\u001b[1;31mKeyboardInterrupt\u001b[0m: "
     ]
    }
   ],
   "source": [
    "#Takes a long time to finish. Comment out and execute only if needed\n",
    "import sys\n",
    "sys.path.append(r'C:\\Users\\zain.hanif\\Desktop\\HIS Project\\Modern-Time-Series-Forecasting-with-Python')\n",
    "\n",
    "from src.utils.data_utils import write_compact_to_ts\n",
    "write_compact_to_ts(hhblock_df,\n",
    "       static_columns = ['LCLid', 'start_timestamp', 'frequency','series_length', 'stdorToU', 'Acorn', 'Acorn_grouped', 'file'], \n",
    "       time_varying_columns = ['energy_consumption', 'holidays', 'visibility', 'windBearing', 'temperature', 'dewPoint',\n",
    "                              'pressure', 'apparentTemperature', 'windSpeed', 'precipType', 'icon','humidity', 'summary'],\n",
    "       filename=f\"data/london_smart_meters/preprocessed/london_smart_meters_merged.ts\",\n",
    "       sep=\";\",\n",
    "      chunk_size=1000)"
   ]
  },
  {
   "cell_type": "code",
   "execution_count": 117,
   "id": "616395a6-8d70-44ec-aa8f-36293cdebcd1",
   "metadata": {},
   "outputs": [],
   "source": [
    "# Saving the LCLid - Acorn map as a pickle to be used later\n",
    "hhblock_df[['LCLid',\"file\", \"Acorn_grouped\"]].to_pickle(f\"data/london_smart_meters/preprocessed/london_smart_meters_lclid_acorn_map.pkl\")"
   ]
  },
  {
   "cell_type": "markdown",
   "id": "c3c637a5-99ac-421a-9562-a25ae0d71f13",
   "metadata": {},
   "source": [
    "Saving blocks in 8 chunks as parquet"
   ]
  },
  {
   "cell_type": "code",
   "execution_count": 119,
   "id": "c7f3f53c-11e4-4dcc-9449-a043419f7162",
   "metadata": {},
   "outputs": [],
   "source": [
    "# Splitting the blocks into 8 chunks\n",
    "blocks = [f\"block_{i}\" for i in range(111)]\n",
    "\n",
    "n_chunks= 8\n",
    "split_blocks = [blocks[i:i + n_chunks] for i in range(0, len(blocks), n_chunks)] "
   ]
  },
  {
   "cell_type": "code",
   "execution_count": 121,
   "id": "29a6235e-73cb-4c6e-a320-d5d77776f6e8",
   "metadata": {
    "tags": []
   },
   "outputs": [
    {
     "data": {
      "application/vnd.jupyter.widget-view+json": {
       "model_id": "9f6d6c6e9d614325833a18c798e6f6fa",
       "version_major": 2,
       "version_minor": 0
      },
      "text/plain": [
       "  0%|          | 0/14 [00:00<?, ?it/s]"
      ]
     },
     "metadata": {},
     "output_type": "display_data"
    },
    {
     "name": "stdout",
     "output_type": "stream",
     "text": [
      "          LCLid start_timestamp frequency  \\\n",
      "0     MAC000002      2012-10-13     30min   \n",
      "1     MAC000246      2012-01-01     30min   \n",
      "2     MAC000450      2012-03-23     30min   \n",
      "3     MAC001074      2012-05-09     30min   \n",
      "4     MAC003223      2012-09-18     30min   \n",
      "...         ...             ...       ...   \n",
      "3957  MAC004637      2012-07-13     30min   \n",
      "3958  MAC004714      2012-07-15     30min   \n",
      "3959  MAC004814      2012-04-06     30min   \n",
      "3960  MAC004990      2012-01-27     30min   \n",
      "3961  MAC005370      2012-02-24     30min   \n",
      "\n",
      "                                     energy_consumption  series_length  \\\n",
      "0     [0.263, 0.2689999999999999, 0.275, 0.256, 0.21...          24144   \n",
      "1     [0.509, 0.317, 0.253, 0.249, 0.93, 0.607, 0.10...          37872   \n",
      "2     [1.337, 1.426, 0.996, 0.971, 0.994, 0.952, 0.8...          33936   \n",
      "3     [0.18, 0.086, 0.106, 0.173, 0.146, 0.223, 0.21...          31680   \n",
      "4     [0.076, 0.079, 0.123, 0.109, 0.051, 0.069, 0.0...          25344   \n",
      "...                                                 ...            ...   \n",
      "3957  [0.341, 0.231, 0.268, 0.2289999999999999, 0.26...          28560   \n",
      "3958  [0.254, 0.166, 0.085, 0.111, 0.125, 0.107, 0.0...          28464   \n",
      "3959  [0.055, 0.016, 0.012, 0.0579999999999999, 0.01...          33264   \n",
      "3960  [0.111, 0.09, 0.095, 0.098, 0.1009999999999999...          36624   \n",
      "3961  [0.022, 2.0190001, 3.026, 3.5610001, 3.51, 2.2...          35280   \n",
      "\n",
      "     stdorToU    Acorn Acorn_grouped     file  \\\n",
      "0         Std  ACORN-A      Affluent  block_0   \n",
      "1         Std  ACORN-A      Affluent  block_0   \n",
      "2         Std  ACORN-A      Affluent  block_0   \n",
      "3         ToU   ACORN-        ACORN-  block_0   \n",
      "4         Std  ACORN-A      Affluent  block_0   \n",
      "...       ...      ...           ...      ...   \n",
      "3957      Std  ACORN-D      Affluent  block_7   \n",
      "3958      ToU  ACORN-D      Affluent  block_7   \n",
      "3959      ToU  ACORN-D      Affluent  block_7   \n",
      "3960      ToU  ACORN-D      Affluent  block_7   \n",
      "3961      Std  ACORN-D      Affluent  block_7   \n",
      "\n",
      "                                               holidays  ...  \\\n",
      "0     [NO_HOLIDAY, NO_HOLIDAY, NO_HOLIDAY, NO_HOLIDA...  ...   \n",
      "1     [NO_HOLIDAY, NO_HOLIDAY, NO_HOLIDAY, NO_HOLIDA...  ...   \n",
      "2     [NO_HOLIDAY, NO_HOLIDAY, NO_HOLIDAY, NO_HOLIDA...  ...   \n",
      "3     [NO_HOLIDAY, NO_HOLIDAY, NO_HOLIDAY, NO_HOLIDA...  ...   \n",
      "4     [NO_HOLIDAY, NO_HOLIDAY, NO_HOLIDAY, NO_HOLIDA...  ...   \n",
      "...                                                 ...  ...   \n",
      "3957  [NO_HOLIDAY, NO_HOLIDAY, NO_HOLIDAY, NO_HOLIDA...  ...   \n",
      "3958  [NO_HOLIDAY, NO_HOLIDAY, NO_HOLIDAY, NO_HOLIDA...  ...   \n",
      "3959  [Spring bank holiday (substitute day), Spring ...  ...   \n",
      "3960  [NO_HOLIDAY, NO_HOLIDAY, NO_HOLIDAY, NO_HOLIDA...  ...   \n",
      "3961  [NO_HOLIDAY, NO_HOLIDAY, NO_HOLIDAY, NO_HOLIDA...  ...   \n",
      "\n",
      "                                            windBearing  \\\n",
      "0     [186, 186, 188, 188, 190, 190, 203, 203, 206, ...   \n",
      "1     [229, 229, 238, 238, 229, 229, 231, 231, 227, ...   \n",
      "2     [78, 78, 73, 73, 81, 81, 80, 80, 75, 75, 71, 7...   \n",
      "3     [215, 215, 207, 207, 215, 215, 216, 216, 126, ...   \n",
      "4     [236, 236, 240, 240, 242, 242, 244, 244, 248, ...   \n",
      "...                                                 ...   \n",
      "3957  [214, 214, 214, 214, 213, 213, 215, 215, 223, ...   \n",
      "3958  [250, 250, 259, 259, 267, 267, 284, 284, 286, ...   \n",
      "3959  [12, 12, 358, 358, 350, 350, 342, 342, 335, 33...   \n",
      "3960  [231, 231, 215, 215, 214, 214, 219, 219, 219, ...   \n",
      "3961  [256, 256, 257, 257, 257, 257, 250, 250, 250, ...   \n",
      "\n",
      "                                            temperature  \\\n",
      "0     [8.78, 8.78, 8.27, 8.27, 7.87, 7.87, 7.89, 7.8...   \n",
      "1     [12.12, 12.12, 12.59, 12.59, 12.45, 12.45, 12....   \n",
      "2     [8.76, 8.76, 8.54, 8.54, 8.09, 8.09, 7.34, 7.3...   \n",
      "3     [11.46, 11.46, 11.38, 11.38, 11.38, 11.38, 10....   \n",
      "4     [14.06, 14.06, 13.12, 13.12, 12.53, 12.53, 12....   \n",
      "...                                                 ...   \n",
      "3957  [14.31, 14.31, 14.31, 14.31, 14.37, 14.37, 14....   \n",
      "3958  [12.72, 12.72, 12.72, 12.72, 12.98, 12.98, 12....   \n",
      "3959  [3.38, 3.38, 2.46, 2.46, 2.24, 2.24, 1.66, 1.6...   \n",
      "3960  [3.03, 3.03, 2.95, 2.95, 3.33, 3.33, 2.93, 2.9...   \n",
      "3961  [9.8, 9.8, 9.71, 9.71, 10.05, 10.05, 10.05, 10...   \n",
      "\n",
      "                                               dewPoint  \\\n",
      "0     [6.28, 6.28, 6.21, 6.21, 6.22, 6.22, 6.76, 6.7...   \n",
      "1     [10.97, 10.97, 11.02, 11.02, 11.04, 11.04, 10....   \n",
      "2     [7.25, 7.25, 7.12, 7.12, 7.17, 7.17, 6.68, 6.6...   \n",
      "3     [10.23, 10.23, 10.17, 10.17, 10.24, 10.24, 10....   \n",
      "4     [10.82, 10.82, 10.29, 10.29, 9.86, 9.86, 9.83,...   \n",
      "...                                                 ...   \n",
      "3957  [13.22, 13.22, 13.53, 13.53, 13.58, 13.58, 13....   \n",
      "3958  [12.01, 12.01, 12.0, 12.0, 12.32, 12.32, 11.83...   \n",
      "3959  [-0.33, -0.33, -0.93, -0.93, -1.3, -1.3, -1.79...   \n",
      "3960  [1.28, 1.28, 1.22, 1.22, 0.84, 0.84, 0.77, 0.7...   \n",
      "3961  [8.11, 8.11, 8.08, 8.08, 8.43, 8.43, 8.47, 8.4...   \n",
      "\n",
      "                                               pressure  \\\n",
      "0     [1007.7, 1007.7, 1007.36, 1007.36, 1006.73, 10...   \n",
      "1     [1008.1, 1008.1, 1007.88, 1007.88, 1007.95, 10...   \n",
      "2     [1027.41, 1027.41, 1026.91, 1026.91, 1026.54, ...   \n",
      "3     [1007.39, 1007.39, 1007.21, 1007.21, 1007.06, ...   \n",
      "4     [1011.09, 1011.09, 1010.82, 1010.82, 1010.65, ...   \n",
      "...                                                 ...   \n",
      "3957  [1005.61, 1005.61, 1004.8, 1004.8, 1004.01, 10...   \n",
      "3958  [1011.2, 1011.2, 1011.17, 1011.17, 1011.23, 10...   \n",
      "3959  [1020.31, 1020.31, 1019.99, 1019.99, 1019.64, ...   \n",
      "3960  [1015.23, 1015.23, 1015.58, 1015.58, 1016.01, ...   \n",
      "3961  [1026.39, 1026.39, 1026.63, 1026.63, 1026.61, ...   \n",
      "\n",
      "                                    apparentTemperature  \\\n",
      "0     [7.55, 7.55, 7.34, 7.34, 6.75, 6.75, 6.89, 6.8...   \n",
      "1     [12.12, 12.12, 12.59, 12.59, 12.45, 12.45, 12....   \n",
      "2     [7.59, 7.59, 7.43, 7.43, 7.24, 7.24, 7.34, 7.3...   \n",
      "3     [11.46, 11.46, 11.38, 11.38, 11.38, 11.38, 10....   \n",
      "4     [14.06, 14.06, 13.12, 13.12, 12.53, 12.53, 12....   \n",
      "...                                                 ...   \n",
      "3957  [14.31, 14.31, 14.31, 14.31, 14.37, 14.37, 14....   \n",
      "3958  [12.72, 12.72, 12.72, 12.72, 12.98, 12.98, 12....   \n",
      "3959  [1.64, 1.64, 0.63, 0.63, 0.53, 0.53, 0.04, 0.0...   \n",
      "3960  [-0.42, -0.42, 0.08, 0.08, 0.64, 0.64, -0.22, ...   \n",
      "3961  [7.57, 7.57, 7.49, 7.49, 10.05, 10.05, 10.05, ...   \n",
      "\n",
      "                                              windSpeed  \\\n",
      "0     [2.28, 2.28, 1.81, 1.81, 1.95, 1.95, 1.83, 1.8...   \n",
      "1     [5.9, 5.9, 6.06, 6.06, 5.31, 5.31, 4.68, 4.68,...   \n",
      "2     [2.18, 2.18, 2.07, 2.07, 1.72, 1.72, 1.34, 1.3...   \n",
      "3     [2.35, 2.35, 2.15, 2.15, 1.84, 1.84, 1.22, 1.2...   \n",
      "4     [3.86, 3.86, 3.81, 3.81, 4.27, 4.27, 4.12, 4.1...   \n",
      "...                                                 ...   \n",
      "3957  [5.29, 5.29, 5.07, 5.07, 4.55, 4.55, 4.29, 4.2...   \n",
      "3958  [1.73, 1.73, 2.15, 2.15, 2.31, 2.31, 2.28, 2.2...   \n",
      "3959  [1.86, 1.86, 1.81, 1.81, 1.69, 1.69, 1.56, 1.5...   \n",
      "3960  [3.78, 3.78, 2.95, 2.95, 2.83, 2.83, 3.33, 3.3...   \n",
      "3961  [4.42, 4.42, 4.34, 4.34, 4.24, 4.24, 4.39, 4.3...   \n",
      "\n",
      "                                             precipType  \\\n",
      "0     [rain, rain, rain, rain, rain, rain, rain, rai...   \n",
      "1     [rain, rain, rain, rain, rain, rain, rain, rai...   \n",
      "2     [rain, rain, rain, rain, rain, rain, rain, rai...   \n",
      "3     [rain, rain, rain, rain, rain, rain, rain, rai...   \n",
      "4     [rain, rain, rain, rain, rain, rain, rain, rai...   \n",
      "...                                                 ...   \n",
      "3957  [rain, rain, rain, rain, rain, rain, rain, rai...   \n",
      "3958  [rain, rain, rain, rain, rain, rain, rain, rai...   \n",
      "3959  [rain, rain, rain, rain, rain, rain, rain, rai...   \n",
      "3960  [rain, rain, rain, rain, rain, rain, rain, rai...   \n",
      "3961  [rain, rain, rain, rain, rain, rain, rain, rai...   \n",
      "\n",
      "                                                   icon  \\\n",
      "0     [clear-night, clear-night, clear-night, clear-...   \n",
      "1     [partly-cloudy-night, partly-cloudy-night, clo...   \n",
      "2     [fog, fog, fog, fog, fog, fog, fog, fog, fog, ...   \n",
      "3     [partly-cloudy-night, partly-cloudy-night, par...   \n",
      "4     [clear-night, clear-night, clear-night, clear-...   \n",
      "...                                                 ...   \n",
      "3957  [partly-cloudy-night, partly-cloudy-night, par...   \n",
      "3958  [clear-night, clear-night, partly-cloudy-night...   \n",
      "3959  [clear-night, clear-night, clear-night, clear-...   \n",
      "3960  [clear-night, clear-night, clear-night, clear-...   \n",
      "3961  [partly-cloudy-night, partly-cloudy-night, par...   \n",
      "\n",
      "                                               humidity  \\\n",
      "0     [0.84, 0.84, 0.87, 0.87, 0.89, 0.89, 0.93, 0.9...   \n",
      "1     [0.93, 0.93, 0.9, 0.9, 0.91, 0.91, 0.93, 0.93,...   \n",
      "2     [0.9, 0.9, 0.91, 0.91, 0.94, 0.94, 0.96, 0.96,...   \n",
      "3     [0.92, 0.92, 0.92, 0.92, 0.93, 0.93, 0.95, 0.9...   \n",
      "4     [0.81, 0.81, 0.83, 0.83, 0.84, 0.84, 0.86, 0.8...   \n",
      "...                                                 ...   \n",
      "3957  [0.93, 0.93, 0.95, 0.95, 0.95, 0.95, 0.95, 0.9...   \n",
      "3958  [0.95, 0.95, 0.95, 0.95, 0.96, 0.96, 0.95, 0.9...   \n",
      "3959  [0.77, 0.77, 0.78, 0.78, 0.77, 0.77, 0.78, 0.7...   \n",
      "3960  [0.88, 0.88, 0.88, 0.88, 0.84, 0.84, 0.86, 0.8...   \n",
      "3961  [0.89, 0.89, 0.9, 0.9, 0.9, 0.9, 0.9, 0.9, 0.8...   \n",
      "\n",
      "                                                summary  \n",
      "0     [Clear, Clear, Clear, Clear, Partly Cloudy, Pa...  \n",
      "1     [Mostly Cloudy, Mostly Cloudy, Overcast, Overc...  \n",
      "2     [Foggy, Foggy, Foggy, Foggy, Foggy, Foggy, Fog...  \n",
      "3     [Partly Cloudy, Partly Cloudy, Mostly Cloudy, ...  \n",
      "4     [Clear, Clear, Clear, Clear, Clear, Clear, Par...  \n",
      "...                                                 ...  \n",
      "3957  [Mostly Cloudy, Mostly Cloudy, Mostly Cloudy, ...  \n",
      "3958  [Clear, Clear, Partly Cloudy, Partly Cloudy, P...  \n",
      "3959  [Clear, Clear, Clear, Clear, Clear, Clear, Cle...  \n",
      "3960  [Clear, Clear, Clear, Clear, Clear, Clear, Cle...  \n",
      "3961  [Partly Cloudy, Partly Cloudy, Mostly Cloudy, ...  \n",
      "\n",
      "[399 rows x 21 columns]\n",
      "block_0-7\n",
      "          LCLid start_timestamp frequency  \\\n",
      "100   MAC000322      2012-03-07     30min   \n",
      "101   MAC000393      2012-03-14     30min   \n",
      "102   MAC000462      2012-03-25     30min   \n",
      "103   MAC000522      2012-03-28     30min   \n",
      "104   MAC000531      2012-03-29     30min   \n",
      "...         ...             ...       ...   \n",
      "5056  MAC004987      2012-01-27     30min   \n",
      "5057  MAC005015      2012-01-31     30min   \n",
      "5058  MAC005380      2012-02-25     30min   \n",
      "5059  MAC005504      2012-04-18     30min   \n",
      "5060  MAC005517      2012-04-18     30min   \n",
      "\n",
      "                                     energy_consumption  series_length  \\\n",
      "100   [0.125, 0.104, 0.133, 0.145, 0.109, 0.298, 0.1...          34704   \n",
      "101   [0.1169999999999999, 0.084, 0.08, 0.086, 0.094...          34368   \n",
      "102   [0.436, 0.098, 0.055, 0.0409999999999999, 0.44...          33840   \n",
      "103   [0.0969999999999999, 0.094, 0.093, 0.08, 0.04,...          33696   \n",
      "104   [0.042, 0.01, 0.009, 0.042, 0.01, 0.009, 0.042...          33648   \n",
      "...                                                 ...            ...   \n",
      "5056  [0.386, 0.3429999999999999, 0.34, 0.331, 0.332...          36624   \n",
      "5057  [0.061, 0.05, 0.059, 0.047, 0.061, 0.05, 0.054...          36432   \n",
      "5058  [0.077, 0.027, 0.283, 0.284, 0.131, 0.023, 0.0...          35232   \n",
      "5059  [0.135, 0.1, 0.094, 0.094, 0.1009999999999999,...          32688   \n",
      "5060  [0.053, 0.054, 0.064, 0.053, 0.055, 0.06, 0.05...          32688   \n",
      "\n",
      "     stdorToU    Acorn Acorn_grouped      file  \\\n",
      "100       Std  ACORN-D      Affluent  block_10   \n",
      "101       Std  ACORN-D      Affluent  block_10   \n",
      "102       Std  ACORN-D      Affluent  block_10   \n",
      "103       Std  ACORN-D      Affluent  block_10   \n",
      "104       Std  ACORN-D      Affluent  block_10   \n",
      "...       ...      ...           ...       ...   \n",
      "5056      Std  ACORN-D      Affluent   block_9   \n",
      "5057      Std  ACORN-D      Affluent   block_9   \n",
      "5058      Std  ACORN-D      Affluent   block_9   \n",
      "5059      Std  ACORN-D      Affluent   block_9   \n",
      "5060      Std  ACORN-D      Affluent   block_9   \n",
      "\n",
      "                                               holidays  ...  \\\n",
      "100   [NO_HOLIDAY, NO_HOLIDAY, NO_HOLIDAY, NO_HOLIDA...  ...   \n",
      "101   [NO_HOLIDAY, NO_HOLIDAY, NO_HOLIDAY, NO_HOLIDA...  ...   \n",
      "102   [NO_HOLIDAY, NO_HOLIDAY, NO_HOLIDAY, NO_HOLIDA...  ...   \n",
      "103   [NO_HOLIDAY, NO_HOLIDAY, NO_HOLIDAY, NO_HOLIDA...  ...   \n",
      "104   [NO_HOLIDAY, NO_HOLIDAY, NO_HOLIDAY, NO_HOLIDA...  ...   \n",
      "...                                                 ...  ...   \n",
      "5056  [NO_HOLIDAY, NO_HOLIDAY, NO_HOLIDAY, NO_HOLIDA...  ...   \n",
      "5057  [NO_HOLIDAY, NO_HOLIDAY, NO_HOLIDAY, NO_HOLIDA...  ...   \n",
      "5058  [NO_HOLIDAY, NO_HOLIDAY, NO_HOLIDAY, NO_HOLIDA...  ...   \n",
      "5059  [NO_HOLIDAY, NO_HOLIDAY, NO_HOLIDAY, NO_HOLIDA...  ...   \n",
      "5060  [NO_HOLIDAY, NO_HOLIDAY, NO_HOLIDAY, NO_HOLIDA...  ...   \n",
      "\n",
      "                                            windBearing  \\\n",
      "100   [199, 199, 202, 202, 204, 204, 209, 209, 207, ...   \n",
      "101   [86, 86, 95, 95, 100, 100, 93, 93, 94, 94, 95,...   \n",
      "102   [73, 73, 43, 43, 51, 51, 67, 67, 62, 62, 53, 5...   \n",
      "103   [91, 91, 101, 101, 9, 9, 358, 358, 321, 321, 3...   \n",
      "104   [294, 294, 295, 295, 301, 301, 283, 283, 293, ...   \n",
      "...                                                 ...   \n",
      "5056  [231, 231, 215, 215, 214, 214, 219, 219, 219, ...   \n",
      "5057  [9, 9, 24, 24, 24, 24, 34, 34, 45, 45, 32, 32,...   \n",
      "5058  [337, 337, 352, 352, 340, 340, 329, 329, 327, ...   \n",
      "5059  [197, 197, 195, 195, 183, 183, 173, 173, 173, ...   \n",
      "5060  [197, 197, 195, 195, 183, 183, 173, 173, 173, ...   \n",
      "\n",
      "                                            temperature  \\\n",
      "100   [5.53, 5.53, 5.72, 5.72, 5.84, 5.84, 5.96, 5.9...   \n",
      "101   [6.32, 6.32, 5.91, 5.91, 5.87, 5.87, 5.77, 5.7...   \n",
      "102   [7.56, 7.56, 7.35, 7.35, 7.22, 7.22, 6.71, 6.7...   \n",
      "103   [7.95, 7.95, 7.09, 7.09, 6.48, 6.48, 5.79, 5.7...   \n",
      "104   [9.29, 9.29, 8.24, 8.24, 7.8, 7.8, 7.54, 7.54,...   \n",
      "...                                                 ...   \n",
      "5056  [3.03, 3.03, 2.95, 2.95, 3.33, 3.33, 2.93, 2.9...   \n",
      "5057  [2.13, 2.13, 1.67, 1.67, 1.49, 1.49, 1.33, 1.3...   \n",
      "5058  [10.69, 10.69, 9.82, 9.82, 9.26, 9.26, 8.36, 8...   \n",
      "5059  [6.31, 6.31, 6.35, 6.35, 6.38, 6.38, 6.44, 6.4...   \n",
      "5060  [6.31, 6.31, 6.35, 6.35, 6.38, 6.38, 6.44, 6.4...   \n",
      "\n",
      "                                               dewPoint  \\\n",
      "100   [2.41, 2.41, 2.45, 2.45, 2.6, 2.6, 3.19, 3.19,...   \n",
      "101   [3.89, 3.89, 3.92, 3.92, 3.8, 3.8, 3.71, 3.71,...   \n",
      "102   [4.66, 4.66, 4.18, 4.18, 4.46, 4.46, 4.03, 4.0...   \n",
      "103   [-0.09, -0.09, 0.18, 0.18, 0.59, 0.59, 0.82, 0...   \n",
      "104   [5.31, 5.31, 4.86, 4.86, 4.94, 4.94, 4.69, 4.6...   \n",
      "...                                                 ...   \n",
      "5056  [1.28, 1.28, 1.22, 1.22, 0.84, 0.84, 0.77, 0.7...   \n",
      "5057  [0.07, 0.07, -0.31, -0.31, -0.44, -0.44, -0.82...   \n",
      "5058  [7.13, 7.13, 6.22, 6.22, 4.24, 4.24, 3.67, 3.6...   \n",
      "5059  [3.52, 3.52, 3.62, 3.62, 4.19, 4.19, 4.17, 4.1...   \n",
      "5060  [3.52, 3.52, 3.62, 3.62, 4.19, 4.19, 4.17, 4.1...   \n",
      "\n",
      "                                               pressure  \\\n",
      "100   [1024.14, 1024.14, 1023.4, 1023.4, 1022.34, 10...   \n",
      "101   [1033.79, 1033.79, 1033.42, 1033.42, 1033.13, ...   \n",
      "102   [1031.12, 1031.12, 1031.31, 1031.31, 1031.54, ...   \n",
      "103   [1035.05, 1035.05, 1034.93, 1034.93, 1034.58, ...   \n",
      "104   [1029.59, 1029.59, 1029.61, 1029.61, 1029.35, ...   \n",
      "...                                                 ...   \n",
      "5056  [1015.23, 1015.23, 1015.58, 1015.58, 1016.01, ...   \n",
      "5057  [1023.7, 1023.7, 1023.68, 1023.68, 1023.7, 102...   \n",
      "5058  [1029.32, 1029.32, 1029.39, 1029.39, 1029.18, ...   \n",
      "5059  [992.26, 992.26, 991.04, 991.04, 989.79, 989.7...   \n",
      "5060  [992.26, 992.26, 991.04, 991.04, 989.79, 989.7...   \n",
      "\n",
      "                                    apparentTemperature  \\\n",
      "100   [2.65, 2.65, 2.53, 2.53, 2.47, 2.47, 2.47, 2.4...   \n",
      "101   [5.32, 5.32, 4.54, 4.54, 3.99, 3.99, 4.0, 4.0,...   \n",
      "102   [7.56, 7.56, 7.35, 7.35, 6.4, 6.4, 5.49, 5.49,...   \n",
      "103   [7.95, 7.95, 7.09, 7.09, 6.48, 6.48, 5.79, 5.7...   \n",
      "104   [9.29, 9.29, 8.24, 8.24, 7.23, 7.23, 7.54, 7.5...   \n",
      "...                                                 ...   \n",
      "5056  [-0.42, -0.42, 0.08, 0.08, 0.64, 0.64, -0.22, ...   \n",
      "5057  [0.71, 0.71, -0.03, -0.03, 0.07, 0.07, -0.13, ...   \n",
      "5058  [10.69, 10.69, 9.13, 9.13, 8.38, 8.38, 7.14, 7...   \n",
      "5059  [3.28, 3.28, 3.14, 3.14, 3.59, 3.59, 3.27, 3.2...   \n",
      "5060  [3.28, 3.28, 3.14, 3.14, 3.59, 3.59, 3.27, 3.2...   \n",
      "\n",
      "                                              windSpeed  \\\n",
      "100   [3.76, 3.76, 4.39, 4.39, 4.83, 4.83, 5.14, 5.1...   \n",
      "101   [1.61, 1.61, 1.88, 1.88, 2.43, 2.43, 2.29, 2.2...   \n",
      "102   [1.04, 1.04, 0.91, 0.91, 1.56, 1.56, 1.87, 1.8...   \n",
      "103   [0.91, 0.91, 0.44, 0.44, 0.41, 0.41, 0.77, 0.7...   \n",
      "104   [0.91, 0.91, 0.92, 0.92, 1.43, 1.43, 1.33, 1.3...   \n",
      "...                                                 ...   \n",
      "5056  [3.78, 3.78, 2.95, 2.95, 2.83, 2.83, 3.33, 3.3...   \n",
      "5057  [1.47, 1.47, 1.63, 1.63, 1.42, 1.42, 1.43, 1.4...   \n",
      "5058  [2.01, 2.01, 1.83, 1.83, 1.95, 1.95, 2.16, 2.1...   \n",
      "5059  [4.35, 4.35, 4.75, 4.75, 3.92, 3.92, 4.72, 4.7...   \n",
      "5060  [4.35, 4.35, 4.75, 4.75, 3.92, 3.92, 4.72, 4.7...   \n",
      "\n",
      "                                             precipType  \\\n",
      "100   [rain, rain, rain, rain, rain, rain, rain, rai...   \n",
      "101   [rain, rain, rain, rain, rain, rain, rain, rai...   \n",
      "102   [rain, rain, rain, rain, rain, rain, rain, rai...   \n",
      "103   [rain, rain, rain, rain, rain, rain, rain, rai...   \n",
      "104   [rain, rain, rain, rain, rain, rain, rain, rai...   \n",
      "...                                                 ...   \n",
      "5056  [rain, rain, rain, rain, rain, rain, rain, rai...   \n",
      "5057  [rain, rain, rain, rain, rain, rain, rain, rai...   \n",
      "5058  [rain, rain, rain, rain, rain, rain, rain, rai...   \n",
      "5059  [rain, rain, rain, rain, rain, rain, rain, rai...   \n",
      "5060  [rain, rain, rain, rain, rain, rain, rain, rai...   \n",
      "\n",
      "                                                   icon  \\\n",
      "100   [partly-cloudy-night, partly-cloudy-night, par...   \n",
      "101   [cloudy, cloudy, cloudy, cloudy, cloudy, cloud...   \n",
      "102   [clear-night, clear-night, clear-night, clear-...   \n",
      "103   [clear-night, clear-night, clear-night, clear-...   \n",
      "104   [clear-night, clear-night, clear-night, clear-...   \n",
      "...                                                 ...   \n",
      "5056  [clear-night, clear-night, clear-night, clear-...   \n",
      "5057  [partly-cloudy-night, partly-cloudy-night, par...   \n",
      "5058  [partly-cloudy-night, partly-cloudy-night, par...   \n",
      "5059  [partly-cloudy-night, partly-cloudy-night, par...   \n",
      "5060  [partly-cloudy-night, partly-cloudy-night, par...   \n",
      "\n",
      "                                               humidity  \\\n",
      "100   [0.8, 0.8, 0.8, 0.8, 0.8, 0.8, 0.82, 0.82, 0.8...   \n",
      "101   [0.84, 0.84, 0.87, 0.87, 0.87, 0.87, 0.87, 0.8...   \n",
      "102   [0.82, 0.82, 0.8, 0.8, 0.83, 0.83, 0.83, 0.83,...   \n",
      "103   [0.57, 0.57, 0.61, 0.61, 0.66, 0.66, 0.7, 0.7,...   \n",
      "104   [0.76, 0.76, 0.79, 0.79, 0.82, 0.82, 0.82, 0.8...   \n",
      "...                                                 ...   \n",
      "5056  [0.88, 0.88, 0.88, 0.88, 0.84, 0.84, 0.86, 0.8...   \n",
      "5057  [0.86, 0.86, 0.87, 0.87, 0.87, 0.87, 0.86, 0.8...   \n",
      "5058  [0.79, 0.79, 0.78, 0.78, 0.71, 0.71, 0.72, 0.7...   \n",
      "5059  [0.82, 0.82, 0.83, 0.83, 0.86, 0.86, 0.85, 0.8...   \n",
      "5060  [0.82, 0.82, 0.83, 0.83, 0.86, 0.86, 0.85, 0.8...   \n",
      "\n",
      "                                                summary  \n",
      "100   [Partly Cloudy, Partly Cloudy, Partly Cloudy, ...  \n",
      "101   [Overcast, Overcast, Overcast, Overcast, Overc...  \n",
      "102   [Clear, Clear, Clear, Clear, Clear, Clear, Cle...  \n",
      "103   [Clear, Clear, Clear, Clear, Clear, Clear, Cle...  \n",
      "104   [Clear, Clear, Clear, Clear, Clear, Clear, Cle...  \n",
      "...                                                 ...  \n",
      "5056  [Clear, Clear, Clear, Clear, Clear, Clear, Cle...  \n",
      "5057  [Mostly Cloudy, Mostly Cloudy, Partly Cloudy, ...  \n",
      "5058  [Mostly Cloudy, Mostly Cloudy, Mostly Cloudy, ...  \n",
      "5059  [Partly Cloudy, Partly Cloudy, Partly Cloudy, ...  \n",
      "5060  [Partly Cloudy, Partly Cloudy, Partly Cloudy, ...  \n",
      "\n",
      "[400 rows x 21 columns]\n",
      "block_8-15\n",
      "          LCLid start_timestamp frequency  \\\n",
      "964   MAC000095      2012-01-01     30min   \n",
      "965   MAC000320      2012-03-07     30min   \n",
      "966   MAC000521      2012-03-28     30min   \n",
      "967   MAC000523      2012-03-28     30min   \n",
      "968   MAC000525      2012-03-29     30min   \n",
      "...         ...             ...       ...   \n",
      "1409  MAC004617      2012-07-12     30min   \n",
      "1410  MAC004618      2012-07-12     30min   \n",
      "1411  MAC004619      2012-07-12     30min   \n",
      "1412  MAC004625      2012-07-12     30min   \n",
      "1413  MAC004627      2012-07-12     30min   \n",
      "\n",
      "                                     energy_consumption  series_length  \\\n",
      "964   [0.072, 0.067, 0.047, 0.048, 0.091, 0.047, 0.0...          37872   \n",
      "965   [0.037, 1.505, 0.422, 0.372, 0.128, 0.127, 0.2...          34704   \n",
      "966   [0.072, 0.13, 0.109, 0.127, 0.087, 0.066, 0.14...          33696   \n",
      "967   [0.061, 0.033, 0.022, 0.022, 0.062, 0.033, 0.0...          33696   \n",
      "968   [0.089, 0.472, 0.052, 0.07, 0.109, 0.129, 0.12...          33648   \n",
      "...                                                 ...            ...   \n",
      "1409  [0.083, 0.111, 0.075, 0.07, 0.1, 0.08199999999...          28608   \n",
      "1410  [0.05, 0.037, 0.062, 0.048, 0.045, 0.042, 0.06...          28608   \n",
      "1411  [0.2769999999999999, 0.302, 0.356, 0.312, 0.27...          28608   \n",
      "1412  [0.025, 0.015, 0.0139999999999999, 0.02, 0.071...          28608   \n",
      "1413  [0.016, 0.069, 0.0069999999999999, 0.006999999...          28608   \n",
      "\n",
      "     stdorToU    Acorn Acorn_grouped      file  \\\n",
      "964       Std  ACORN-E      Affluent  block_16   \n",
      "965       Std  ACORN-E      Affluent  block_16   \n",
      "966       ToU  ACORN-E      Affluent  block_16   \n",
      "967       ToU  ACORN-E      Affluent  block_16   \n",
      "968       ToU  ACORN-E      Affluent  block_16   \n",
      "...       ...      ...           ...       ...   \n",
      "1409      Std  ACORN-E      Affluent  block_23   \n",
      "1410      Std  ACORN-E      Affluent  block_23   \n",
      "1411      Std  ACORN-E      Affluent  block_23   \n",
      "1412      Std  ACORN-E      Affluent  block_23   \n",
      "1413      Std  ACORN-E      Affluent  block_23   \n",
      "\n",
      "                                               holidays  ...  \\\n",
      "964   [NO_HOLIDAY, NO_HOLIDAY, NO_HOLIDAY, NO_HOLIDA...  ...   \n",
      "965   [NO_HOLIDAY, NO_HOLIDAY, NO_HOLIDAY, NO_HOLIDA...  ...   \n",
      "966   [NO_HOLIDAY, NO_HOLIDAY, NO_HOLIDAY, NO_HOLIDA...  ...   \n",
      "967   [NO_HOLIDAY, NO_HOLIDAY, NO_HOLIDAY, NO_HOLIDA...  ...   \n",
      "968   [NO_HOLIDAY, NO_HOLIDAY, NO_HOLIDAY, NO_HOLIDA...  ...   \n",
      "...                                                 ...  ...   \n",
      "1409  [NO_HOLIDAY, NO_HOLIDAY, NO_HOLIDAY, NO_HOLIDA...  ...   \n",
      "1410  [NO_HOLIDAY, NO_HOLIDAY, NO_HOLIDAY, NO_HOLIDA...  ...   \n",
      "1411  [NO_HOLIDAY, NO_HOLIDAY, NO_HOLIDAY, NO_HOLIDA...  ...   \n",
      "1412  [NO_HOLIDAY, NO_HOLIDAY, NO_HOLIDAY, NO_HOLIDA...  ...   \n",
      "1413  [NO_HOLIDAY, NO_HOLIDAY, NO_HOLIDAY, NO_HOLIDA...  ...   \n",
      "\n",
      "                                            windBearing  \\\n",
      "964   [229, 229, 238, 238, 229, 229, 231, 231, 227, ...   \n",
      "965   [199, 199, 202, 202, 204, 204, 209, 209, 207, ...   \n",
      "966   [91, 91, 101, 101, 9, 9, 358, 358, 321, 321, 3...   \n",
      "967   [91, 91, 101, 101, 9, 9, 358, 358, 321, 321, 3...   \n",
      "968   [294, 294, 295, 295, 301, 301, 283, 283, 293, ...   \n",
      "...                                                 ...   \n",
      "1409  [265, 265, 271, 271, 264, 264, 262, 262, 253, ...   \n",
      "1410  [265, 265, 271, 271, 264, 264, 262, 262, 253, ...   \n",
      "1411  [265, 265, 271, 271, 264, 264, 262, 262, 253, ...   \n",
      "1412  [265, 265, 271, 271, 264, 264, 262, 262, 253, ...   \n",
      "1413  [265, 265, 271, 271, 264, 264, 262, 262, 253, ...   \n",
      "\n",
      "                                            temperature  \\\n",
      "964   [12.12, 12.12, 12.59, 12.59, 12.45, 12.45, 12....   \n",
      "965   [5.53, 5.53, 5.72, 5.72, 5.84, 5.84, 5.96, 5.9...   \n",
      "966   [7.95, 7.95, 7.09, 7.09, 6.48, 6.48, 5.79, 5.7...   \n",
      "967   [7.95, 7.95, 7.09, 7.09, 6.48, 6.48, 5.79, 5.7...   \n",
      "968   [9.29, 9.29, 8.24, 8.24, 7.8, 7.8, 7.54, 7.54,...   \n",
      "...                                                 ...   \n",
      "1409  [12.44, 12.44, 11.96, 11.96, 11.41, 11.41, 10....   \n",
      "1410  [12.44, 12.44, 11.96, 11.96, 11.41, 11.41, 10....   \n",
      "1411  [12.44, 12.44, 11.96, 11.96, 11.41, 11.41, 10....   \n",
      "1412  [12.44, 12.44, 11.96, 11.96, 11.41, 11.41, 10....   \n",
      "1413  [12.44, 12.44, 11.96, 11.96, 11.41, 11.41, 10....   \n",
      "\n",
      "                                               dewPoint  \\\n",
      "964   [10.97, 10.97, 11.02, 11.02, 11.04, 11.04, 10....   \n",
      "965   [2.41, 2.41, 2.45, 2.45, 2.6, 2.6, 3.19, 3.19,...   \n",
      "966   [-0.09, -0.09, 0.18, 0.18, 0.59, 0.59, 0.82, 0...   \n",
      "967   [-0.09, -0.09, 0.18, 0.18, 0.59, 0.59, 0.82, 0...   \n",
      "968   [5.31, 5.31, 4.86, 4.86, 4.94, 4.94, 4.69, 4.6...   \n",
      "...                                                 ...   \n",
      "1409  [11.24, 11.24, 10.84, 10.84, 10.27, 10.27, 9.7...   \n",
      "1410  [11.24, 11.24, 10.84, 10.84, 10.27, 10.27, 9.7...   \n",
      "1411  [11.24, 11.24, 10.84, 10.84, 10.27, 10.27, 9.7...   \n",
      "1412  [11.24, 11.24, 10.84, 10.84, 10.27, 10.27, 9.7...   \n",
      "1413  [11.24, 11.24, 10.84, 10.84, 10.27, 10.27, 9.7...   \n",
      "\n",
      "                                               pressure  \\\n",
      "964   [1008.1, 1008.1, 1007.88, 1007.88, 1007.95, 10...   \n",
      "965   [1024.14, 1024.14, 1023.4, 1023.4, 1022.34, 10...   \n",
      "966   [1035.05, 1035.05, 1034.93, 1034.93, 1034.58, ...   \n",
      "967   [1035.05, 1035.05, 1034.93, 1034.93, 1034.58, ...   \n",
      "968   [1029.59, 1029.59, 1029.61, 1029.61, 1029.35, ...   \n",
      "...                                                 ...   \n",
      "1409  [1011.75, 1011.75, 1012.13, 1012.13, 1012.36, ...   \n",
      "1410  [1011.75, 1011.75, 1012.13, 1012.13, 1012.36, ...   \n",
      "1411  [1011.75, 1011.75, 1012.13, 1012.13, 1012.36, ...   \n",
      "1412  [1011.75, 1011.75, 1012.13, 1012.13, 1012.36, ...   \n",
      "1413  [1011.75, 1011.75, 1012.13, 1012.13, 1012.36, ...   \n",
      "\n",
      "                                    apparentTemperature  \\\n",
      "964   [12.12, 12.12, 12.59, 12.59, 12.45, 12.45, 12....   \n",
      "965   [2.65, 2.65, 2.53, 2.53, 2.47, 2.47, 2.47, 2.4...   \n",
      "966   [7.95, 7.95, 7.09, 7.09, 6.48, 6.48, 5.79, 5.7...   \n",
      "967   [7.95, 7.95, 7.09, 7.09, 6.48, 6.48, 5.79, 5.7...   \n",
      "968   [9.29, 9.29, 8.24, 8.24, 7.23, 7.23, 7.54, 7.5...   \n",
      "...                                                 ...   \n",
      "1409  [12.44, 12.44, 11.96, 11.96, 11.41, 11.41, 10....   \n",
      "1410  [12.44, 12.44, 11.96, 11.96, 11.41, 11.41, 10....   \n",
      "1411  [12.44, 12.44, 11.96, 11.96, 11.41, 11.41, 10....   \n",
      "1412  [12.44, 12.44, 11.96, 11.96, 11.41, 11.41, 10....   \n",
      "1413  [12.44, 12.44, 11.96, 11.96, 11.41, 11.41, 10....   \n",
      "\n",
      "                                              windSpeed  \\\n",
      "964   [5.9, 5.9, 6.06, 6.06, 5.31, 5.31, 4.68, 4.68,...   \n",
      "965   [3.76, 3.76, 4.39, 4.39, 4.83, 4.83, 5.14, 5.1...   \n",
      "966   [0.91, 0.91, 0.44, 0.44, 0.41, 0.41, 0.77, 0.7...   \n",
      "967   [0.91, 0.91, 0.44, 0.44, 0.41, 0.41, 0.77, 0.7...   \n",
      "968   [0.91, 0.91, 0.92, 0.92, 1.43, 1.43, 1.33, 1.3...   \n",
      "...                                                 ...   \n",
      "1409  [4.05, 4.05, 4.36, 4.36, 3.64, 3.64, 3.34, 3.3...   \n",
      "1410  [4.05, 4.05, 4.36, 4.36, 3.64, 3.64, 3.34, 3.3...   \n",
      "1411  [4.05, 4.05, 4.36, 4.36, 3.64, 3.64, 3.34, 3.3...   \n",
      "1412  [4.05, 4.05, 4.36, 4.36, 3.64, 3.64, 3.34, 3.3...   \n",
      "1413  [4.05, 4.05, 4.36, 4.36, 3.64, 3.64, 3.34, 3.3...   \n",
      "\n",
      "                                             precipType  \\\n",
      "964   [rain, rain, rain, rain, rain, rain, rain, rai...   \n",
      "965   [rain, rain, rain, rain, rain, rain, rain, rai...   \n",
      "966   [rain, rain, rain, rain, rain, rain, rain, rai...   \n",
      "967   [rain, rain, rain, rain, rain, rain, rain, rai...   \n",
      "968   [rain, rain, rain, rain, rain, rain, rain, rai...   \n",
      "...                                                 ...   \n",
      "1409  [rain, rain, rain, rain, rain, rain, rain, rai...   \n",
      "1410  [rain, rain, rain, rain, rain, rain, rain, rai...   \n",
      "1411  [rain, rain, rain, rain, rain, rain, rain, rai...   \n",
      "1412  [rain, rain, rain, rain, rain, rain, rain, rai...   \n",
      "1413  [rain, rain, rain, rain, rain, rain, rain, rai...   \n",
      "\n",
      "                                                   icon  \\\n",
      "964   [partly-cloudy-night, partly-cloudy-night, clo...   \n",
      "965   [partly-cloudy-night, partly-cloudy-night, par...   \n",
      "966   [clear-night, clear-night, clear-night, clear-...   \n",
      "967   [clear-night, clear-night, clear-night, clear-...   \n",
      "968   [clear-night, clear-night, clear-night, clear-...   \n",
      "...                                                 ...   \n",
      "1409  [partly-cloudy-night, partly-cloudy-night, par...   \n",
      "1410  [partly-cloudy-night, partly-cloudy-night, par...   \n",
      "1411  [partly-cloudy-night, partly-cloudy-night, par...   \n",
      "1412  [partly-cloudy-night, partly-cloudy-night, par...   \n",
      "1413  [partly-cloudy-night, partly-cloudy-night, par...   \n",
      "\n",
      "                                               humidity  \\\n",
      "964   [0.93, 0.93, 0.9, 0.9, 0.91, 0.91, 0.93, 0.93,...   \n",
      "965   [0.8, 0.8, 0.8, 0.8, 0.8, 0.8, 0.82, 0.82, 0.8...   \n",
      "966   [0.57, 0.57, 0.61, 0.61, 0.66, 0.66, 0.7, 0.7,...   \n",
      "967   [0.57, 0.57, 0.61, 0.61, 0.66, 0.66, 0.7, 0.7,...   \n",
      "968   [0.76, 0.76, 0.79, 0.79, 0.82, 0.82, 0.82, 0.8...   \n",
      "...                                                 ...   \n",
      "1409  [0.92, 0.92, 0.93, 0.93, 0.93, 0.93, 0.93, 0.9...   \n",
      "1410  [0.92, 0.92, 0.93, 0.93, 0.93, 0.93, 0.93, 0.9...   \n",
      "1411  [0.92, 0.92, 0.93, 0.93, 0.93, 0.93, 0.93, 0.9...   \n",
      "1412  [0.92, 0.92, 0.93, 0.93, 0.93, 0.93, 0.93, 0.9...   \n",
      "1413  [0.92, 0.92, 0.93, 0.93, 0.93, 0.93, 0.93, 0.9...   \n",
      "\n",
      "                                                summary  \n",
      "964   [Mostly Cloudy, Mostly Cloudy, Overcast, Overc...  \n",
      "965   [Partly Cloudy, Partly Cloudy, Partly Cloudy, ...  \n",
      "966   [Clear, Clear, Clear, Clear, Clear, Clear, Cle...  \n",
      "967   [Clear, Clear, Clear, Clear, Clear, Clear, Cle...  \n",
      "968   [Clear, Clear, Clear, Clear, Clear, Clear, Cle...  \n",
      "...                                                 ...  \n",
      "1409  [Partly Cloudy, Partly Cloudy, Partly Cloudy, ...  \n",
      "1410  [Partly Cloudy, Partly Cloudy, Partly Cloudy, ...  \n",
      "1411  [Partly Cloudy, Partly Cloudy, Partly Cloudy, ...  \n",
      "1412  [Partly Cloudy, Partly Cloudy, Partly Cloudy, ...  \n",
      "1413  [Partly Cloudy, Partly Cloudy, Partly Cloudy, ...  \n",
      "\n",
      "[400 rows x 21 columns]\n",
      "block_16-23\n",
      "          LCLid start_timestamp frequency  \\\n",
      "1414  MAC000152      2012-01-01     30min   \n",
      "1415  MAC000153      2012-01-01     30min   \n",
      "1416  MAC000159      2012-01-01     30min   \n",
      "1417  MAC000161      2012-01-01     30min   \n",
      "1418  MAC000189      2012-01-01     30min   \n",
      "...         ...             ...       ...   \n",
      "1859  MAC004767      2012-04-04     30min   \n",
      "1860  MAC004770      2012-04-04     30min   \n",
      "1861  MAC004880      2012-01-08     30min   \n",
      "1862  MAC004992      2012-01-28     30min   \n",
      "1863  MAC004993      2012-01-28     30min   \n",
      "\n",
      "                                     energy_consumption  series_length  \\\n",
      "1414  [0.083, 0.129, 0.148, 0.143, 0.181, 0.052, 0.0...          37872   \n",
      "1415  [0.642, 2.2939999, 2.0109999, 1.812, 1.76, 1.0...          37872   \n",
      "1416  [0.5489999999999999, 0.4039999999999999, 0.398...          37872   \n",
      "1417  [0.3329999999999999, 0.225, 0.228, 0.226999999...          37872   \n",
      "1418  [0.183, 0.177, 0.042, 0.172, 0.042, 0.185, 1.6...          37872   \n",
      "...                                                 ...            ...   \n",
      "1859  [0.544, 0.542, 0.442, 0.059, 0.086, 0.048, 0.0...          33360   \n",
      "1860  [0.034, 0.03, 0.04, 0.025, 0.053, 0.018, 0.047...          33360   \n",
      "1861  [0.959, 0.936, 0.9, 0.4579999999999999, 0.257,...          37536   \n",
      "1862  [0.02, 0.047, 0.009, 0.037, 0.038, 0.008, 0.03...          36576   \n",
      "1863  [0.97, 0.698, 0.645, 0.6829999999999999, 0.711...          36576   \n",
      "\n",
      "     stdorToU    Acorn Acorn_grouped      file  \\\n",
      "1414      Std  ACORN-E      Affluent  block_24   \n",
      "1415      Std  ACORN-E      Affluent  block_24   \n",
      "1416      Std  ACORN-E      Affluent  block_24   \n",
      "1417      Std  ACORN-E      Affluent  block_24   \n",
      "1418      Std  ACORN-E      Affluent  block_24   \n",
      "...       ...      ...           ...       ...   \n",
      "1859      ToU  ACORN-E      Affluent  block_31   \n",
      "1860      ToU  ACORN-E      Affluent  block_31   \n",
      "1861      ToU  ACORN-E      Affluent  block_31   \n",
      "1862      Std  ACORN-E      Affluent  block_31   \n",
      "1863      Std  ACORN-E      Affluent  block_31   \n",
      "\n",
      "                                               holidays  ...  \\\n",
      "1414  [NO_HOLIDAY, NO_HOLIDAY, NO_HOLIDAY, NO_HOLIDA...  ...   \n",
      "1415  [NO_HOLIDAY, NO_HOLIDAY, NO_HOLIDAY, NO_HOLIDA...  ...   \n",
      "1416  [NO_HOLIDAY, NO_HOLIDAY, NO_HOLIDAY, NO_HOLIDA...  ...   \n",
      "1417  [NO_HOLIDAY, NO_HOLIDAY, NO_HOLIDAY, NO_HOLIDA...  ...   \n",
      "1418  [NO_HOLIDAY, NO_HOLIDAY, NO_HOLIDAY, NO_HOLIDA...  ...   \n",
      "...                                                 ...  ...   \n",
      "1859  [NO_HOLIDAY, NO_HOLIDAY, NO_HOLIDAY, NO_HOLIDA...  ...   \n",
      "1860  [NO_HOLIDAY, NO_HOLIDAY, NO_HOLIDAY, NO_HOLIDA...  ...   \n",
      "1861  [NO_HOLIDAY, NO_HOLIDAY, NO_HOLIDAY, NO_HOLIDA...  ...   \n",
      "1862  [NO_HOLIDAY, NO_HOLIDAY, NO_HOLIDAY, NO_HOLIDA...  ...   \n",
      "1863  [NO_HOLIDAY, NO_HOLIDAY, NO_HOLIDAY, NO_HOLIDA...  ...   \n",
      "\n",
      "                                            windBearing  \\\n",
      "1414  [229, 229, 238, 238, 229, 229, 231, 231, 227, ...   \n",
      "1415  [229, 229, 238, 238, 229, 229, 231, 231, 227, ...   \n",
      "1416  [229, 229, 238, 238, 229, 229, 231, 231, 227, ...   \n",
      "1417  [229, 229, 238, 238, 229, 229, 231, 231, 227, ...   \n",
      "1418  [229, 229, 238, 238, 229, 229, 231, 231, 227, ...   \n",
      "...                                                 ...   \n",
      "1859  [263, 263, 243, 243, 247, 247, 231, 231, 221, ...   \n",
      "1860  [263, 263, 243, 243, 247, 247, 231, 231, 221, ...   \n",
      "1861  [269, 269, 275, 275, 277, 277, 282, 282, 279, ...   \n",
      "1862  [254, 254, 276, 276, 327, 327, 343, 343, 354, ...   \n",
      "1863  [254, 254, 276, 276, 327, 327, 343, 343, 354, ...   \n",
      "\n",
      "                                            temperature  \\\n",
      "1414  [12.12, 12.12, 12.59, 12.59, 12.45, 12.45, 12....   \n",
      "1415  [12.12, 12.12, 12.59, 12.59, 12.45, 12.45, 12....   \n",
      "1416  [12.12, 12.12, 12.59, 12.59, 12.45, 12.45, 12....   \n",
      "1417  [12.12, 12.12, 12.59, 12.59, 12.45, 12.45, 12....   \n",
      "1418  [12.12, 12.12, 12.59, 12.59, 12.45, 12.45, 12....   \n",
      "...                                                 ...   \n",
      "1859  [6.51, 6.51, 6.08, 6.08, 5.96, 5.96, 5.73, 5.7...   \n",
      "1860  [6.51, 6.51, 6.08, 6.08, 5.96, 5.96, 5.73, 5.7...   \n",
      "1861  [8.14, 8.14, 8.12, 8.12, 8.13, 8.13, 8.16, 8.1...   \n",
      "1862  [3.77, 3.77, 3.79, 3.79, 3.67, 3.67, 3.64, 3.6...   \n",
      "1863  [3.77, 3.77, 3.79, 3.79, 3.67, 3.67, 3.64, 3.6...   \n",
      "\n",
      "                                               dewPoint  \\\n",
      "1414  [10.97, 10.97, 11.02, 11.02, 11.04, 11.04, 10....   \n",
      "1415  [10.97, 10.97, 11.02, 11.02, 11.04, 11.04, 10....   \n",
      "1416  [10.97, 10.97, 11.02, 11.02, 11.04, 11.04, 10....   \n",
      "1417  [10.97, 10.97, 11.02, 11.02, 11.04, 11.04, 10....   \n",
      "1418  [10.97, 10.97, 11.02, 11.02, 11.04, 11.04, 10....   \n",
      "...                                                 ...   \n",
      "1859  [5.32, 5.32, 4.53, 4.53, 4.3, 4.3, 4.21, 4.21,...   \n",
      "1860  [5.32, 5.32, 4.53, 4.53, 4.3, 4.3, 4.21, 4.21,...   \n",
      "1861  [3.2, 3.2, 3.21, 3.21, 3.21, 3.21, 3.21, 3.21,...   \n",
      "1862  [1.83, 1.83, 1.81, 1.81, 1.86, 1.86, 1.86, 1.8...   \n",
      "1863  [1.83, 1.83, 1.81, 1.81, 1.86, 1.86, 1.86, 1.8...   \n",
      "\n",
      "                                               pressure  \\\n",
      "1414  [1008.1, 1008.1, 1007.88, 1007.88, 1007.95, 10...   \n",
      "1415  [1008.1, 1008.1, 1007.88, 1007.88, 1007.95, 10...   \n",
      "1416  [1008.1, 1008.1, 1007.88, 1007.88, 1007.95, 10...   \n",
      "1417  [1008.1, 1008.1, 1007.88, 1007.88, 1007.95, 10...   \n",
      "1418  [1008.1, 1008.1, 1007.88, 1007.88, 1007.95, 10...   \n",
      "...                                                 ...   \n",
      "1859  [1001.66, 1001.66, 1001.79, 1001.79, 1001.89, ...   \n",
      "1860  [1001.66, 1001.66, 1001.79, 1001.79, 1001.89, ...   \n",
      "1861  [1024.45, 1024.45, 1024.4, 1024.4, 1024.52, 10...   \n",
      "1862  [1021.8, 1021.8, 1022.17, 1022.17, 1022.76, 10...   \n",
      "1863  [1021.8, 1021.8, 1022.17, 1022.17, 1022.76, 10...   \n",
      "\n",
      "                                    apparentTemperature  \\\n",
      "1414  [12.12, 12.12, 12.59, 12.59, 12.45, 12.45, 12....   \n",
      "1415  [12.12, 12.12, 12.59, 12.59, 12.45, 12.45, 12....   \n",
      "1416  [12.12, 12.12, 12.59, 12.59, 12.45, 12.45, 12....   \n",
      "1417  [12.12, 12.12, 12.59, 12.59, 12.45, 12.45, 12....   \n",
      "1418  [12.12, 12.12, 12.59, 12.59, 12.45, 12.45, 12....   \n",
      "...                                                 ...   \n",
      "1859  [5.23, 5.23, 5.11, 5.11, 4.64, 4.64, 3.83, 3.8...   \n",
      "1860  [5.23, 5.23, 5.11, 5.11, 4.64, 4.64, 3.83, 3.8...   \n",
      "1861  [5.74, 5.74, 5.59, 5.59, 5.58, 5.58, 5.7, 5.7,...   \n",
      "1862  [2.33, 2.33, 2.36, 2.36, 3.67, 3.67, 1.73, 1.7...   \n",
      "1863  [2.33, 2.33, 2.36, 2.36, 3.67, 3.67, 1.73, 1.7...   \n",
      "\n",
      "                                              windSpeed  \\\n",
      "1414  [5.9, 5.9, 6.06, 6.06, 5.31, 5.31, 4.68, 4.68,...   \n",
      "1415  [5.9, 5.9, 6.06, 6.06, 5.31, 5.31, 4.68, 4.68,...   \n",
      "1416  [5.9, 5.9, 6.06, 6.06, 5.31, 5.31, 4.68, 4.68,...   \n",
      "1417  [5.9, 5.9, 6.06, 6.06, 5.31, 5.31, 4.68, 4.68,...   \n",
      "1418  [5.9, 5.9, 6.06, 6.06, 5.31, 5.31, 4.68, 4.68,...   \n",
      "...                                                 ...   \n",
      "1859  [1.89, 1.89, 1.56, 1.56, 1.85, 1.85, 2.43, 2.4...   \n",
      "1860  [1.89, 1.89, 1.56, 1.56, 1.85, 1.85, 2.43, 2.4...   \n",
      "1861  [3.95, 3.95, 4.2, 4.2, 4.26, 4.26, 4.07, 4.07,...   \n",
      "1862  [1.66, 1.66, 1.65, 1.65, 1.14, 1.14, 2.05, 2.0...   \n",
      "1863  [1.66, 1.66, 1.65, 1.65, 1.14, 1.14, 2.05, 2.0...   \n",
      "\n",
      "                                             precipType  \\\n",
      "1414  [rain, rain, rain, rain, rain, rain, rain, rai...   \n",
      "1415  [rain, rain, rain, rain, rain, rain, rain, rai...   \n",
      "1416  [rain, rain, rain, rain, rain, rain, rain, rai...   \n",
      "1417  [rain, rain, rain, rain, rain, rain, rain, rai...   \n",
      "1418  [rain, rain, rain, rain, rain, rain, rain, rai...   \n",
      "...                                                 ...   \n",
      "1859  [rain, rain, rain, rain, rain, rain, rain, rai...   \n",
      "1860  [rain, rain, rain, rain, rain, rain, rain, rai...   \n",
      "1861  [rain, rain, rain, rain, rain, rain, rain, rai...   \n",
      "1862  [rain, rain, rain, rain, rain, rain, rain, rai...   \n",
      "1863  [rain, rain, rain, rain, rain, rain, rain, rai...   \n",
      "\n",
      "                                                   icon  \\\n",
      "1414  [partly-cloudy-night, partly-cloudy-night, clo...   \n",
      "1415  [partly-cloudy-night, partly-cloudy-night, clo...   \n",
      "1416  [partly-cloudy-night, partly-cloudy-night, clo...   \n",
      "1417  [partly-cloudy-night, partly-cloudy-night, clo...   \n",
      "1418  [partly-cloudy-night, partly-cloudy-night, clo...   \n",
      "...                                                 ...   \n",
      "1859  [partly-cloudy-night, partly-cloudy-night, par...   \n",
      "1860  [partly-cloudy-night, partly-cloudy-night, par...   \n",
      "1861  [partly-cloudy-night, partly-cloudy-night, par...   \n",
      "1862  [partly-cloudy-night, partly-cloudy-night, par...   \n",
      "1863  [partly-cloudy-night, partly-cloudy-night, par...   \n",
      "\n",
      "                                               humidity  \\\n",
      "1414  [0.93, 0.93, 0.9, 0.9, 0.91, 0.91, 0.93, 0.93,...   \n",
      "1415  [0.93, 0.93, 0.9, 0.9, 0.91, 0.91, 0.93, 0.93,...   \n",
      "1416  [0.93, 0.93, 0.9, 0.9, 0.91, 0.91, 0.93, 0.93,...   \n",
      "1417  [0.93, 0.93, 0.9, 0.9, 0.91, 0.91, 0.93, 0.93,...   \n",
      "1418  [0.93, 0.93, 0.9, 0.9, 0.91, 0.91, 0.93, 0.93,...   \n",
      "...                                                 ...   \n",
      "1859  [0.92, 0.92, 0.9, 0.9, 0.89, 0.89, 0.9, 0.9, 0...   \n",
      "1860  [0.92, 0.92, 0.9, 0.9, 0.89, 0.89, 0.9, 0.9, 0...   \n",
      "1861  [0.71, 0.71, 0.71, 0.71, 0.71, 0.71, 0.71, 0.7...   \n",
      "1862  [0.87, 0.87, 0.87, 0.87, 0.88, 0.88, 0.88, 0.8...   \n",
      "1863  [0.87, 0.87, 0.87, 0.87, 0.88, 0.88, 0.88, 0.8...   \n",
      "\n",
      "                                                summary  \n",
      "1414  [Mostly Cloudy, Mostly Cloudy, Overcast, Overc...  \n",
      "1415  [Mostly Cloudy, Mostly Cloudy, Overcast, Overc...  \n",
      "1416  [Mostly Cloudy, Mostly Cloudy, Overcast, Overc...  \n",
      "1417  [Mostly Cloudy, Mostly Cloudy, Overcast, Overc...  \n",
      "1418  [Mostly Cloudy, Mostly Cloudy, Overcast, Overc...  \n",
      "...                                                 ...  \n",
      "1859  [Mostly Cloudy, Mostly Cloudy, Mostly Cloudy, ...  \n",
      "1860  [Mostly Cloudy, Mostly Cloudy, Mostly Cloudy, ...  \n",
      "1861  [Mostly Cloudy, Mostly Cloudy, Mostly Cloudy, ...  \n",
      "1862  [Partly Cloudy, Partly Cloudy, Partly Cloudy, ...  \n",
      "1863  [Partly Cloudy, Partly Cloudy, Partly Cloudy, ...  \n",
      "\n",
      "[400 rows x 21 columns]\n",
      "block_24-31\n",
      "          LCLid start_timestamp frequency  \\\n",
      "1864  MAC000742      2012-04-20     30min   \n",
      "1865  MAC000745      2012-04-20     30min   \n",
      "1866  MAC000747      2012-04-20     30min   \n",
      "1867  MAC000749      2012-04-21     30min   \n",
      "1868  MAC000753      2012-04-21     30min   \n",
      "...         ...             ...       ...   \n",
      "2259  MAC005290      2012-02-14     30min   \n",
      "2260  MAC005291      2012-02-14     30min   \n",
      "2261  MAC005292      2012-02-14     30min   \n",
      "2262  MAC005306      2012-02-16     30min   \n",
      "2263  MAC005507      2012-04-18     30min   \n",
      "\n",
      "                                     energy_consumption  series_length  \\\n",
      "1864  [0.077, 0.088, 0.118, 0.073, 0.072, 0.086, 0.0...          32592   \n",
      "1865  [0.013, 0.009, 0.013, 0.018, 0.022, 0.011, 0.0...          32592   \n",
      "1866  [0.099, 0.05, 0.113, 0.053, 0.13, 0.11, 0.136,...          32592   \n",
      "1867  [0.086, 0.093, 0.088, 0.088, 0.094, 0.086, 0.0...          32544   \n",
      "1868  [0.2319999999999999, 0.25, 0.284, 0.226, 0.166...          32544   \n",
      "...                                                 ...            ...   \n",
      "2259  [1.181, 0.221, 0.1639999999999999, 0.115999999...          35760   \n",
      "2260  [0.1939999999999999, 0.142, 0.177, 0.184, 0.13...          35760   \n",
      "2261  [0.179, 0.138, 0.65, 0.585, 0.263, 0.136999999...          35760   \n",
      "2262  [0.065, 0.057, 0.068, 0.055, 0.069, 0.055, 0.0...          35664   \n",
      "2263  [0.123, 0.151, 0.138, 0.119, 0.151, 0.135, 0.1...          32688   \n",
      "\n",
      "     stdorToU    Acorn Acorn_grouped      file  \\\n",
      "1864      Std  ACORN-E      Affluent  block_32   \n",
      "1865      Std  ACORN-E      Affluent  block_32   \n",
      "1866      Std  ACORN-E      Affluent  block_32   \n",
      "1867      Std  ACORN-E      Affluent  block_32   \n",
      "1868      Std  ACORN-E      Affluent  block_32   \n",
      "...       ...      ...           ...       ...   \n",
      "2259      ToU  ACORN-E      Affluent  block_39   \n",
      "2260      ToU  ACORN-E      Affluent  block_39   \n",
      "2261      ToU  ACORN-E      Affluent  block_39   \n",
      "2262      ToU  ACORN-E      Affluent  block_39   \n",
      "2263      ToU  ACORN-E      Affluent  block_39   \n",
      "\n",
      "                                               holidays  ...  \\\n",
      "1864  [NO_HOLIDAY, NO_HOLIDAY, NO_HOLIDAY, NO_HOLIDA...  ...   \n",
      "1865  [NO_HOLIDAY, NO_HOLIDAY, NO_HOLIDAY, NO_HOLIDA...  ...   \n",
      "1866  [NO_HOLIDAY, NO_HOLIDAY, NO_HOLIDAY, NO_HOLIDA...  ...   \n",
      "1867  [NO_HOLIDAY, NO_HOLIDAY, NO_HOLIDAY, NO_HOLIDA...  ...   \n",
      "1868  [NO_HOLIDAY, NO_HOLIDAY, NO_HOLIDAY, NO_HOLIDA...  ...   \n",
      "...                                                 ...  ...   \n",
      "2259  [NO_HOLIDAY, NO_HOLIDAY, NO_HOLIDAY, NO_HOLIDA...  ...   \n",
      "2260  [NO_HOLIDAY, NO_HOLIDAY, NO_HOLIDAY, NO_HOLIDA...  ...   \n",
      "2261  [NO_HOLIDAY, NO_HOLIDAY, NO_HOLIDAY, NO_HOLIDA...  ...   \n",
      "2262  [NO_HOLIDAY, NO_HOLIDAY, NO_HOLIDAY, NO_HOLIDA...  ...   \n",
      "2263  [NO_HOLIDAY, NO_HOLIDAY, NO_HOLIDAY, NO_HOLIDA...  ...   \n",
      "\n",
      "                                            windBearing  \\\n",
      "1864  [264, 264, 262, 262, 258, 258, 256, 256, 256, ...   \n",
      "1865  [264, 264, 262, 262, 258, 258, 256, 256, 256, ...   \n",
      "1866  [264, 264, 262, 262, 258, 258, 256, 256, 256, ...   \n",
      "1867  [251, 251, 251, 251, 246, 246, 242, 242, 244, ...   \n",
      "1868  [251, 251, 251, 251, 246, 246, 242, 242, 244, ...   \n",
      "...                                                 ...   \n",
      "2259  [344, 344, 343, 343, 345, 345, 345, 345, 349, ...   \n",
      "2260  [344, 344, 343, 343, 345, 345, 345, 345, 349, ...   \n",
      "2261  [344, 344, 343, 343, 345, 345, 345, 345, 349, ...   \n",
      "2262  [311, 311, 305, 305, 297, 297, 295, 295, 288, ...   \n",
      "2263  [197, 197, 195, 195, 183, 183, 173, 173, 173, ...   \n",
      "\n",
      "                                            temperature  \\\n",
      "1864  [7.42, 7.42, 7.02, 7.02, 6.6, 6.6, 6.41, 6.41,...   \n",
      "1865  [7.42, 7.42, 7.02, 7.02, 6.6, 6.6, 6.41, 6.41,...   \n",
      "1866  [7.42, 7.42, 7.02, 7.02, 6.6, 6.6, 6.41, 6.41,...   \n",
      "1867  [6.42, 6.42, 6.2, 6.2, 5.68, 5.68, 5.16, 5.16,...   \n",
      "1868  [6.42, 6.42, 6.2, 6.2, 5.68, 5.68, 5.16, 5.16,...   \n",
      "...                                                 ...   \n",
      "2259  [5.63, 5.63, 5.57, 5.57, 5.16, 5.16, 5.2, 5.2,...   \n",
      "2260  [5.63, 5.63, 5.57, 5.57, 5.16, 5.16, 5.2, 5.2,...   \n",
      "2261  [5.63, 5.63, 5.57, 5.57, 5.16, 5.16, 5.2, 5.2,...   \n",
      "2262  [7.84, 7.84, 7.26, 7.26, 6.73, 6.73, 5.78, 5.7...   \n",
      "2263  [6.31, 6.31, 6.35, 6.35, 6.38, 6.38, 6.44, 6.4...   \n",
      "\n",
      "                                               dewPoint  \\\n",
      "1864  [6.28, 6.28, 5.42, 5.42, 5.41, 5.41, 5.27, 5.2...   \n",
      "1865  [6.28, 6.28, 5.42, 5.42, 5.41, 5.41, 5.27, 5.2...   \n",
      "1866  [6.28, 6.28, 5.42, 5.42, 5.41, 5.41, 5.27, 5.2...   \n",
      "1867  [3.54, 3.54, 3.61, 3.61, 3.52, 3.52, 3.11, 3.1...   \n",
      "1868  [3.54, 3.54, 3.61, 3.61, 3.52, 3.52, 3.11, 3.1...   \n",
      "...                                                 ...   \n",
      "2259  [2.13, 2.13, 2.11, 2.11, 2.02, 2.02, 1.99, 1.9...   \n",
      "2260  [2.13, 2.13, 2.11, 2.11, 2.02, 2.02, 1.99, 1.9...   \n",
      "2261  [2.13, 2.13, 2.11, 2.11, 2.02, 2.02, 1.99, 1.9...   \n",
      "2262  [4.59, 4.59, 3.97, 3.97, 3.55, 3.55, 3.01, 3.0...   \n",
      "2263  [3.52, 3.52, 3.62, 3.62, 4.19, 4.19, 4.17, 4.1...   \n",
      "\n",
      "                                               pressure  \\\n",
      "1864  [990.77, 990.77, 991.06, 991.06, 991.28, 991.2...   \n",
      "1865  [990.77, 990.77, 991.06, 991.06, 991.28, 991.2...   \n",
      "1866  [990.77, 990.77, 991.06, 991.06, 991.28, 991.2...   \n",
      "1867  [994.96, 994.96, 994.98, 994.98, 994.82, 994.8...   \n",
      "1868  [994.96, 994.96, 994.98, 994.98, 994.82, 994.8...   \n",
      "...                                                 ...   \n",
      "2259  [1024.39, 1024.39, 1024.4, 1024.4, 1024.46, 10...   \n",
      "2260  [1024.39, 1024.39, 1024.4, 1024.4, 1024.46, 10...   \n",
      "2261  [1024.39, 1024.39, 1024.4, 1024.4, 1024.46, 10...   \n",
      "2262  [1028.29, 1028.29, 1028.48, 1028.48, 1028.43, ...   \n",
      "2263  [992.26, 992.26, 991.04, 991.04, 989.79, 989.7...   \n",
      "\n",
      "                                    apparentTemperature  \\\n",
      "1864  [5.12, 5.12, 4.62, 4.62, 4.27, 4.27, 4.13, 4.1...   \n",
      "1865  [5.12, 5.12, 4.62, 4.62, 4.27, 4.27, 4.13, 4.1...   \n",
      "1866  [5.12, 5.12, 4.62, 4.62, 4.27, 4.27, 4.13, 4.1...   \n",
      "1867  [3.79, 3.79, 3.67, 3.67, 3.15, 3.15, 2.61, 2.6...   \n",
      "1868  [3.79, 3.79, 3.67, 3.67, 3.15, 3.15, 2.61, 2.6...   \n",
      "...                                                 ...   \n",
      "2259  [2.04, 2.04, 1.91, 1.91, 1.29, 1.29, 1.34, 1.3...   \n",
      "2260  [2.04, 2.04, 1.91, 1.91, 1.29, 1.29, 1.34, 1.3...   \n",
      "2261  [2.04, 2.04, 1.91, 1.91, 1.29, 1.29, 1.34, 1.3...   \n",
      "2262  [5.58, 5.58, 5.17, 5.17, 4.36, 4.36, 3.53, 3.5...   \n",
      "2263  [3.28, 3.28, 3.14, 3.14, 3.59, 3.59, 3.27, 3.2...   \n",
      "\n",
      "                                              windSpeed  \\\n",
      "1864  [3.49, 3.49, 3.51, 3.51, 3.24, 3.24, 3.09, 3.0...   \n",
      "1865  [3.49, 3.49, 3.51, 3.51, 3.24, 3.24, 3.09, 3.0...   \n",
      "1866  [3.49, 3.49, 3.51, 3.51, 3.24, 3.24, 3.09, 3.0...   \n",
      "1867  [3.64, 3.64, 3.42, 3.42, 3.25, 3.25, 3.13, 3.1...   \n",
      "1868  [3.64, 3.64, 3.42, 3.42, 3.25, 3.25, 3.13, 3.1...   \n",
      "...                                                 ...   \n",
      "2259  [5.18, 5.18, 5.3, 5.3, 5.54, 5.54, 5.53, 5.53,...   \n",
      "2260  [5.18, 5.18, 5.3, 5.3, 5.54, 5.54, 5.53, 5.53,...   \n",
      "2261  [5.18, 5.18, 5.3, 5.3, 5.54, 5.54, 5.53, 5.53,...   \n",
      "2262  [3.55, 3.55, 3.07, 3.07, 3.36, 3.36, 2.87, 2.8...   \n",
      "2263  [4.35, 4.35, 4.75, 4.75, 3.92, 3.92, 4.72, 4.7...   \n",
      "\n",
      "                                             precipType  \\\n",
      "1864  [rain, rain, rain, rain, rain, rain, rain, rai...   \n",
      "1865  [rain, rain, rain, rain, rain, rain, rain, rai...   \n",
      "1866  [rain, rain, rain, rain, rain, rain, rain, rai...   \n",
      "1867  [rain, rain, rain, rain, rain, rain, rain, rai...   \n",
      "1868  [rain, rain, rain, rain, rain, rain, rain, rai...   \n",
      "...                                                 ...   \n",
      "2259  [rain, rain, rain, rain, rain, rain, rain, rai...   \n",
      "2260  [rain, rain, rain, rain, rain, rain, rain, rai...   \n",
      "2261  [rain, rain, rain, rain, rain, rain, rain, rai...   \n",
      "2262  [rain, rain, rain, rain, rain, rain, rain, rai...   \n",
      "2263  [rain, rain, rain, rain, rain, rain, rain, rai...   \n",
      "\n",
      "                                                   icon  \\\n",
      "1864  [partly-cloudy-night, partly-cloudy-night, par...   \n",
      "1865  [partly-cloudy-night, partly-cloudy-night, par...   \n",
      "1866  [partly-cloudy-night, partly-cloudy-night, par...   \n",
      "1867  [partly-cloudy-night, partly-cloudy-night, par...   \n",
      "1868  [partly-cloudy-night, partly-cloudy-night, par...   \n",
      "...                                                 ...   \n",
      "2259  [partly-cloudy-night, partly-cloudy-night, par...   \n",
      "2260  [partly-cloudy-night, partly-cloudy-night, par...   \n",
      "2261  [partly-cloudy-night, partly-cloudy-night, par...   \n",
      "2262  [partly-cloudy-night, partly-cloudy-night, par...   \n",
      "2263  [partly-cloudy-night, partly-cloudy-night, par...   \n",
      "\n",
      "                                               humidity  \\\n",
      "1864  [0.92, 0.92, 0.9, 0.9, 0.92, 0.92, 0.92, 0.92,...   \n",
      "1865  [0.92, 0.92, 0.9, 0.9, 0.92, 0.92, 0.92, 0.92,...   \n",
      "1866  [0.92, 0.92, 0.9, 0.9, 0.92, 0.92, 0.92, 0.92,...   \n",
      "1867  [0.82, 0.82, 0.83, 0.83, 0.86, 0.86, 0.87, 0.8...   \n",
      "1868  [0.82, 0.82, 0.83, 0.83, 0.86, 0.86, 0.87, 0.8...   \n",
      "...                                                 ...   \n",
      "2259  [0.78, 0.78, 0.78, 0.78, 0.8, 0.8, 0.8, 0.8, 0...   \n",
      "2260  [0.78, 0.78, 0.78, 0.78, 0.8, 0.8, 0.8, 0.8, 0...   \n",
      "2261  [0.78, 0.78, 0.78, 0.78, 0.8, 0.8, 0.8, 0.8, 0...   \n",
      "2262  [0.8, 0.8, 0.8, 0.8, 0.8, 0.8, 0.82, 0.82, 0.8...   \n",
      "2263  [0.82, 0.82, 0.83, 0.83, 0.86, 0.86, 0.85, 0.8...   \n",
      "\n",
      "                                                summary  \n",
      "1864  [Partly Cloudy, Partly Cloudy, Partly Cloudy, ...  \n",
      "1865  [Partly Cloudy, Partly Cloudy, Partly Cloudy, ...  \n",
      "1866  [Partly Cloudy, Partly Cloudy, Partly Cloudy, ...  \n",
      "1867  [Partly Cloudy, Partly Cloudy, Partly Cloudy, ...  \n",
      "1868  [Partly Cloudy, Partly Cloudy, Partly Cloudy, ...  \n",
      "...                                                 ...  \n",
      "2259  [Mostly Cloudy, Mostly Cloudy, Mostly Cloudy, ...  \n",
      "2260  [Mostly Cloudy, Mostly Cloudy, Mostly Cloudy, ...  \n",
      "2261  [Mostly Cloudy, Mostly Cloudy, Mostly Cloudy, ...  \n",
      "2262  [Partly Cloudy, Partly Cloudy, Partly Cloudy, ...  \n",
      "2263  [Partly Cloudy, Partly Cloudy, Partly Cloudy, ...  \n",
      "\n",
      "[400 rows x 21 columns]\n",
      "block_32-39\n",
      "          LCLid start_timestamp frequency  \\\n",
      "2314  MAC000086      2012-01-01     30min   \n",
      "2315  MAC000087      2012-01-01     30min   \n",
      "2316  MAC000331      2012-03-08     30min   \n",
      "2317  MAC000332      2012-03-08     30min   \n",
      "2318  MAC000338      2012-03-09     30min   \n",
      "...         ...             ...       ...   \n",
      "2709  MAC005057      2012-05-30     30min   \n",
      "2710  MAC005069      2012-05-30     30min   \n",
      "2711  MAC005110      2012-05-31     30min   \n",
      "2712  MAC005127      2012-06-01     30min   \n",
      "2713  MAC005186      2012-02-03     30min   \n",
      "\n",
      "                                     energy_consumption  series_length  \\\n",
      "2314  [0.171, 0.109, 0.039, 0.018, 0.053, 0.078, 0.0...          37872   \n",
      "2315  [0.231, 0.148, 0.161, 0.15, 0.143, 0.163999999...          37872   \n",
      "2316  [0.059, 3.5109998999999994, 2.7850001, 2.46199...          34656   \n",
      "2317  [0.2319999999999999, 0.184, 0.118, 0.025, 0.05...          34656   \n",
      "2318  [0.102, 0.049, 0.047, 0.074, 0.051, 0.051, 0.0...          34608   \n",
      "...                                                 ...            ...   \n",
      "2709  [0.062, 0.222, 0.061, 0.036, 0.034, 0.022, 0.0...          30672   \n",
      "2710  [0.019, 0.018, 0.019, 0.018, 0.018, 0.008, 0.0...          30672   \n",
      "2711  [0.026, 0.023, 0.023, 0.023, 0.005, 0.011, 0.0...          30624   \n",
      "2712  [0.012, 0.012, 0.011, 0.012, 0.011, 0.012, 0.0...          30576   \n",
      "2713  [0.2689999999999999, 0.267, 0.264, 0.249, 0.24...          36288   \n",
      "\n",
      "     stdorToU    Acorn Acorn_grouped      file  \\\n",
      "2314      Std  ACORN-E      Affluent  block_40   \n",
      "2315      Std  ACORN-E      Affluent  block_40   \n",
      "2316      Std  ACORN-E      Affluent  block_40   \n",
      "2317      Std  ACORN-E      Affluent  block_40   \n",
      "2318      Std  ACORN-E      Affluent  block_40   \n",
      "...       ...      ...           ...       ...   \n",
      "2709      ToU  ACORN-F   Comfortable  block_47   \n",
      "2710      ToU  ACORN-F   Comfortable  block_47   \n",
      "2711      ToU  ACORN-F   Comfortable  block_47   \n",
      "2712      ToU  ACORN-F   Comfortable  block_47   \n",
      "2713      ToU  ACORN-F   Comfortable  block_47   \n",
      "\n",
      "                                               holidays  ...  \\\n",
      "2314  [NO_HOLIDAY, NO_HOLIDAY, NO_HOLIDAY, NO_HOLIDA...  ...   \n",
      "2315  [NO_HOLIDAY, NO_HOLIDAY, NO_HOLIDAY, NO_HOLIDA...  ...   \n",
      "2316  [NO_HOLIDAY, NO_HOLIDAY, NO_HOLIDAY, NO_HOLIDA...  ...   \n",
      "2317  [NO_HOLIDAY, NO_HOLIDAY, NO_HOLIDAY, NO_HOLIDA...  ...   \n",
      "2318  [NO_HOLIDAY, NO_HOLIDAY, NO_HOLIDAY, NO_HOLIDA...  ...   \n",
      "...                                                 ...  ...   \n",
      "2709  [NO_HOLIDAY, NO_HOLIDAY, NO_HOLIDAY, NO_HOLIDA...  ...   \n",
      "2710  [NO_HOLIDAY, NO_HOLIDAY, NO_HOLIDAY, NO_HOLIDA...  ...   \n",
      "2711  [NO_HOLIDAY, NO_HOLIDAY, NO_HOLIDAY, NO_HOLIDA...  ...   \n",
      "2712  [NO_HOLIDAY, NO_HOLIDAY, NO_HOLIDAY, NO_HOLIDA...  ...   \n",
      "2713  [NO_HOLIDAY, NO_HOLIDAY, NO_HOLIDAY, NO_HOLIDA...  ...   \n",
      "\n",
      "                                            windBearing  \\\n",
      "2314  [229, 229, 238, 238, 229, 229, 231, 231, 227, ...   \n",
      "2315  [229, 229, 238, 238, 229, 229, 231, 231, 227, ...   \n",
      "2316  [282, 282, 285, 285, 283, 283, 283, 283, 280, ...   \n",
      "2317  [282, 282, 285, 285, 283, 283, 283, 283, 280, ...   \n",
      "2318  [223, 223, 231, 231, 234, 234, 233, 233, 237, ...   \n",
      "...                                                 ...   \n",
      "2709  [173, 173, 183, 183, 198, 198, 200, 200, 199, ...   \n",
      "2710  [173, 173, 183, 183, 198, 198, 200, 200, 199, ...   \n",
      "2711  [252, 252, 254, 254, 259, 259, 265, 265, 268, ...   \n",
      "2712  [269, 269, 270, 270, 267, 267, 278, 278, 283, ...   \n",
      "2713  [25, 25, 33, 33, 27, 27, 25, 25, 23, 23, 16, 1...   \n",
      "\n",
      "                                            temperature  \\\n",
      "2314  [12.12, 12.12, 12.59, 12.59, 12.45, 12.45, 12....   \n",
      "2315  [12.12, 12.12, 12.59, 12.59, 12.45, 12.45, 12....   \n",
      "2316  [4.38, 4.38, 4.63, 4.63, 4.17, 4.17, 3.94, 3.9...   \n",
      "2317  [4.38, 4.38, 4.63, 4.63, 4.17, 4.17, 3.94, 3.9...   \n",
      "2318  [7.18, 7.18, 7.22, 7.22, 6.77, 6.77, 6.83, 6.8...   \n",
      "...                                                 ...   \n",
      "2709  [14.78, 14.78, 14.33, 14.33, 13.46, 13.46, 13....   \n",
      "2710  [14.78, 14.78, 14.33, 14.33, 13.46, 13.46, 13....   \n",
      "2711  [15.78, 15.78, 14.99, 14.99, 14.52, 14.52, 14....   \n",
      "2712  [15.43, 15.43, 14.53, 14.53, 13.98, 13.98, 14....   \n",
      "2713  [-1.79, -1.79, -1.83, -1.83, -1.89, -1.89, -1....   \n",
      "\n",
      "                                               dewPoint  \\\n",
      "2314  [10.97, 10.97, 11.02, 11.02, 11.04, 11.04, 10....   \n",
      "2315  [10.97, 10.97, 11.02, 11.02, 11.04, 11.04, 10....   \n",
      "2316  [0.33, 0.33, 0.79, 0.79, 0.32, 0.32, 0.23, 0.2...   \n",
      "2317  [0.33, 0.33, 0.79, 0.79, 0.32, 0.32, 0.23, 0.2...   \n",
      "2318  [3.4, 3.4, 3.57, 3.57, 3.57, 3.57, 3.57, 3.57,...   \n",
      "...                                                 ...   \n",
      "2709  [12.91, 12.91, 12.48, 12.48, 12.39, 12.39, 12....   \n",
      "2710  [12.91, 12.91, 12.48, 12.48, 12.39, 12.39, 12....   \n",
      "2711  [13.08, 13.08, 12.93, 12.93, 12.02, 12.02, 12....   \n",
      "2712  [12.67, 12.67, 12.62, 12.62, 12.56, 12.56, 12....   \n",
      "2713  [-6.41, -6.41, -6.41, -6.41, -6.76, -6.76, -6....   \n",
      "\n",
      "                                               pressure  \\\n",
      "2314  [1008.1, 1008.1, 1007.88, 1007.88, 1007.95, 10...   \n",
      "2315  [1008.1, 1008.1, 1007.88, 1007.88, 1007.95, 10...   \n",
      "2316  [1023.62, 1023.62, 1024.45, 1024.45, 1025.05, ...   \n",
      "2317  [1023.62, 1023.62, 1024.45, 1024.45, 1025.05, ...   \n",
      "2318  [1034.94, 1034.94, 1034.97, 1034.97, 1035.06, ...   \n",
      "...                                                 ...   \n",
      "2709  [1017.72, 1017.72, 1017.58, 1017.58, 1017.55, ...   \n",
      "2710  [1017.72, 1017.72, 1017.58, 1017.58, 1017.55, ...   \n",
      "2711  [1018.67, 1018.67, 1018.64, 1018.64, 1018.72, ...   \n",
      "2712  [1019.23, 1019.23, 1019.03, 1019.03, 1019.03, ...   \n",
      "2713  [1037.82, 1037.82, 1037.88, 1037.88, 1037.83, ...   \n",
      "\n",
      "                                    apparentTemperature  \\\n",
      "2314  [12.12, 12.12, 12.59, 12.59, 12.45, 12.45, 12....   \n",
      "2315  [12.12, 12.12, 12.59, 12.59, 12.45, 12.45, 12....   \n",
      "2316  [0.73, 0.73, 1.24, 1.24, 0.75, 0.75, 0.95, 0.9...   \n",
      "2317  [0.73, 0.73, 1.24, 1.24, 0.75, 0.75, 0.95, 0.9...   \n",
      "2318  [5.42, 5.42, 5.4, 5.4, 4.67, 4.67, 4.67, 4.67,...   \n",
      "...                                                 ...   \n",
      "2709  [14.78, 14.78, 14.33, 14.33, 13.46, 13.46, 13....   \n",
      "2710  [14.78, 14.78, 14.33, 14.33, 13.46, 13.46, 13....   \n",
      "2711  [15.78, 15.78, 14.99, 14.99, 14.52, 14.52, 14....   \n",
      "2712  [15.43, 15.43, 14.53, 14.53, 13.98, 13.98, 14....   \n",
      "2713  [-5.72, -5.72, -5.77, -5.77, -5.61, -5.61, -5....   \n",
      "\n",
      "                                              windSpeed  \\\n",
      "2314  [5.9, 5.9, 6.06, 6.06, 5.31, 5.31, 4.68, 4.68,...   \n",
      "2315  [5.9, 5.9, 6.06, 6.06, 5.31, 5.31, 4.68, 4.68,...   \n",
      "2316  [4.65, 4.65, 4.28, 4.28, 4.16, 4.16, 3.38, 3.3...   \n",
      "2317  [4.65, 4.65, 4.28, 4.28, 4.16, 4.16, 3.38, 3.3...   \n",
      "2318  [2.58, 2.58, 2.68, 2.68, 2.94, 2.94, 3.05, 3.0...   \n",
      "...                                                 ...   \n",
      "2709  [1.91, 1.91, 1.94, 1.94, 2.06, 2.06, 2.07, 2.0...   \n",
      "2710  [1.91, 1.91, 1.94, 1.94, 2.06, 2.06, 2.07, 2.0...   \n",
      "2711  [3.56, 3.56, 3.18, 3.18, 3.55, 3.55, 3.33, 3.3...   \n",
      "2712  [2.85, 2.85, 2.38, 2.38, 2.1, 2.1, 2.15, 2.15,...   \n",
      "2713  [3.07, 3.07, 3.07, 3.07, 2.83, 2.83, 2.38, 2.3...   \n",
      "\n",
      "                                             precipType  \\\n",
      "2314  [rain, rain, rain, rain, rain, rain, rain, rai...   \n",
      "2315  [rain, rain, rain, rain, rain, rain, rain, rai...   \n",
      "2316  [rain, rain, rain, rain, rain, rain, rain, rai...   \n",
      "2317  [rain, rain, rain, rain, rain, rain, rain, rai...   \n",
      "2318  [rain, rain, rain, rain, rain, rain, rain, rai...   \n",
      "...                                                 ...   \n",
      "2709  [rain, rain, rain, rain, rain, rain, rain, rai...   \n",
      "2710  [rain, rain, rain, rain, rain, rain, rain, rai...   \n",
      "2711  [rain, rain, rain, rain, rain, rain, rain, rai...   \n",
      "2712  [rain, rain, rain, rain, rain, rain, rain, rai...   \n",
      "2713  [snow, snow, snow, snow, snow, snow, snow, sno...   \n",
      "\n",
      "                                                   icon  \\\n",
      "2314  [partly-cloudy-night, partly-cloudy-night, clo...   \n",
      "2315  [partly-cloudy-night, partly-cloudy-night, clo...   \n",
      "2316  [clear-night, clear-night, clear-night, clear-...   \n",
      "2317  [clear-night, clear-night, clear-night, clear-...   \n",
      "2318  [clear-night, clear-night, clear-night, clear-...   \n",
      "...                                                 ...   \n",
      "2709  [partly-cloudy-night, partly-cloudy-night, par...   \n",
      "2710  [partly-cloudy-night, partly-cloudy-night, par...   \n",
      "2711  [partly-cloudy-night, partly-cloudy-night, cle...   \n",
      "2712  [partly-cloudy-night, partly-cloudy-night, par...   \n",
      "2713  [partly-cloudy-night, partly-cloudy-night, par...   \n",
      "\n",
      "                                               humidity  \\\n",
      "2314  [0.93, 0.93, 0.9, 0.9, 0.91, 0.91, 0.93, 0.93,...   \n",
      "2315  [0.93, 0.93, 0.9, 0.9, 0.91, 0.91, 0.93, 0.93,...   \n",
      "2316  [0.75, 0.75, 0.76, 0.76, 0.76, 0.76, 0.77, 0.7...   \n",
      "2317  [0.75, 0.75, 0.76, 0.76, 0.76, 0.76, 0.77, 0.7...   \n",
      "2318  [0.77, 0.77, 0.78, 0.78, 0.8, 0.8, 0.8, 0.8, 0...   \n",
      "...                                                 ...   \n",
      "2709  [0.89, 0.89, 0.89, 0.89, 0.93, 0.93, 0.92, 0.9...   \n",
      "2710  [0.89, 0.89, 0.89, 0.89, 0.93, 0.93, 0.92, 0.9...   \n",
      "2711  [0.84, 0.84, 0.87, 0.87, 0.85, 0.85, 0.88, 0.8...   \n",
      "2712  [0.84, 0.84, 0.88, 0.88, 0.91, 0.91, 0.91, 0.9...   \n",
      "2713  [0.71, 0.71, 0.71, 0.71, 0.69, 0.69, 0.69, 0.6...   \n",
      "\n",
      "                                                summary  \n",
      "2314  [Mostly Cloudy, Mostly Cloudy, Overcast, Overc...  \n",
      "2315  [Mostly Cloudy, Mostly Cloudy, Overcast, Overc...  \n",
      "2316  [Clear, Clear, Clear, Clear, Clear, Clear, Cle...  \n",
      "2317  [Clear, Clear, Clear, Clear, Clear, Clear, Cle...  \n",
      "2318  [Clear, Clear, Clear, Clear, Clear, Clear, Par...  \n",
      "...                                                 ...  \n",
      "2709  [Partly Cloudy, Partly Cloudy, Partly Cloudy, ...  \n",
      "2710  [Partly Cloudy, Partly Cloudy, Partly Cloudy, ...  \n",
      "2711  [Partly Cloudy, Partly Cloudy, Clear, Clear, P...  \n",
      "2712  [Partly Cloudy, Partly Cloudy, Partly Cloudy, ...  \n",
      "2713  [Partly Cloudy, Partly Cloudy, Partly Cloudy, ...  \n",
      "\n",
      "[400 rows x 21 columns]\n",
      "block_40-47\n",
      "          LCLid start_timestamp frequency  \\\n",
      "2714  MAC000156      2012-01-01     30min   \n",
      "2715  MAC000163      2012-01-01     30min   \n",
      "2716  MAC000167      2012-01-01     30min   \n",
      "2717  MAC000229      2012-01-01     30min   \n",
      "2718  MAC000232      2012-01-01     30min   \n",
      "...         ...             ...       ...   \n",
      "3159  MAC005050      2012-05-30     30min   \n",
      "3160  MAC005060      2012-05-30     30min   \n",
      "3161  MAC005064      2012-05-30     30min   \n",
      "3162  MAC005099      2012-05-31     30min   \n",
      "3163  MAC005126      2012-06-01     30min   \n",
      "\n",
      "                                     energy_consumption  series_length  \\\n",
      "2714  [0.3379999999999999, 0.223, 0.211, 0.415, 0.22...          37872   \n",
      "2715  [0.198, 0.208, 0.127, 0.099, 0.126, 0.126, 0.0...          37872   \n",
      "2716  [0.01, 0.009, 0.009, 0.009, 0.01, 0.009, 0.009...          37872   \n",
      "2717  [0.122, 0.1119999999999999, 0.11, 0.1969999999...          37872   \n",
      "2718  [0.051, 0.045, 0.075, 0.0559999999999999, 0.09...          37872   \n",
      "...                                                 ...            ...   \n",
      "3159  [0.3379999999999999, 0.38, 0.352, 0.365, 0.392...          30672   \n",
      "3160  [0.085, 0.086, 0.074, 0.079, 0.081, 0.078, 0.0...          30672   \n",
      "3161  [0.4579999999999999, 0.105, 0.047, 0.048, 0.06...          30672   \n",
      "3162  [0.04, 0.073, 0.071, 0.071, 0.0579999999999999...          30624   \n",
      "3163  [0.226, 0.221, 0.2239999999999999, 0.223999999...          30576   \n",
      "\n",
      "     stdorToU    Acorn Acorn_grouped      file  \\\n",
      "2714      Std  ACORN-F   Comfortable  block_48   \n",
      "2715      Std  ACORN-F   Comfortable  block_48   \n",
      "2716      Std  ACORN-F   Comfortable  block_48   \n",
      "2717      Std  ACORN-F   Comfortable  block_48   \n",
      "2718      Std  ACORN-F   Comfortable  block_48   \n",
      "...       ...      ...           ...       ...   \n",
      "3159      Std  ACORN-F   Comfortable  block_55   \n",
      "3160      Std  ACORN-F   Comfortable  block_55   \n",
      "3161      Std  ACORN-F   Comfortable  block_55   \n",
      "3162      Std  ACORN-F   Comfortable  block_55   \n",
      "3163      Std  ACORN-F   Comfortable  block_55   \n",
      "\n",
      "                                               holidays  ...  \\\n",
      "2714  [NO_HOLIDAY, NO_HOLIDAY, NO_HOLIDAY, NO_HOLIDA...  ...   \n",
      "2715  [NO_HOLIDAY, NO_HOLIDAY, NO_HOLIDAY, NO_HOLIDA...  ...   \n",
      "2716  [NO_HOLIDAY, NO_HOLIDAY, NO_HOLIDAY, NO_HOLIDA...  ...   \n",
      "2717  [NO_HOLIDAY, NO_HOLIDAY, NO_HOLIDAY, NO_HOLIDA...  ...   \n",
      "2718  [NO_HOLIDAY, NO_HOLIDAY, NO_HOLIDAY, NO_HOLIDA...  ...   \n",
      "...                                                 ...  ...   \n",
      "3159  [NO_HOLIDAY, NO_HOLIDAY, NO_HOLIDAY, NO_HOLIDA...  ...   \n",
      "3160  [NO_HOLIDAY, NO_HOLIDAY, NO_HOLIDAY, NO_HOLIDA...  ...   \n",
      "3161  [NO_HOLIDAY, NO_HOLIDAY, NO_HOLIDAY, NO_HOLIDA...  ...   \n",
      "3162  [NO_HOLIDAY, NO_HOLIDAY, NO_HOLIDAY, NO_HOLIDA...  ...   \n",
      "3163  [NO_HOLIDAY, NO_HOLIDAY, NO_HOLIDAY, NO_HOLIDA...  ...   \n",
      "\n",
      "                                            windBearing  \\\n",
      "2714  [229, 229, 238, 238, 229, 229, 231, 231, 227, ...   \n",
      "2715  [229, 229, 238, 238, 229, 229, 231, 231, 227, ...   \n",
      "2716  [229, 229, 238, 238, 229, 229, 231, 231, 227, ...   \n",
      "2717  [229, 229, 238, 238, 229, 229, 231, 231, 227, ...   \n",
      "2718  [229, 229, 238, 238, 229, 229, 231, 231, 227, ...   \n",
      "...                                                 ...   \n",
      "3159  [173, 173, 183, 183, 198, 198, 200, 200, 199, ...   \n",
      "3160  [173, 173, 183, 183, 198, 198, 200, 200, 199, ...   \n",
      "3161  [173, 173, 183, 183, 198, 198, 200, 200, 199, ...   \n",
      "3162  [252, 252, 254, 254, 259, 259, 265, 265, 268, ...   \n",
      "3163  [269, 269, 270, 270, 267, 267, 278, 278, 283, ...   \n",
      "\n",
      "                                            temperature  \\\n",
      "2714  [12.12, 12.12, 12.59, 12.59, 12.45, 12.45, 12....   \n",
      "2715  [12.12, 12.12, 12.59, 12.59, 12.45, 12.45, 12....   \n",
      "2716  [12.12, 12.12, 12.59, 12.59, 12.45, 12.45, 12....   \n",
      "2717  [12.12, 12.12, 12.59, 12.59, 12.45, 12.45, 12....   \n",
      "2718  [12.12, 12.12, 12.59, 12.59, 12.45, 12.45, 12....   \n",
      "...                                                 ...   \n",
      "3159  [14.78, 14.78, 14.33, 14.33, 13.46, 13.46, 13....   \n",
      "3160  [14.78, 14.78, 14.33, 14.33, 13.46, 13.46, 13....   \n",
      "3161  [14.78, 14.78, 14.33, 14.33, 13.46, 13.46, 13....   \n",
      "3162  [15.78, 15.78, 14.99, 14.99, 14.52, 14.52, 14....   \n",
      "3163  [15.43, 15.43, 14.53, 14.53, 13.98, 13.98, 14....   \n",
      "\n",
      "                                               dewPoint  \\\n",
      "2714  [10.97, 10.97, 11.02, 11.02, 11.04, 11.04, 10....   \n",
      "2715  [10.97, 10.97, 11.02, 11.02, 11.04, 11.04, 10....   \n",
      "2716  [10.97, 10.97, 11.02, 11.02, 11.04, 11.04, 10....   \n",
      "2717  [10.97, 10.97, 11.02, 11.02, 11.04, 11.04, 10....   \n",
      "2718  [10.97, 10.97, 11.02, 11.02, 11.04, 11.04, 10....   \n",
      "...                                                 ...   \n",
      "3159  [12.91, 12.91, 12.48, 12.48, 12.39, 12.39, 12....   \n",
      "3160  [12.91, 12.91, 12.48, 12.48, 12.39, 12.39, 12....   \n",
      "3161  [12.91, 12.91, 12.48, 12.48, 12.39, 12.39, 12....   \n",
      "3162  [13.08, 13.08, 12.93, 12.93, 12.02, 12.02, 12....   \n",
      "3163  [12.67, 12.67, 12.62, 12.62, 12.56, 12.56, 12....   \n",
      "\n",
      "                                               pressure  \\\n",
      "2714  [1008.1, 1008.1, 1007.88, 1007.88, 1007.95, 10...   \n",
      "2715  [1008.1, 1008.1, 1007.88, 1007.88, 1007.95, 10...   \n",
      "2716  [1008.1, 1008.1, 1007.88, 1007.88, 1007.95, 10...   \n",
      "2717  [1008.1, 1008.1, 1007.88, 1007.88, 1007.95, 10...   \n",
      "2718  [1008.1, 1008.1, 1007.88, 1007.88, 1007.95, 10...   \n",
      "...                                                 ...   \n",
      "3159  [1017.72, 1017.72, 1017.58, 1017.58, 1017.55, ...   \n",
      "3160  [1017.72, 1017.72, 1017.58, 1017.58, 1017.55, ...   \n",
      "3161  [1017.72, 1017.72, 1017.58, 1017.58, 1017.55, ...   \n",
      "3162  [1018.67, 1018.67, 1018.64, 1018.64, 1018.72, ...   \n",
      "3163  [1019.23, 1019.23, 1019.03, 1019.03, 1019.03, ...   \n",
      "\n",
      "                                    apparentTemperature  \\\n",
      "2714  [12.12, 12.12, 12.59, 12.59, 12.45, 12.45, 12....   \n",
      "2715  [12.12, 12.12, 12.59, 12.59, 12.45, 12.45, 12....   \n",
      "2716  [12.12, 12.12, 12.59, 12.59, 12.45, 12.45, 12....   \n",
      "2717  [12.12, 12.12, 12.59, 12.59, 12.45, 12.45, 12....   \n",
      "2718  [12.12, 12.12, 12.59, 12.59, 12.45, 12.45, 12....   \n",
      "...                                                 ...   \n",
      "3159  [14.78, 14.78, 14.33, 14.33, 13.46, 13.46, 13....   \n",
      "3160  [14.78, 14.78, 14.33, 14.33, 13.46, 13.46, 13....   \n",
      "3161  [14.78, 14.78, 14.33, 14.33, 13.46, 13.46, 13....   \n",
      "3162  [15.78, 15.78, 14.99, 14.99, 14.52, 14.52, 14....   \n",
      "3163  [15.43, 15.43, 14.53, 14.53, 13.98, 13.98, 14....   \n",
      "\n",
      "                                              windSpeed  \\\n",
      "2714  [5.9, 5.9, 6.06, 6.06, 5.31, 5.31, 4.68, 4.68,...   \n",
      "2715  [5.9, 5.9, 6.06, 6.06, 5.31, 5.31, 4.68, 4.68,...   \n",
      "2716  [5.9, 5.9, 6.06, 6.06, 5.31, 5.31, 4.68, 4.68,...   \n",
      "2717  [5.9, 5.9, 6.06, 6.06, 5.31, 5.31, 4.68, 4.68,...   \n",
      "2718  [5.9, 5.9, 6.06, 6.06, 5.31, 5.31, 4.68, 4.68,...   \n",
      "...                                                 ...   \n",
      "3159  [1.91, 1.91, 1.94, 1.94, 2.06, 2.06, 2.07, 2.0...   \n",
      "3160  [1.91, 1.91, 1.94, 1.94, 2.06, 2.06, 2.07, 2.0...   \n",
      "3161  [1.91, 1.91, 1.94, 1.94, 2.06, 2.06, 2.07, 2.0...   \n",
      "3162  [3.56, 3.56, 3.18, 3.18, 3.55, 3.55, 3.33, 3.3...   \n",
      "3163  [2.85, 2.85, 2.38, 2.38, 2.1, 2.1, 2.15, 2.15,...   \n",
      "\n",
      "                                             precipType  \\\n",
      "2714  [rain, rain, rain, rain, rain, rain, rain, rai...   \n",
      "2715  [rain, rain, rain, rain, rain, rain, rain, rai...   \n",
      "2716  [rain, rain, rain, rain, rain, rain, rain, rai...   \n",
      "2717  [rain, rain, rain, rain, rain, rain, rain, rai...   \n",
      "2718  [rain, rain, rain, rain, rain, rain, rain, rai...   \n",
      "...                                                 ...   \n",
      "3159  [rain, rain, rain, rain, rain, rain, rain, rai...   \n",
      "3160  [rain, rain, rain, rain, rain, rain, rain, rai...   \n",
      "3161  [rain, rain, rain, rain, rain, rain, rain, rai...   \n",
      "3162  [rain, rain, rain, rain, rain, rain, rain, rai...   \n",
      "3163  [rain, rain, rain, rain, rain, rain, rain, rai...   \n",
      "\n",
      "                                                   icon  \\\n",
      "2714  [partly-cloudy-night, partly-cloudy-night, clo...   \n",
      "2715  [partly-cloudy-night, partly-cloudy-night, clo...   \n",
      "2716  [partly-cloudy-night, partly-cloudy-night, clo...   \n",
      "2717  [partly-cloudy-night, partly-cloudy-night, clo...   \n",
      "2718  [partly-cloudy-night, partly-cloudy-night, clo...   \n",
      "...                                                 ...   \n",
      "3159  [partly-cloudy-night, partly-cloudy-night, par...   \n",
      "3160  [partly-cloudy-night, partly-cloudy-night, par...   \n",
      "3161  [partly-cloudy-night, partly-cloudy-night, par...   \n",
      "3162  [partly-cloudy-night, partly-cloudy-night, cle...   \n",
      "3163  [partly-cloudy-night, partly-cloudy-night, par...   \n",
      "\n",
      "                                               humidity  \\\n",
      "2714  [0.93, 0.93, 0.9, 0.9, 0.91, 0.91, 0.93, 0.93,...   \n",
      "2715  [0.93, 0.93, 0.9, 0.9, 0.91, 0.91, 0.93, 0.93,...   \n",
      "2716  [0.93, 0.93, 0.9, 0.9, 0.91, 0.91, 0.93, 0.93,...   \n",
      "2717  [0.93, 0.93, 0.9, 0.9, 0.91, 0.91, 0.93, 0.93,...   \n",
      "2718  [0.93, 0.93, 0.9, 0.9, 0.91, 0.91, 0.93, 0.93,...   \n",
      "...                                                 ...   \n",
      "3159  [0.89, 0.89, 0.89, 0.89, 0.93, 0.93, 0.92, 0.9...   \n",
      "3160  [0.89, 0.89, 0.89, 0.89, 0.93, 0.93, 0.92, 0.9...   \n",
      "3161  [0.89, 0.89, 0.89, 0.89, 0.93, 0.93, 0.92, 0.9...   \n",
      "3162  [0.84, 0.84, 0.87, 0.87, 0.85, 0.85, 0.88, 0.8...   \n",
      "3163  [0.84, 0.84, 0.88, 0.88, 0.91, 0.91, 0.91, 0.9...   \n",
      "\n",
      "                                                summary  \n",
      "2714  [Mostly Cloudy, Mostly Cloudy, Overcast, Overc...  \n",
      "2715  [Mostly Cloudy, Mostly Cloudy, Overcast, Overc...  \n",
      "2716  [Mostly Cloudy, Mostly Cloudy, Overcast, Overc...  \n",
      "2717  [Mostly Cloudy, Mostly Cloudy, Overcast, Overc...  \n",
      "2718  [Mostly Cloudy, Mostly Cloudy, Overcast, Overc...  \n",
      "...                                                 ...  \n",
      "3159  [Partly Cloudy, Partly Cloudy, Partly Cloudy, ...  \n",
      "3160  [Partly Cloudy, Partly Cloudy, Partly Cloudy, ...  \n",
      "3161  [Partly Cloudy, Partly Cloudy, Partly Cloudy, ...  \n",
      "3162  [Partly Cloudy, Partly Cloudy, Clear, Clear, P...  \n",
      "3163  [Partly Cloudy, Partly Cloudy, Partly Cloudy, ...  \n",
      "\n",
      "[400 rows x 21 columns]\n",
      "block_48-55\n",
      "          LCLid start_timestamp frequency  \\\n",
      "3164  MAC000060      2012-01-01     30min   \n",
      "3165  MAC000586      2012-04-13     30min   \n",
      "3166  MAC000728      2012-04-20     30min   \n",
      "3167  MAC000789      2012-04-21     30min   \n",
      "3168  MAC001055      2012-05-09     30min   \n",
      "...         ...             ...       ...   \n",
      "3608  MAC004766      2012-04-04     30min   \n",
      "3609  MAC005259      2012-02-09     30min   \n",
      "3610  MAC005298      2012-02-15     30min   \n",
      "3611  MAC005330      2012-02-21     30min   \n",
      "3612  MAC005366      2012-02-23     30min   \n",
      "\n",
      "                                     energy_consumption  series_length  \\\n",
      "3164  [0.375, 0.349, 0.3389999999999999, 0.26, 0.153...          37872   \n",
      "3165  [0.1119999999999999, 0.084, 0.1669999999999999...          32928   \n",
      "3166  [0.094, 0.087, 0.062, 0.063, 0.063, 0.095, 0.0...          32592   \n",
      "3167  [0.146, 0.155, 0.062, 0.0409999999999999, 0.04...          32544   \n",
      "3168  [0.12, 0.124, 0.123, 0.1119999999999999, 0.118...          31680   \n",
      "...                                                 ...            ...   \n",
      "3608  [0.08, 0.067, 0.037, 0.037, 0.0289999999999999...          33360   \n",
      "3609  [0.123, 0.107, 0.1009999999999999, 0.105, 0.10...          36000   \n",
      "3610  [0.059, 0.016, 0.015, 0.047, 0.035, 0.03, 0.02...          35712   \n",
      "3611  [0.046, 0.031, 0.033, 0.034, 0.027999999999999...          35424   \n",
      "3612  [0.125, 0.155, 0.144, 0.172, 0.133, 0.149, 0.1...          35328   \n",
      "\n",
      "     stdorToU    Acorn Acorn_grouped      file  \\\n",
      "3164      Std  ACORN-F   Comfortable  block_56   \n",
      "3165      ToU  ACORN-F   Comfortable  block_56   \n",
      "3166      ToU  ACORN-F   Comfortable  block_56   \n",
      "3167      ToU  ACORN-F   Comfortable  block_56   \n",
      "3168      Std  ACORN-F   Comfortable  block_56   \n",
      "...       ...      ...           ...       ...   \n",
      "3608      Std  ACORN-H   Comfortable  block_63   \n",
      "3609      Std  ACORN-H   Comfortable  block_63   \n",
      "3610      Std  ACORN-H   Comfortable  block_63   \n",
      "3611      Std  ACORN-H   Comfortable  block_63   \n",
      "3612      Std  ACORN-H   Comfortable  block_63   \n",
      "\n",
      "                                               holidays  ...  \\\n",
      "3164  [NO_HOLIDAY, NO_HOLIDAY, NO_HOLIDAY, NO_HOLIDA...  ...   \n",
      "3165  [NO_HOLIDAY, NO_HOLIDAY, NO_HOLIDAY, NO_HOLIDA...  ...   \n",
      "3166  [NO_HOLIDAY, NO_HOLIDAY, NO_HOLIDAY, NO_HOLIDA...  ...   \n",
      "3167  [NO_HOLIDAY, NO_HOLIDAY, NO_HOLIDAY, NO_HOLIDA...  ...   \n",
      "3168  [NO_HOLIDAY, NO_HOLIDAY, NO_HOLIDAY, NO_HOLIDA...  ...   \n",
      "...                                                 ...  ...   \n",
      "3608  [NO_HOLIDAY, NO_HOLIDAY, NO_HOLIDAY, NO_HOLIDA...  ...   \n",
      "3609  [NO_HOLIDAY, NO_HOLIDAY, NO_HOLIDAY, NO_HOLIDA...  ...   \n",
      "3610  [NO_HOLIDAY, NO_HOLIDAY, NO_HOLIDAY, NO_HOLIDA...  ...   \n",
      "3611  [NO_HOLIDAY, NO_HOLIDAY, NO_HOLIDAY, NO_HOLIDA...  ...   \n",
      "3612  [NO_HOLIDAY, NO_HOLIDAY, NO_HOLIDAY, NO_HOLIDA...  ...   \n",
      "\n",
      "                                            windBearing  \\\n",
      "3164  [229, 229, 238, 238, 229, 229, 231, 231, 227, ...   \n",
      "3165  [307, 307, 329, 329, 326, 326, 314, 314, 312, ...   \n",
      "3166  [264, 264, 262, 262, 258, 258, 256, 256, 256, ...   \n",
      "3167  [251, 251, 251, 251, 246, 246, 242, 242, 244, ...   \n",
      "3168  [215, 215, 207, 207, 215, 215, 216, 216, 126, ...   \n",
      "...                                                 ...   \n",
      "3608  [263, 263, 243, 243, 247, 247, 231, 231, 221, ...   \n",
      "3609  [43, 43, 48, 48, 41, 41, 19, 19, 346, 346, 5, ...   \n",
      "3610  [309, 309, 309, 309, 314, 314, 318, 318, 315, ...   \n",
      "3611  [229, 229, 233, 233, 234, 234, 238, 238, 238, ...   \n",
      "3612  [248, 248, 247, 247, 250, 250, 250, 250, 250, ...   \n",
      "\n",
      "                                            temperature  \\\n",
      "3164  [12.12, 12.12, 12.59, 12.59, 12.45, 12.45, 12....   \n",
      "3165  [6.73, 6.73, 6.45, 6.45, 5.59, 5.59, 5.39, 5.3...   \n",
      "3166  [7.42, 7.42, 7.02, 7.02, 6.6, 6.6, 6.41, 6.41,...   \n",
      "3167  [6.42, 6.42, 6.2, 6.2, 5.68, 5.68, 5.16, 5.16,...   \n",
      "3168  [11.46, 11.46, 11.38, 11.38, 11.38, 11.38, 10....   \n",
      "...                                                 ...   \n",
      "3608  [6.51, 6.51, 6.08, 6.08, 5.96, 5.96, 5.73, 5.7...   \n",
      "3609  [0.27, 0.27, 0.27, 0.27, 0.19, 0.19, 0.13, 0.1...   \n",
      "3610  [6.98, 6.98, 6.98, 6.98, 7.43, 7.43, 7.54, 7.5...   \n",
      "3611  [5.72, 5.72, 5.74, 5.74, 5.94, 5.94, 6.01, 6.0...   \n",
      "3612  [10.87, 10.87, 11.3, 11.3, 11.45, 11.45, 11.5,...   \n",
      "\n",
      "                                               dewPoint  \\\n",
      "3164  [10.97, 10.97, 11.02, 11.02, 11.04, 11.04, 10....   \n",
      "3165  [4.85, 4.85, 4.72, 4.72, 4.29, 4.29, 4.06, 4.0...   \n",
      "3166  [6.28, 6.28, 5.42, 5.42, 5.41, 5.41, 5.27, 5.2...   \n",
      "3167  [3.54, 3.54, 3.61, 3.61, 3.52, 3.52, 3.11, 3.1...   \n",
      "3168  [10.23, 10.23, 10.17, 10.17, 10.24, 10.24, 10....   \n",
      "...                                                 ...   \n",
      "3608  [5.32, 5.32, 4.53, 4.53, 4.3, 4.3, 4.21, 4.21,...   \n",
      "3609  [-2.32, -2.32, -2.3, -2.3, -2.43, -2.43, -2.94...   \n",
      "3610  [4.3, 4.3, 4.31, 4.31, 4.69, 4.69, 4.7, 4.7, 4...   \n",
      "3611  [2.92, 2.92, 2.97, 2.97, 3.02, 3.02, 3.03, 3.0...   \n",
      "3612  [9.79, 9.79, 9.92, 9.92, 10.21, 10.21, 10.21, ...   \n",
      "\n",
      "                                               pressure  \\\n",
      "3164  [1008.1, 1008.1, 1007.88, 1007.88, 1007.95, 10...   \n",
      "3165  [1005.05, 1005.05, 1005.0, 1005.0, 1004.86, 10...   \n",
      "3166  [990.77, 990.77, 991.06, 991.06, 991.28, 991.2...   \n",
      "3167  [994.96, 994.96, 994.98, 994.98, 994.82, 994.8...   \n",
      "3168  [1007.39, 1007.39, 1007.21, 1007.21, 1007.06, ...   \n",
      "...                                                 ...   \n",
      "3608  [1001.66, 1001.66, 1001.79, 1001.79, 1001.89, ...   \n",
      "3609  [1040.64, 1040.64, 1040.63, 1040.63, 1040.37, ...   \n",
      "3610  [1022.87, 1022.87, 1022.8, 1022.8, 1022.72, 10...   \n",
      "3611  [1030.0, 1030.0, 1029.56, 1029.56, 1029.12, 10...   \n",
      "3612  [1019.19, 1019.19, 1019.56, 1019.56, 1019.81, ...   \n",
      "\n",
      "                                    apparentTemperature  \\\n",
      "3164  [12.12, 12.12, 12.59, 12.59, 12.45, 12.45, 12....   \n",
      "3165  [6.73, 6.73, 6.45, 6.45, 5.59, 5.59, 5.39, 5.3...   \n",
      "3166  [5.12, 5.12, 4.62, 4.62, 4.27, 4.27, 4.13, 4.1...   \n",
      "3167  [3.79, 3.79, 3.67, 3.67, 3.15, 3.15, 2.61, 2.6...   \n",
      "3168  [11.46, 11.46, 11.38, 11.38, 11.38, 11.38, 10....   \n",
      "...                                                 ...   \n",
      "3608  [5.23, 5.23, 5.11, 5.11, 4.64, 4.64, 3.83, 3.8...   \n",
      "3609  [-2.62, -2.62, -2.77, -2.77, -2.36, -2.36, -1....   \n",
      "3610  [4.1, 4.1, 3.71, 3.71, 4.16, 4.16, 4.22, 4.22,...   \n",
      "3611  [2.79, 2.79, 2.74, 2.74, 2.78, 2.78, 3.01, 3.0...   \n",
      "3612  [10.87, 10.87, 11.3, 11.3, 11.45, 11.45, 11.5,...   \n",
      "\n",
      "                                              windSpeed  \\\n",
      "3164  [5.9, 5.9, 6.06, 6.06, 5.31, 5.31, 4.68, 4.68,...   \n",
      "3165  [0.76, 0.76, 0.64, 0.64, 0.81, 0.81, 0.8, 0.8,...   \n",
      "3166  [3.49, 3.49, 3.51, 3.51, 3.24, 3.24, 3.09, 3.0...   \n",
      "3167  [3.64, 3.64, 3.42, 3.42, 3.25, 3.25, 3.13, 3.1...   \n",
      "3168  [2.35, 2.35, 2.15, 2.15, 1.84, 1.84, 1.22, 1.2...   \n",
      "...                                                 ...   \n",
      "3608  [1.89, 1.89, 1.56, 1.56, 1.85, 1.85, 2.43, 2.4...   \n",
      "3609  [2.41, 2.41, 2.57, 2.57, 2.1, 2.1, 1.36, 1.36,...   \n",
      "3610  [4.38, 4.38, 5.25, 5.25, 5.51, 5.51, 5.76, 5.7...   \n",
      "3611  [3.93, 3.93, 4.07, 4.07, 4.46, 4.46, 4.18, 4.1...   \n",
      "3612  [5.23, 5.23, 4.8, 4.8, 4.9, 4.9, 4.45, 4.45, 3...   \n",
      "\n",
      "                                             precipType  \\\n",
      "3164  [rain, rain, rain, rain, rain, rain, rain, rai...   \n",
      "3165  [rain, rain, rain, rain, rain, rain, rain, rai...   \n",
      "3166  [rain, rain, rain, rain, rain, rain, rain, rai...   \n",
      "3167  [rain, rain, rain, rain, rain, rain, rain, rai...   \n",
      "3168  [rain, rain, rain, rain, rain, rain, rain, rai...   \n",
      "...                                                 ...   \n",
      "3608  [rain, rain, rain, rain, rain, rain, rain, rai...   \n",
      "3609  [snow, snow, snow, snow, snow, snow, snow, sno...   \n",
      "3610  [rain, rain, rain, rain, rain, rain, rain, rai...   \n",
      "3611  [rain, rain, rain, rain, rain, rain, rain, rai...   \n",
      "3612  [rain, rain, rain, rain, rain, rain, rain, rai...   \n",
      "\n",
      "                                                   icon  \\\n",
      "3164  [partly-cloudy-night, partly-cloudy-night, clo...   \n",
      "3165  [partly-cloudy-night, partly-cloudy-night, cle...   \n",
      "3166  [partly-cloudy-night, partly-cloudy-night, par...   \n",
      "3167  [partly-cloudy-night, partly-cloudy-night, par...   \n",
      "3168  [partly-cloudy-night, partly-cloudy-night, par...   \n",
      "...                                                 ...   \n",
      "3608  [partly-cloudy-night, partly-cloudy-night, par...   \n",
      "3609  [cloudy, cloudy, cloudy, cloudy, cloudy, cloud...   \n",
      "3610  [partly-cloudy-night, partly-cloudy-night, par...   \n",
      "3611  [partly-cloudy-night, partly-cloudy-night, par...   \n",
      "3612  [partly-cloudy-night, partly-cloudy-night, par...   \n",
      "\n",
      "                                               humidity  \\\n",
      "3164  [0.93, 0.93, 0.9, 0.9, 0.91, 0.91, 0.93, 0.93,...   \n",
      "3165  [0.88, 0.88, 0.89, 0.89, 0.91, 0.91, 0.91, 0.9...   \n",
      "3166  [0.92, 0.92, 0.9, 0.9, 0.92, 0.92, 0.92, 0.92,...   \n",
      "3167  [0.82, 0.82, 0.83, 0.83, 0.86, 0.86, 0.87, 0.8...   \n",
      "3168  [0.92, 0.92, 0.92, 0.92, 0.93, 0.93, 0.95, 0.9...   \n",
      "...                                                 ...   \n",
      "3608  [0.92, 0.92, 0.9, 0.9, 0.89, 0.89, 0.9, 0.9, 0...   \n",
      "3609  [0.83, 0.83, 0.83, 0.83, 0.83, 0.83, 0.8, 0.8,...   \n",
      "3610  [0.83, 0.83, 0.83, 0.83, 0.83, 0.83, 0.82, 0.8...   \n",
      "3611  [0.82, 0.82, 0.82, 0.82, 0.81, 0.81, 0.81, 0.8...   \n",
      "3612  [0.93, 0.93, 0.91, 0.91, 0.92, 0.92, 0.92, 0.9...   \n",
      "\n",
      "                                                summary  \n",
      "3164  [Mostly Cloudy, Mostly Cloudy, Overcast, Overc...  \n",
      "3165  [Partly Cloudy, Partly Cloudy, Clear, Clear, C...  \n",
      "3166  [Partly Cloudy, Partly Cloudy, Partly Cloudy, ...  \n",
      "3167  [Partly Cloudy, Partly Cloudy, Partly Cloudy, ...  \n",
      "3168  [Partly Cloudy, Partly Cloudy, Mostly Cloudy, ...  \n",
      "...                                                 ...  \n",
      "3608  [Mostly Cloudy, Mostly Cloudy, Mostly Cloudy, ...  \n",
      "3609  [Overcast, Overcast, Overcast, Overcast, Overc...  \n",
      "3610  [Mostly Cloudy, Mostly Cloudy, Partly Cloudy, ...  \n",
      "3611  [Partly Cloudy, Partly Cloudy, Partly Cloudy, ...  \n",
      "3612  [Mostly Cloudy, Mostly Cloudy, Mostly Cloudy, ...  \n",
      "\n",
      "[400 rows x 21 columns]\n",
      "block_56-63\n",
      "          LCLid start_timestamp frequency  \\\n",
      "3613  MAC000008      2012-05-06     30min   \n",
      "3614  MAC000059      2012-01-01     30min   \n",
      "3615  MAC000062      2012-01-01     30min   \n",
      "3616  MAC000093      2012-01-01     30min   \n",
      "3617  MAC000124      2012-01-01     30min   \n",
      "...         ...             ...       ...   \n",
      "4057  MAC004401      2012-03-20     30min   \n",
      "4058  MAC004754      2012-04-03     30min   \n",
      "4059  MAC004785      2012-04-05     30min   \n",
      "4060  MAC004960      2012-01-24     30min   \n",
      "4061  MAC005059      2012-05-30     30min   \n",
      "\n",
      "                                     energy_consumption  series_length  \\\n",
      "3613  [0.16, 0.1689999999999999, 0.182, 0.156, 0.18,...          31824   \n",
      "3614  [0.206, 0.2239999999999999, 0.195, 0.238, 0.19...          37872   \n",
      "3615  [0.291, 0.225, 0.179, 0.193, 0.136999999999999...          37872   \n",
      "3616  [0.071, 0.079, 0.104, 0.09, 0.067, 0.087, 0.08...          37872   \n",
      "3617  [0.387, 0.317, 0.236, 0.162, 0.14, 0.139, 0.20...          37872   \n",
      "...                                                 ...            ...   \n",
      "4057  [0.067, 0.06, 0.088, 0.0579999999999999, 0.059...          34080   \n",
      "4058  [0.253, 0.066, 0.091, 0.088, 0.057, 0.09699999...          33408   \n",
      "4059  [0.119, 0.062, 0.027, 0.042, 0.084, 0.047, 0.0...          33312   \n",
      "4060  [0.105, 0.108, 0.091, 0.068, 0.105, 0.074, 0.0...          36768   \n",
      "4061  [0.254, 0.175, 0.182, 0.156, 0.187, 0.17, 0.16...          30672   \n",
      "\n",
      "     stdorToU    Acorn Acorn_grouped      file  \\\n",
      "3613      Std  ACORN-H   Comfortable  block_64   \n",
      "3614      Std  ACORN-H   Comfortable  block_64   \n",
      "3615      Std  ACORN-H   Comfortable  block_64   \n",
      "3616      Std  ACORN-H   Comfortable  block_64   \n",
      "3617      ToU  ACORN-H   Comfortable  block_64   \n",
      "...       ...      ...           ...       ...   \n",
      "4057      Std  ACORN-I   Comfortable  block_71   \n",
      "4058      Std  ACORN-I   Comfortable  block_71   \n",
      "4059      Std  ACORN-J   Comfortable  block_71   \n",
      "4060      Std  ACORN-I   Comfortable  block_71   \n",
      "4061      ToU  ACORN-I   Comfortable  block_71   \n",
      "\n",
      "                                               holidays  ...  \\\n",
      "3613  [Queen?s Diamond Jubilee (extra bank holiday),...  ...   \n",
      "3614  [NO_HOLIDAY, NO_HOLIDAY, NO_HOLIDAY, NO_HOLIDA...  ...   \n",
      "3615  [NO_HOLIDAY, NO_HOLIDAY, NO_HOLIDAY, NO_HOLIDA...  ...   \n",
      "3616  [NO_HOLIDAY, NO_HOLIDAY, NO_HOLIDAY, NO_HOLIDA...  ...   \n",
      "3617  [NO_HOLIDAY, NO_HOLIDAY, NO_HOLIDAY, NO_HOLIDA...  ...   \n",
      "...                                                 ...  ...   \n",
      "4057  [NO_HOLIDAY, NO_HOLIDAY, NO_HOLIDAY, NO_HOLIDA...  ...   \n",
      "4058  [NO_HOLIDAY, NO_HOLIDAY, NO_HOLIDAY, NO_HOLIDA...  ...   \n",
      "4059  [NO_HOLIDAY, NO_HOLIDAY, NO_HOLIDAY, NO_HOLIDA...  ...   \n",
      "4060  [NO_HOLIDAY, NO_HOLIDAY, NO_HOLIDAY, NO_HOLIDA...  ...   \n",
      "4061  [NO_HOLIDAY, NO_HOLIDAY, NO_HOLIDAY, NO_HOLIDA...  ...   \n",
      "\n",
      "                                            windBearing  \\\n",
      "3613  [40, 40, 41, 41, 36, 36, 30, 30, 22, 22, 24, 2...   \n",
      "3614  [229, 229, 238, 238, 229, 229, 231, 231, 227, ...   \n",
      "3615  [229, 229, 238, 238, 229, 229, 231, 231, 227, ...   \n",
      "3616  [229, 229, 238, 238, 229, 229, 231, 231, 227, ...   \n",
      "3617  [229, 229, 238, 238, 229, 229, 231, 231, 227, ...   \n",
      "...                                                 ...   \n",
      "4057  [252, 252, 245, 245, 245, 245, 234, 234, 242, ...   \n",
      "4058  [309, 309, 301, 301, 305, 305, 305, 305, 294, ...   \n",
      "4059  [50, 50, 43, 43, 43, 43, 44, 44, 45, 45, 47, 4...   \n",
      "4060  [271, 271, 255, 255, 255, 255, 252, 252, 237, ...   \n",
      "4061  [173, 173, 183, 183, 198, 198, 200, 200, 199, ...   \n",
      "\n",
      "                                            temperature  \\\n",
      "3613  [6.32, 6.32, 6.24, 6.24, 5.88, 5.88, 5.81, 5.8...   \n",
      "3614  [12.12, 12.12, 12.59, 12.59, 12.45, 12.45, 12....   \n",
      "3615  [12.12, 12.12, 12.59, 12.59, 12.45, 12.45, 12....   \n",
      "3616  [12.12, 12.12, 12.59, 12.59, 12.45, 12.45, 12....   \n",
      "3617  [12.12, 12.12, 12.59, 12.59, 12.45, 12.45, 12....   \n",
      "...                                                 ...   \n",
      "4057  [6.12, 6.12, 5.15, 5.15, 4.71, 4.71, 4.67, 4.6...   \n",
      "4058  [8.63, 8.63, 8.06, 8.06, 7.44, 7.44, 6.81, 6.8...   \n",
      "4059  [7.34, 7.34, 7.32, 7.32, 7.34, 7.34, 6.91, 6.9...   \n",
      "4060  [2.88, 2.88, 2.0, 2.0, 1.94, 1.94, 2.09, 2.09,...   \n",
      "4061  [14.78, 14.78, 14.33, 14.33, 13.46, 13.46, 13....   \n",
      "\n",
      "                                               dewPoint  \\\n",
      "3613  [3.03, 3.03, 2.72, 2.72, 2.98, 2.98, 2.99, 2.9...   \n",
      "3614  [10.97, 10.97, 11.02, 11.02, 11.04, 11.04, 10....   \n",
      "3615  [10.97, 10.97, 11.02, 11.02, 11.04, 11.04, 10....   \n",
      "3616  [10.97, 10.97, 11.02, 11.02, 11.04, 11.04, 10....   \n",
      "3617  [10.97, 10.97, 11.02, 11.02, 11.04, 11.04, 10....   \n",
      "...                                                 ...   \n",
      "4057  [1.94, 1.94, 1.98, 1.98, 1.98, 1.98, 2.88, 2.8...   \n",
      "4058  [3.63, 3.63, 3.6, 3.6, 4.3, 4.3, 3.74, 3.74, 3...   \n",
      "4059  [5.2, 5.2, 5.23, 5.23, 4.86, 4.86, 4.94, 4.94,...   \n",
      "4060  [1.61, 1.61, 1.16, 1.16, 1.17, 1.17, 1.51, 1.5...   \n",
      "4061  [12.91, 12.91, 12.48, 12.48, 12.39, 12.39, 12....   \n",
      "\n",
      "                                               pressure  \\\n",
      "3613  [1011.83, 1011.83, 1011.81, 1011.81, 1011.72, ...   \n",
      "3614  [1008.1, 1008.1, 1007.88, 1007.88, 1007.95, 10...   \n",
      "3615  [1008.1, 1008.1, 1007.88, 1007.88, 1007.95, 10...   \n",
      "3616  [1008.1, 1008.1, 1007.88, 1007.88, 1007.95, 10...   \n",
      "3617  [1008.1, 1008.1, 1007.88, 1007.88, 1007.95, 10...   \n",
      "...                                                 ...   \n",
      "4057  [1034.99, 1034.99, 1034.99, 1034.99, 1035.09, ...   \n",
      "4058  [1006.38, 1006.38, 1006.11, 1006.11, 1005.69, ...   \n",
      "4059  [1015.87, 1015.87, 1016.08, 1016.08, 1016.23, ...   \n",
      "4060  [1021.42, 1021.42, 1021.7, 1021.7, 1021.84, 10...   \n",
      "4061  [1017.72, 1017.72, 1017.58, 1017.58, 1017.55, ...   \n",
      "\n",
      "                                    apparentTemperature  \\\n",
      "3613  [3.66, 3.66, 3.67, 3.67, 3.37, 3.37, 3.24, 3.2...   \n",
      "3614  [12.12, 12.12, 12.59, 12.59, 12.45, 12.45, 12....   \n",
      "3615  [12.12, 12.12, 12.59, 12.59, 12.45, 12.45, 12....   \n",
      "3616  [12.12, 12.12, 12.59, 12.59, 12.45, 12.45, 12....   \n",
      "3617  [12.12, 12.12, 12.59, 12.59, 12.45, 12.45, 12....   \n",
      "...                                                 ...   \n",
      "4057  [3.86, 3.86, 3.07, 3.07, 2.41, 2.41, 2.61, 2.6...   \n",
      "4058  [8.63, 8.63, 8.06, 8.06, 7.44, 7.44, 6.81, 6.8...   \n",
      "4059  [4.54, 4.54, 4.61, 4.61, 4.43, 4.43, 3.73, 3.7...   \n",
      "4060  [0.54, 0.54, -0.55, -0.55, -1.04, -1.04, -0.37...   \n",
      "4061  [14.78, 14.78, 14.33, 14.33, 13.46, 13.46, 13....   \n",
      "\n",
      "                                              windSpeed  \\\n",
      "3613  [3.69, 3.69, 3.51, 3.51, 3.29, 3.29, 3.36, 3.3...   \n",
      "3614  [5.9, 5.9, 6.06, 6.06, 5.31, 5.31, 4.68, 4.68,...   \n",
      "3615  [5.9, 5.9, 6.06, 6.06, 5.31, 5.31, 4.68, 4.68,...   \n",
      "3616  [5.9, 5.9, 6.06, 6.06, 5.31, 5.31, 4.68, 4.68,...   \n",
      "3617  [5.9, 5.9, 6.06, 6.06, 5.31, 5.31, 4.68, 4.68,...   \n",
      "...                                                 ...   \n",
      "4057  [2.99, 2.99, 2.51, 2.51, 2.67, 2.67, 2.38, 2.3...   \n",
      "4058  [0.86, 0.86, 1.22, 1.22, 1.16, 1.16, 1.26, 1.2...   \n",
      "4059  [4.39, 4.39, 4.2, 4.2, 4.64, 4.64, 4.98, 4.98,...   \n",
      "4060  [2.34, 2.34, 2.4, 2.4, 2.86, 2.86, 2.33, 2.33,...   \n",
      "4061  [1.91, 1.91, 1.94, 1.94, 2.06, 2.06, 2.07, 2.0...   \n",
      "\n",
      "                                             precipType  \\\n",
      "3613  [rain, rain, rain, rain, rain, rain, rain, rai...   \n",
      "3614  [rain, rain, rain, rain, rain, rain, rain, rai...   \n",
      "3615  [rain, rain, rain, rain, rain, rain, rain, rai...   \n",
      "3616  [rain, rain, rain, rain, rain, rain, rain, rai...   \n",
      "3617  [rain, rain, rain, rain, rain, rain, rain, rai...   \n",
      "...                                                 ...   \n",
      "4057  [rain, rain, rain, rain, rain, rain, rain, rai...   \n",
      "4058  [rain, rain, rain, rain, rain, rain, rain, rai...   \n",
      "4059  [rain, rain, rain, rain, rain, rain, rain, rai...   \n",
      "4060  [rain, rain, rain, rain, rain, rain, rain, rai...   \n",
      "4061  [rain, rain, rain, rain, rain, rain, rain, rai...   \n",
      "\n",
      "                                                   icon  \\\n",
      "3613  [cloudy, cloudy, cloudy, cloudy, cloudy, cloud...   \n",
      "3614  [partly-cloudy-night, partly-cloudy-night, clo...   \n",
      "3615  [partly-cloudy-night, partly-cloudy-night, clo...   \n",
      "3616  [partly-cloudy-night, partly-cloudy-night, clo...   \n",
      "3617  [partly-cloudy-night, partly-cloudy-night, clo...   \n",
      "...                                                 ...   \n",
      "4057  [clear-night, clear-night, clear-night, clear-...   \n",
      "4058  [clear-night, clear-night, clear-night, clear-...   \n",
      "4059  [partly-cloudy-night, partly-cloudy-night, par...   \n",
      "4060  [clear-night, clear-night, clear-night, clear-...   \n",
      "4061  [partly-cloudy-night, partly-cloudy-night, par...   \n",
      "\n",
      "                                               humidity  \\\n",
      "3613  [0.79, 0.79, 0.78, 0.78, 0.82, 0.82, 0.82, 0.8...   \n",
      "3614  [0.93, 0.93, 0.9, 0.9, 0.91, 0.91, 0.93, 0.93,...   \n",
      "3615  [0.93, 0.93, 0.9, 0.9, 0.91, 0.91, 0.93, 0.93,...   \n",
      "3616  [0.93, 0.93, 0.9, 0.9, 0.91, 0.91, 0.93, 0.93,...   \n",
      "3617  [0.93, 0.93, 0.9, 0.9, 0.91, 0.91, 0.93, 0.93,...   \n",
      "...                                                 ...   \n",
      "4057  [0.75, 0.75, 0.8, 0.8, 0.82, 0.82, 0.88, 0.88,...   \n",
      "4058  [0.71, 0.71, 0.73, 0.73, 0.8, 0.8, 0.81, 0.81,...   \n",
      "4059  [0.86, 0.86, 0.87, 0.87, 0.84, 0.84, 0.87, 0.8...   \n",
      "4060  [0.91, 0.91, 0.94, 0.94, 0.95, 0.95, 0.96, 0.9...   \n",
      "4061  [0.89, 0.89, 0.89, 0.89, 0.93, 0.93, 0.92, 0.9...   \n",
      "\n",
      "                                                summary  \n",
      "3613  [Overcast, Overcast, Overcast, Overcast, Overc...  \n",
      "3614  [Mostly Cloudy, Mostly Cloudy, Overcast, Overc...  \n",
      "3615  [Mostly Cloudy, Mostly Cloudy, Overcast, Overc...  \n",
      "3616  [Mostly Cloudy, Mostly Cloudy, Overcast, Overc...  \n",
      "3617  [Mostly Cloudy, Mostly Cloudy, Overcast, Overc...  \n",
      "...                                                 ...  \n",
      "4057  [Clear, Clear, Clear, Clear, Clear, Clear, Par...  \n",
      "4058  [Clear, Clear, Clear, Clear, Clear, Clear, Cle...  \n",
      "4059  [Mostly Cloudy, Mostly Cloudy, Mostly Cloudy, ...  \n",
      "4060  [Clear, Clear, Clear, Clear, Clear, Clear, Cle...  \n",
      "4061  [Partly Cloudy, Partly Cloudy, Partly Cloudy, ...  \n",
      "\n",
      "[399 rows x 21 columns]\n",
      "block_64-71\n",
      "          LCLid start_timestamp frequency  \\\n",
      "4062  MAC000020      2012-01-01     30min   \n",
      "4063  MAC000108      2012-01-01     30min   \n",
      "4064  MAC000520      2012-03-28     30min   \n",
      "4065  MAC000584      2012-04-13     30min   \n",
      "4066  MAC000620      2012-04-13     30min   \n",
      "...         ...             ...       ...   \n",
      "4456  MAC003862      2012-10-26     30min   \n",
      "4457  MAC003890      2012-10-27     30min   \n",
      "4458  MAC003911      2012-10-27     30min   \n",
      "4459  MAC003919      2012-10-27     30min   \n",
      "4460  MAC005561      2012-08-04     30min   \n",
      "\n",
      "                                     energy_consumption  series_length  \\\n",
      "4062  [0.053, 0.067, 0.061, 0.052, 0.073, 0.051, 0.0...          37872   \n",
      "4063  [0.006, 0.0069999999999999, 0.006, 0.027, 0.08...          37872   \n",
      "4064  [0.07, 0.111, 0.083, 0.107, 0.089, 0.131, 0.09...          33696   \n",
      "4065  [0.0139999999999999, 0.022, 0.03, 0.011, 0.015...          32928   \n",
      "4066  [0.166, 0.159, 0.163, 0.141, 0.159, 0.128, 0.1...          32928   \n",
      "...                                                 ...            ...   \n",
      "4456  [0.415, 0.038, 0.05, 0.038, 0.039, 0.04, 0.033...          23520   \n",
      "4457  [0.086, 0.052, 0.067, 0.077, 0.102, 0.074, 0.0...          23472   \n",
      "4458  [0.282, 0.182, 0.077, 0.077, 0.084, 0.08, 0.13...          23472   \n",
      "4459  [0.102, 0.059, 0.054, 0.051, 0.053, 0.057, 0.0...          23472   \n",
      "4460  [0.075, 0.0969999999999999, 0.057, 0.095, 0.09...          27504   \n",
      "\n",
      "     stdorToU    Acorn Acorn_grouped      file  \\\n",
      "4062      Std  ACORN-J   Comfortable  block_72   \n",
      "4063      Std  ACORN-J   Comfortable  block_72   \n",
      "4064      Std  ACORN-J   Comfortable  block_72   \n",
      "4065      ToU  ACORN-J   Comfortable  block_72   \n",
      "4066      ToU  ACORN-J   Comfortable  block_72   \n",
      "...       ...      ...           ...       ...   \n",
      "4456      ToU  ACORN-L     Adversity  block_79   \n",
      "4457      ToU  ACORN-L     Adversity  block_79   \n",
      "4458      ToU  ACORN-L     Adversity  block_79   \n",
      "4459      ToU  ACORN-L     Adversity  block_79   \n",
      "4460      Std  ACORN-L     Adversity  block_79   \n",
      "\n",
      "                                               holidays  ...  \\\n",
      "4062  [NO_HOLIDAY, NO_HOLIDAY, NO_HOLIDAY, NO_HOLIDA...  ...   \n",
      "4063  [NO_HOLIDAY, NO_HOLIDAY, NO_HOLIDAY, NO_HOLIDA...  ...   \n",
      "4064  [NO_HOLIDAY, NO_HOLIDAY, NO_HOLIDAY, NO_HOLIDA...  ...   \n",
      "4065  [NO_HOLIDAY, NO_HOLIDAY, NO_HOLIDAY, NO_HOLIDA...  ...   \n",
      "4066  [NO_HOLIDAY, NO_HOLIDAY, NO_HOLIDAY, NO_HOLIDA...  ...   \n",
      "...                                                 ...  ...   \n",
      "4456  [NO_HOLIDAY, NO_HOLIDAY, NO_HOLIDAY, NO_HOLIDA...  ...   \n",
      "4457  [NO_HOLIDAY, NO_HOLIDAY, NO_HOLIDAY, NO_HOLIDA...  ...   \n",
      "4458  [NO_HOLIDAY, NO_HOLIDAY, NO_HOLIDAY, NO_HOLIDA...  ...   \n",
      "4459  [NO_HOLIDAY, NO_HOLIDAY, NO_HOLIDAY, NO_HOLIDA...  ...   \n",
      "4460  [NO_HOLIDAY, NO_HOLIDAY, NO_HOLIDAY, NO_HOLIDA...  ...   \n",
      "\n",
      "                                            windBearing  \\\n",
      "4062  [229, 229, 238, 238, 229, 229, 231, 231, 227, ...   \n",
      "4063  [229, 229, 238, 238, 229, 229, 231, 231, 227, ...   \n",
      "4064  [91, 91, 101, 101, 9, 9, 358, 358, 321, 321, 3...   \n",
      "4065  [307, 307, 329, 329, 326, 326, 314, 314, 312, ...   \n",
      "4066  [307, 307, 329, 329, 326, 326, 314, 314, 312, ...   \n",
      "...                                                 ...   \n",
      "4456  [47, 47, 48, 48, 50, 50, 49, 49, 46, 46, 44, 4...   \n",
      "4457  [350, 350, 349, 349, 347, 347, 351, 351, 352, ...   \n",
      "4458  [350, 350, 349, 349, 347, 347, 351, 351, 352, ...   \n",
      "4459  [350, 350, 349, 349, 347, 347, 351, 351, 352, ...   \n",
      "4460  [179, 179, 180, 180, 176, 176, 158, 158, 158, ...   \n",
      "\n",
      "                                            temperature  \\\n",
      "4062  [12.12, 12.12, 12.59, 12.59, 12.45, 12.45, 12....   \n",
      "4063  [12.12, 12.12, 12.59, 12.59, 12.45, 12.45, 12....   \n",
      "4064  [7.95, 7.95, 7.09, 7.09, 6.48, 6.48, 5.79, 5.7...   \n",
      "4065  [6.73, 6.73, 6.45, 6.45, 5.59, 5.59, 5.39, 5.3...   \n",
      "4066  [6.73, 6.73, 6.45, 6.45, 5.59, 5.59, 5.39, 5.3...   \n",
      "...                                                 ...   \n",
      "4456  [9.74, 9.74, 9.71, 9.71, 9.64, 9.64, 9.14, 9.1...   \n",
      "4457  [3.46, 3.46, 3.38, 3.38, 2.92, 2.92, 2.49, 2.4...   \n",
      "4458  [3.46, 3.46, 3.38, 3.38, 2.92, 2.92, 2.49, 2.4...   \n",
      "4459  [3.46, 3.46, 3.38, 3.38, 2.92, 2.92, 2.49, 2.4...   \n",
      "4460  [14.59, 14.59, 14.64, 14.64, 14.36, 14.36, 15....   \n",
      "\n",
      "                                               dewPoint  \\\n",
      "4062  [10.97, 10.97, 11.02, 11.02, 11.04, 11.04, 10....   \n",
      "4063  [10.97, 10.97, 11.02, 11.02, 11.04, 11.04, 10....   \n",
      "4064  [-0.09, -0.09, 0.18, 0.18, 0.59, 0.59, 0.82, 0...   \n",
      "4065  [4.85, 4.85, 4.72, 4.72, 4.29, 4.29, 4.06, 4.0...   \n",
      "4066  [4.85, 4.85, 4.72, 4.72, 4.29, 4.29, 4.06, 4.0...   \n",
      "...                                                 ...   \n",
      "4456  [6.08, 6.08, 6.0, 6.0, 5.53, 5.53, 6.07, 6.07,...   \n",
      "4457  [0.31, 0.31, -0.13, -0.13, -0.54, -0.54, -0.54...   \n",
      "4458  [0.31, 0.31, -0.13, -0.13, -0.54, -0.54, -0.54...   \n",
      "4459  [0.31, 0.31, -0.13, -0.13, -0.54, -0.54, -0.54...   \n",
      "4460  [12.38, 12.38, 12.41, 12.41, 12.56, 12.56, 13....   \n",
      "\n",
      "                                               pressure  \\\n",
      "4062  [1008.1, 1008.1, 1007.88, 1007.88, 1007.95, 10...   \n",
      "4063  [1008.1, 1008.1, 1007.88, 1007.88, 1007.95, 10...   \n",
      "4064  [1035.05, 1035.05, 1034.93, 1034.93, 1034.58, ...   \n",
      "4065  [1005.05, 1005.05, 1005.0, 1005.0, 1004.86, 10...   \n",
      "4066  [1005.05, 1005.05, 1005.0, 1005.0, 1004.86, 10...   \n",
      "...                                                 ...   \n",
      "4456  [1015.6, 1015.6, 1015.41, 1015.41, 1015.04, 10...   \n",
      "4457  [1011.61, 1011.61, 1011.5, 1011.5, 1011.69, 10...   \n",
      "4458  [1011.61, 1011.61, 1011.5, 1011.5, 1011.69, 10...   \n",
      "4459  [1011.61, 1011.61, 1011.5, 1011.5, 1011.69, 10...   \n",
      "4460  [1012.21, 1012.21, 1011.63, 1011.63, 1011.39, ...   \n",
      "\n",
      "                                    apparentTemperature  \\\n",
      "4062  [12.12, 12.12, 12.59, 12.59, 12.45, 12.45, 12....   \n",
      "4063  [12.12, 12.12, 12.59, 12.59, 12.45, 12.45, 12....   \n",
      "4064  [7.95, 7.95, 7.09, 7.09, 6.48, 6.48, 5.79, 5.7...   \n",
      "4065  [6.73, 6.73, 6.45, 6.45, 5.59, 5.59, 5.39, 5.3...   \n",
      "4066  [6.73, 6.73, 6.45, 6.45, 5.59, 5.59, 5.39, 5.3...   \n",
      "...                                                 ...   \n",
      "4456  [6.91, 6.91, 6.99, 6.99, 6.95, 6.95, 6.46, 6.4...   \n",
      "4457  [-1.16, -1.16, -1.36, -1.36, -2.15, -2.15, -2....   \n",
      "4458  [-1.16, -1.16, -1.36, -1.36, -2.15, -2.15, -2....   \n",
      "4459  [-1.16, -1.16, -1.36, -1.36, -2.15, -2.15, -2....   \n",
      "4460  [14.59, 14.59, 14.64, 14.64, 14.36, 14.36, 15....   \n",
      "\n",
      "                                              windSpeed  \\\n",
      "4062  [5.9, 5.9, 6.06, 6.06, 5.31, 5.31, 4.68, 4.68,...   \n",
      "4063  [5.9, 5.9, 6.06, 6.06, 5.31, 5.31, 4.68, 4.68,...   \n",
      "4064  [0.91, 0.91, 0.44, 0.44, 0.41, 0.41, 0.77, 0.7...   \n",
      "4065  [0.76, 0.76, 0.64, 0.64, 0.81, 0.81, 0.8, 0.8,...   \n",
      "4066  [0.76, 0.76, 0.64, 0.64, 0.81, 0.81, 0.8, 0.8,...   \n",
      "...                                                 ...   \n",
      "4456  [6.01, 6.01, 5.63, 5.63, 5.53, 5.53, 5.14, 5.1...   \n",
      "4457  [6.23, 6.23, 6.49, 6.49, 6.97, 6.97, 6.63, 6.6...   \n",
      "4458  [6.23, 6.23, 6.49, 6.49, 6.97, 6.97, 6.63, 6.6...   \n",
      "4459  [6.23, 6.23, 6.49, 6.49, 6.97, 6.97, 6.63, 6.6...   \n",
      "4460  [3.0, 3.0, 2.81, 2.81, 2.85, 2.85, 1.9, 1.9, 2...   \n",
      "\n",
      "                                             precipType  \\\n",
      "4062  [rain, rain, rain, rain, rain, rain, rain, rai...   \n",
      "4063  [rain, rain, rain, rain, rain, rain, rain, rai...   \n",
      "4064  [rain, rain, rain, rain, rain, rain, rain, rai...   \n",
      "4065  [rain, rain, rain, rain, rain, rain, rain, rai...   \n",
      "4066  [rain, rain, rain, rain, rain, rain, rain, rai...   \n",
      "...                                                 ...   \n",
      "4456  [rain, rain, rain, rain, rain, rain, rain, rai...   \n",
      "4457  [rain, rain, rain, rain, rain, rain, rain, rai...   \n",
      "4458  [rain, rain, rain, rain, rain, rain, rain, rai...   \n",
      "4459  [rain, rain, rain, rain, rain, rain, rain, rai...   \n",
      "4460  [rain, rain, rain, rain, rain, rain, rain, rai...   \n",
      "\n",
      "                                                   icon  \\\n",
      "4062  [partly-cloudy-night, partly-cloudy-night, clo...   \n",
      "4063  [partly-cloudy-night, partly-cloudy-night, clo...   \n",
      "4064  [clear-night, clear-night, clear-night, clear-...   \n",
      "4065  [partly-cloudy-night, partly-cloudy-night, cle...   \n",
      "4066  [partly-cloudy-night, partly-cloudy-night, cle...   \n",
      "...                                                 ...   \n",
      "4456  [partly-cloudy-night, partly-cloudy-night, par...   \n",
      "4457  [partly-cloudy-night, partly-cloudy-night, par...   \n",
      "4458  [partly-cloudy-night, partly-cloudy-night, par...   \n",
      "4459  [partly-cloudy-night, partly-cloudy-night, par...   \n",
      "4460  [partly-cloudy-night, partly-cloudy-night, par...   \n",
      "\n",
      "                                               humidity  \\\n",
      "4062  [0.93, 0.93, 0.9, 0.9, 0.91, 0.91, 0.93, 0.93,...   \n",
      "4063  [0.93, 0.93, 0.9, 0.9, 0.91, 0.91, 0.93, 0.93,...   \n",
      "4064  [0.57, 0.57, 0.61, 0.61, 0.66, 0.66, 0.7, 0.7,...   \n",
      "4065  [0.88, 0.88, 0.89, 0.89, 0.91, 0.91, 0.91, 0.9...   \n",
      "4066  [0.88, 0.88, 0.89, 0.89, 0.91, 0.91, 0.91, 0.9...   \n",
      "...                                                 ...   \n",
      "4456  [0.78, 0.78, 0.78, 0.78, 0.76, 0.76, 0.81, 0.8...   \n",
      "4457  [0.8, 0.8, 0.78, 0.78, 0.78, 0.78, 0.8, 0.8, 0...   \n",
      "4458  [0.8, 0.8, 0.78, 0.78, 0.78, 0.78, 0.8, 0.8, 0...   \n",
      "4459  [0.8, 0.8, 0.78, 0.78, 0.78, 0.78, 0.8, 0.8, 0...   \n",
      "4460  [0.87, 0.87, 0.86, 0.86, 0.89, 0.89, 0.89, 0.8...   \n",
      "\n",
      "                                                summary  \n",
      "4062  [Mostly Cloudy, Mostly Cloudy, Overcast, Overc...  \n",
      "4063  [Mostly Cloudy, Mostly Cloudy, Overcast, Overc...  \n",
      "4064  [Clear, Clear, Clear, Clear, Clear, Clear, Cle...  \n",
      "4065  [Partly Cloudy, Partly Cloudy, Clear, Clear, C...  \n",
      "4066  [Partly Cloudy, Partly Cloudy, Clear, Clear, C...  \n",
      "...                                                 ...  \n",
      "4456  [Partly Cloudy, Partly Cloudy, Partly Cloudy, ...  \n",
      "4457  [Partly Cloudy, Partly Cloudy, Partly Cloudy, ...  \n",
      "4458  [Partly Cloudy, Partly Cloudy, Partly Cloudy, ...  \n",
      "4459  [Partly Cloudy, Partly Cloudy, Partly Cloudy, ...  \n",
      "4460  [Partly Cloudy, Partly Cloudy, Partly Cloudy, ...  \n",
      "\n",
      "[399 rows x 21 columns]\n",
      "block_72-79\n",
      "          LCLid start_timestamp frequency  \\\n",
      "4511  MAC000038      2012-01-01     30min   \n",
      "4512  MAC000559      2012-04-12     30min   \n",
      "4513  MAC000680      2012-04-19     30min   \n",
      "4514  MAC000712      2012-04-20     30min   \n",
      "4515  MAC000790      2012-04-21     30min   \n",
      "...         ...             ...       ...   \n",
      "4906  MAC005046      2012-02-02     30min   \n",
      "4907  MAC005054      2012-05-30     30min   \n",
      "4908  MAC005085      2012-05-31     30min   \n",
      "4909  MAC005096      2012-05-31     30min   \n",
      "4910  MAC005125      2012-06-01     30min   \n",
      "\n",
      "                                     energy_consumption  series_length  \\\n",
      "4511  [0.278, 0.321, 0.286, 0.273, 0.161, 0.09, 0.06...          37872   \n",
      "4512  [0.228, 0.22, 0.231, 0.201, 0.207, 0.216, 0.12...          32976   \n",
      "4513  [0.033, 0.042, 0.033, 0.042, 0.032, 0.071, 0.0...          32640   \n",
      "4514  [0.026, 0.018, 0.031, 0.03, 0.032, 0.02, 0.027...          32592   \n",
      "4515  [0.047, 0.046, 0.045, 0.038, 0.040999999999999...          32544   \n",
      "...                                                 ...            ...   \n",
      "4906  [0.061, 0.057, 0.051, 0.05, 0.051, 0.051, 0.05...          36336   \n",
      "4907  [0.111, 0.121, 0.108, 0.1159999999999999, 0.11...          30672   \n",
      "4908  [0.046, 0.047, 0.046, 0.046, 0.047, 0.046, 0.0...          30624   \n",
      "4909  [0.111, 0.122, 0.125, 0.102, 0.126, 0.121, 0.1...          30624   \n",
      "4910  [0.051, 0.054, 0.017, 0.049, 0.036, 0.035, 0.0...          30576   \n",
      "\n",
      "     stdorToU    Acorn Acorn_grouped      file  \\\n",
      "4511      Std  ACORN-L     Adversity  block_80   \n",
      "4512      Std  ACORN-L     Adversity  block_80   \n",
      "4513      ToU  ACORN-L     Adversity  block_80   \n",
      "4514      Std  ACORN-L     Adversity  block_80   \n",
      "4515      Std  ACORN-L     Adversity  block_80   \n",
      "...       ...      ...           ...       ...   \n",
      "4906      Std  ACORN-N     Adversity  block_87   \n",
      "4907      Std  ACORN-N     Adversity  block_87   \n",
      "4908      ToU  ACORN-N     Adversity  block_87   \n",
      "4909      Std  ACORN-N     Adversity  block_87   \n",
      "4910      Std  ACORN-N     Adversity  block_87   \n",
      "\n",
      "                                               holidays  ...  \\\n",
      "4511  [NO_HOLIDAY, NO_HOLIDAY, NO_HOLIDAY, NO_HOLIDA...  ...   \n",
      "4512  [NO_HOLIDAY, NO_HOLIDAY, NO_HOLIDAY, NO_HOLIDA...  ...   \n",
      "4513  [NO_HOLIDAY, NO_HOLIDAY, NO_HOLIDAY, NO_HOLIDA...  ...   \n",
      "4514  [NO_HOLIDAY, NO_HOLIDAY, NO_HOLIDAY, NO_HOLIDA...  ...   \n",
      "4515  [NO_HOLIDAY, NO_HOLIDAY, NO_HOLIDAY, NO_HOLIDA...  ...   \n",
      "...                                                 ...  ...   \n",
      "4906  [NO_HOLIDAY, NO_HOLIDAY, NO_HOLIDAY, NO_HOLIDA...  ...   \n",
      "4907  [NO_HOLIDAY, NO_HOLIDAY, NO_HOLIDAY, NO_HOLIDA...  ...   \n",
      "4908  [NO_HOLIDAY, NO_HOLIDAY, NO_HOLIDAY, NO_HOLIDA...  ...   \n",
      "4909  [NO_HOLIDAY, NO_HOLIDAY, NO_HOLIDAY, NO_HOLIDA...  ...   \n",
      "4910  [NO_HOLIDAY, NO_HOLIDAY, NO_HOLIDAY, NO_HOLIDA...  ...   \n",
      "\n",
      "                                            windBearing  \\\n",
      "4511  [229, 229, 238, 238, 229, 229, 231, 231, 227, ...   \n",
      "4512  [287, 287, 283, 283, 275, 275, 263, 263, 256, ...   \n",
      "4513  [254, 254, 252, 252, 252, 252, 256, 256, 260, ...   \n",
      "4514  [264, 264, 262, 262, 258, 258, 256, 256, 256, ...   \n",
      "4515  [251, 251, 251, 251, 246, 246, 242, 242, 244, ...   \n",
      "...                                                 ...   \n",
      "4906  [41, 41, 36, 36, 32, 32, 33, 33, 37, 37, 43, 4...   \n",
      "4907  [173, 173, 183, 183, 198, 198, 200, 200, 199, ...   \n",
      "4908  [252, 252, 254, 254, 259, 259, 265, 265, 268, ...   \n",
      "4909  [252, 252, 254, 254, 259, 259, 265, 265, 268, ...   \n",
      "4910  [269, 269, 270, 270, 267, 267, 278, 278, 283, ...   \n",
      "\n",
      "                                            temperature  \\\n",
      "4511  [12.12, 12.12, 12.59, 12.59, 12.45, 12.45, 12....   \n",
      "4512  [6.74, 6.74, 5.77, 5.77, 4.51, 4.51, 4.42, 4.4...   \n",
      "4513  [7.55, 7.55, 7.51, 7.51, 7.03, 7.03, 6.98, 6.9...   \n",
      "4514  [7.42, 7.42, 7.02, 7.02, 6.6, 6.6, 6.41, 6.41,...   \n",
      "4515  [6.42, 6.42, 6.2, 6.2, 5.68, 5.68, 5.16, 5.16,...   \n",
      "...                                                 ...   \n",
      "4906  [-0.92, -0.92, -0.99, -0.99, -1.13, -1.13, -1....   \n",
      "4907  [14.78, 14.78, 14.33, 14.33, 13.46, 13.46, 13....   \n",
      "4908  [15.78, 15.78, 14.99, 14.99, 14.52, 14.52, 14....   \n",
      "4909  [15.78, 15.78, 14.99, 14.99, 14.52, 14.52, 14....   \n",
      "4910  [15.43, 15.43, 14.53, 14.53, 13.98, 13.98, 14....   \n",
      "\n",
      "                                               dewPoint  \\\n",
      "4511  [10.97, 10.97, 11.02, 11.02, 11.04, 11.04, 10....   \n",
      "4512  [3.57, 3.57, 3.41, 3.41, 3.05, 3.05, 3.34, 3.3...   \n",
      "4513  [6.88, 6.88, 6.43, 6.43, 6.38, 6.38, 6.3, 6.3,...   \n",
      "4514  [6.28, 6.28, 5.42, 5.42, 5.41, 5.41, 5.27, 5.2...   \n",
      "4515  [3.54, 3.54, 3.61, 3.61, 3.52, 3.52, 3.11, 3.1...   \n",
      "...                                                 ...   \n",
      "4906  [-7.09, -7.09, -7.12, -7.12, -7.11, -7.11, -7....   \n",
      "4907  [12.91, 12.91, 12.48, 12.48, 12.39, 12.39, 12....   \n",
      "4908  [13.08, 13.08, 12.93, 12.93, 12.02, 12.02, 12....   \n",
      "4909  [13.08, 13.08, 12.93, 12.93, 12.02, 12.02, 12....   \n",
      "4910  [12.67, 12.67, 12.62, 12.62, 12.56, 12.56, 12....   \n",
      "\n",
      "                                               pressure  \\\n",
      "4511  [1008.1, 1008.1, 1007.88, 1007.88, 1007.95, 10...   \n",
      "4512  [1001.59, 1001.59, 1001.65, 1001.65, 1001.64, ...   \n",
      "4513  [979.34, 979.34, 979.73, 979.73, 979.98, 979.9...   \n",
      "4514  [990.77, 990.77, 991.06, 991.06, 991.28, 991.2...   \n",
      "4515  [994.96, 994.96, 994.98, 994.98, 994.82, 994.8...   \n",
      "...                                                 ...   \n",
      "4906  [1035.02, 1035.02, 1034.76, 1034.76, 1034.85, ...   \n",
      "4907  [1017.72, 1017.72, 1017.58, 1017.58, 1017.55, ...   \n",
      "4908  [1018.67, 1018.67, 1018.64, 1018.64, 1018.72, ...   \n",
      "4909  [1018.67, 1018.67, 1018.64, 1018.64, 1018.72, ...   \n",
      "4910  [1019.23, 1019.23, 1019.03, 1019.03, 1019.03, ...   \n",
      "\n",
      "                                    apparentTemperature  \\\n",
      "4511  [12.12, 12.12, 12.59, 12.59, 12.45, 12.45, 12....   \n",
      "4512  [5.55, 5.55, 4.25, 4.25, 3.46, 3.46, 3.33, 3.3...   \n",
      "4513  [4.83, 4.83, 4.69, 4.69, 4.03, 4.03, 4.06, 4.0...   \n",
      "4514  [5.12, 5.12, 4.62, 4.62, 4.27, 4.27, 4.13, 4.1...   \n",
      "4515  [3.79, 3.79, 3.67, 3.67, 3.15, 3.15, 2.61, 2.6...   \n",
      "...                                                 ...   \n",
      "4906  [-5.9, -5.9, -5.66, -5.66, -5.86, -5.86, -6.37...   \n",
      "4907  [14.78, 14.78, 14.33, 14.33, 13.46, 13.46, 13....   \n",
      "4908  [15.78, 15.78, 14.99, 14.99, 14.52, 14.52, 14....   \n",
      "4909  [15.78, 15.78, 14.99, 14.99, 14.52, 14.52, 14....   \n",
      "4910  [15.43, 15.43, 14.53, 14.53, 13.98, 13.98, 14....   \n",
      "\n",
      "                                              windSpeed  \\\n",
      "4511  [5.9, 5.9, 6.06, 6.06, 5.31, 5.31, 4.68, 4.68,...   \n",
      "4512  [1.85, 1.85, 2.02, 2.02, 1.45, 1.45, 1.47, 1.4...   \n",
      "4513  [4.34, 4.34, 4.51, 4.51, 4.67, 4.67, 4.48, 4.4...   \n",
      "4514  [3.49, 3.49, 3.51, 3.51, 3.24, 3.24, 3.09, 3.0...   \n",
      "4515  [3.64, 3.64, 3.42, 3.42, 3.25, 3.25, 3.13, 3.1...   \n",
      "...                                                 ...   \n",
      "4906  [4.73, 4.73, 4.22, 4.22, 4.27, 4.27, 4.3, 4.3,...   \n",
      "4907  [1.91, 1.91, 1.94, 1.94, 2.06, 2.06, 2.07, 2.0...   \n",
      "4908  [3.56, 3.56, 3.18, 3.18, 3.55, 3.55, 3.33, 3.3...   \n",
      "4909  [3.56, 3.56, 3.18, 3.18, 3.55, 3.55, 3.33, 3.3...   \n",
      "4910  [2.85, 2.85, 2.38, 2.38, 2.1, 2.1, 2.15, 2.15,...   \n",
      "\n",
      "                                             precipType  \\\n",
      "4511  [rain, rain, rain, rain, rain, rain, rain, rai...   \n",
      "4512  [rain, rain, rain, rain, rain, rain, rain, rai...   \n",
      "4513  [rain, rain, rain, rain, rain, rain, rain, rai...   \n",
      "4514  [rain, rain, rain, rain, rain, rain, rain, rai...   \n",
      "4515  [rain, rain, rain, rain, rain, rain, rain, rai...   \n",
      "...                                                 ...   \n",
      "4906  [snow, snow, snow, snow, snow, snow, snow, sno...   \n",
      "4907  [rain, rain, rain, rain, rain, rain, rain, rai...   \n",
      "4908  [rain, rain, rain, rain, rain, rain, rain, rai...   \n",
      "4909  [rain, rain, rain, rain, rain, rain, rain, rai...   \n",
      "4910  [rain, rain, rain, rain, rain, rain, rain, rai...   \n",
      "\n",
      "                                                   icon  \\\n",
      "4511  [partly-cloudy-night, partly-cloudy-night, clo...   \n",
      "4512  [clear-night, clear-night, clear-night, clear-...   \n",
      "4513  [partly-cloudy-night, partly-cloudy-night, par...   \n",
      "4514  [partly-cloudy-night, partly-cloudy-night, par...   \n",
      "4515  [partly-cloudy-night, partly-cloudy-night, par...   \n",
      "...                                                 ...   \n",
      "4906  [partly-cloudy-night, partly-cloudy-night, cle...   \n",
      "4907  [partly-cloudy-night, partly-cloudy-night, par...   \n",
      "4908  [partly-cloudy-night, partly-cloudy-night, cle...   \n",
      "4909  [partly-cloudy-night, partly-cloudy-night, cle...   \n",
      "4910  [partly-cloudy-night, partly-cloudy-night, par...   \n",
      "\n",
      "                                               humidity  \\\n",
      "4511  [0.93, 0.93, 0.9, 0.9, 0.91, 0.91, 0.93, 0.93,...   \n",
      "4512  [0.8, 0.8, 0.85, 0.85, 0.9, 0.9, 0.93, 0.93, 0...   \n",
      "4513  [0.96, 0.96, 0.93, 0.93, 0.96, 0.96, 0.95, 0.9...   \n",
      "4514  [0.92, 0.92, 0.9, 0.9, 0.92, 0.92, 0.92, 0.92,...   \n",
      "4515  [0.82, 0.82, 0.83, 0.83, 0.86, 0.86, 0.87, 0.8...   \n",
      "...                                                 ...   \n",
      "4906  [0.63, 0.63, 0.63, 0.63, 0.64, 0.64, 0.65, 0.6...   \n",
      "4907  [0.89, 0.89, 0.89, 0.89, 0.93, 0.93, 0.92, 0.9...   \n",
      "4908  [0.84, 0.84, 0.87, 0.87, 0.85, 0.85, 0.88, 0.8...   \n",
      "4909  [0.84, 0.84, 0.87, 0.87, 0.85, 0.85, 0.88, 0.8...   \n",
      "4910  [0.84, 0.84, 0.88, 0.88, 0.91, 0.91, 0.91, 0.9...   \n",
      "\n",
      "                                                summary  \n",
      "4511  [Mostly Cloudy, Mostly Cloudy, Overcast, Overc...  \n",
      "4512  [Clear, Clear, Clear, Clear, Clear, Clear, Cle...  \n",
      "4513  [Mostly Cloudy, Mostly Cloudy, Mostly Cloudy, ...  \n",
      "4514  [Partly Cloudy, Partly Cloudy, Partly Cloudy, ...  \n",
      "4515  [Partly Cloudy, Partly Cloudy, Partly Cloudy, ...  \n",
      "...                                                 ...  \n",
      "4906  [Partly Cloudy, Partly Cloudy, Clear, Clear, C...  \n",
      "4907  [Partly Cloudy, Partly Cloudy, Partly Cloudy, ...  \n",
      "4908  [Partly Cloudy, Partly Cloudy, Clear, Clear, P...  \n",
      "4909  [Partly Cloudy, Partly Cloudy, Clear, Clear, P...  \n",
      "4910  [Partly Cloudy, Partly Cloudy, Partly Cloudy, ...  \n",
      "\n",
      "[400 rows x 21 columns]\n",
      "block_80-87\n",
      "          LCLid start_timestamp frequency  \\\n",
      "4911  MAC000581      2012-04-12     30min   \n",
      "4912  MAC000938      2012-05-02     30min   \n",
      "4913  MAC001017      2012-05-03     30min   \n",
      "4914  MAC001026      2012-05-03     30min   \n",
      "4915  MAC001212      2012-05-13     30min   \n",
      "...         ...             ...       ...   \n",
      "5355  MAC005076      2012-05-31     30min   \n",
      "5356  MAC005080      2012-05-31     30min   \n",
      "5357  MAC005474      2012-04-17     30min   \n",
      "5358  MAC005516      2012-04-18     30min   \n",
      "5359  MAC005557      2012-09-29     30min   \n",
      "\n",
      "                                     energy_consumption  series_length  \\\n",
      "4911  [0.103, 0.108, 0.096, 0.109, 0.096999999999999...          32976   \n",
      "4912  [0.0559999999999999, 0.083, 0.099, 0.08, 0.079...          32016   \n",
      "4913  [0.055, 0.0819999999999999, 0.023, 0.043, 0.02...          31968   \n",
      "4914  [0.151, 0.12, 0.093, 0.12, 0.105, 0.143, 0.09,...          31968   \n",
      "4915  [0.094, 0.094, 0.12, 0.105, 0.095, 0.096, 0.09...          31488   \n",
      "...                                                 ...            ...   \n",
      "5355  [0.238, 0.122, 0.091, 0.119, 0.079, 0.11699999...          30624   \n",
      "5356  [0.145, 0.105, 0.135, 0.072, 0.023, 0.059, 0.0...          30624   \n",
      "5357  [0.019, 0.01, 0.019, 0.013, 0.017, 0.015, 0.01...          32736   \n",
      "5358  [0.152, 0.2019999999999999, 0.233, 0.163999999...          32688   \n",
      "5359  [0.109, 0.089, 0.069, 0.107, 0.103, 0.102, 0.0...          24816   \n",
      "\n",
      "     stdorToU    Acorn Acorn_grouped      file  \\\n",
      "4911      Std  ACORN-N     Adversity  block_88   \n",
      "4912      ToU  ACORN-N     Adversity  block_88   \n",
      "4913      Std  ACORN-N     Adversity  block_88   \n",
      "4914      Std  ACORN-N     Adversity  block_88   \n",
      "4915      Std  ACORN-N     Adversity  block_88   \n",
      "...       ...      ...           ...       ...   \n",
      "5355      ToU  ACORN-Q     Adversity  block_95   \n",
      "5356      ToU  ACORN-Q     Adversity  block_95   \n",
      "5357      ToU  ACORN-Q     Adversity  block_95   \n",
      "5358      ToU  ACORN-Q     Adversity  block_95   \n",
      "5359      ToU  ACORN-Q     Adversity  block_95   \n",
      "\n",
      "                                               holidays  ...  \\\n",
      "4911  [NO_HOLIDAY, NO_HOLIDAY, NO_HOLIDAY, NO_HOLIDA...  ...   \n",
      "4912  [NO_HOLIDAY, NO_HOLIDAY, NO_HOLIDAY, NO_HOLIDA...  ...   \n",
      "4913  [NO_HOLIDAY, NO_HOLIDAY, NO_HOLIDAY, NO_HOLIDA...  ...   \n",
      "4914  [NO_HOLIDAY, NO_HOLIDAY, NO_HOLIDAY, NO_HOLIDA...  ...   \n",
      "4915  [NO_HOLIDAY, NO_HOLIDAY, NO_HOLIDAY, NO_HOLIDA...  ...   \n",
      "...                                                 ...  ...   \n",
      "5355  [NO_HOLIDAY, NO_HOLIDAY, NO_HOLIDAY, NO_HOLIDA...  ...   \n",
      "5356  [NO_HOLIDAY, NO_HOLIDAY, NO_HOLIDAY, NO_HOLIDA...  ...   \n",
      "5357  [NO_HOLIDAY, NO_HOLIDAY, NO_HOLIDAY, NO_HOLIDA...  ...   \n",
      "5358  [NO_HOLIDAY, NO_HOLIDAY, NO_HOLIDAY, NO_HOLIDA...  ...   \n",
      "5359  [NO_HOLIDAY, NO_HOLIDAY, NO_HOLIDAY, NO_HOLIDA...  ...   \n",
      "\n",
      "                                            windBearing  \\\n",
      "4911  [287, 287, 283, 283, 275, 275, 263, 263, 256, ...   \n",
      "4912  [351, 351, 0, 0, 0, 0, 351, 351, 348, 348, 3, ...   \n",
      "4913  [11, 11, 16, 16, 25, 25, 16, 16, 28, 28, 29, 2...   \n",
      "4914  [11, 11, 16, 16, 25, 25, 16, 16, 28, 28, 29, 2...   \n",
      "4915  [189, 189, 236, 236, 229, 229, 244, 244, 236, ...   \n",
      "...                                                 ...   \n",
      "5355  [252, 252, 254, 254, 259, 259, 265, 265, 268, ...   \n",
      "5356  [252, 252, 254, 254, 259, 259, 265, 265, 268, ...   \n",
      "5357  [180, 180, 174, 174, 172, 172, 168, 168, 171, ...   \n",
      "5358  [197, 197, 195, 195, 183, 183, 173, 173, 173, ...   \n",
      "5359  [243, 243, 249, 249, 248, 248, 248, 248, 252, ...   \n",
      "\n",
      "                                            temperature  \\\n",
      "4911  [6.74, 6.74, 5.77, 5.77, 4.51, 4.51, 4.42, 4.4...   \n",
      "4912  [11.81, 11.81, 11.12, 11.12, 11.2, 11.2, 11.18...   \n",
      "4913  [9.17, 9.17, 9.13, 9.13, 9.11, 9.11, 9.04, 9.0...   \n",
      "4914  [9.17, 9.17, 9.13, 9.13, 9.11, 9.11, 9.04, 9.0...   \n",
      "4915  [7.71, 7.71, 6.69, 6.69, 5.84, 5.84, 5.62, 5.6...   \n",
      "...                                                 ...   \n",
      "5355  [15.78, 15.78, 14.99, 14.99, 14.52, 14.52, 14....   \n",
      "5356  [15.78, 15.78, 14.99, 14.99, 14.52, 14.52, 14....   \n",
      "5357  [5.17, 5.17, 5.16, 5.16, 5.31, 5.31, 5.83, 5.8...   \n",
      "5358  [6.31, 6.31, 6.35, 6.35, 6.38, 6.38, 6.44, 6.4...   \n",
      "5359  [10.51, 10.51, 10.59, 10.59, 10.36, 10.36, 9.8...   \n",
      "\n",
      "                                               dewPoint  \\\n",
      "4911  [3.57, 3.57, 3.41, 3.41, 3.05, 3.05, 3.34, 3.3...   \n",
      "4912  [10.47, 10.47, 10.15, 10.15, 9.89, 9.89, 9.29,...   \n",
      "4913  [7.27, 7.27, 7.6, 7.6, 7.66, 7.66, 7.64, 7.64,...   \n",
      "4914  [7.27, 7.27, 7.6, 7.6, 7.66, 7.66, 7.64, 7.64,...   \n",
      "4915  [4.03, 4.03, 4.03, 4.03, 3.66, 3.66, 3.83, 3.8...   \n",
      "...                                                 ...   \n",
      "5355  [13.08, 13.08, 12.93, 12.93, 12.02, 12.02, 12....   \n",
      "5356  [13.08, 13.08, 12.93, 12.93, 12.02, 12.02, 12....   \n",
      "5357  [-1.22, -1.22, -1.2, -1.2, -0.71, -0.71, -0.57...   \n",
      "5358  [3.52, 3.52, 3.62, 3.62, 4.19, 4.19, 4.17, 4.1...   \n",
      "5359  [8.73, 8.73, 9.17, 9.17, 8.63, 8.63, 8.66, 8.6...   \n",
      "\n",
      "                                               pressure  \\\n",
      "4911  [1001.59, 1001.59, 1001.65, 1001.65, 1001.64, ...   \n",
      "4912  [1021.42, 1021.42, 1021.44, 1021.44, 1021.33, ...   \n",
      "4913  [1015.07, 1015.07, 1014.57, 1014.57, 1014.08, ...   \n",
      "4914  [1015.07, 1015.07, 1014.57, 1014.57, 1014.08, ...   \n",
      "4915  [1037.04, 1037.04, 1036.58, 1036.58, 1036.07, ...   \n",
      "...                                                 ...   \n",
      "5355  [1018.67, 1018.67, 1018.64, 1018.64, 1018.72, ...   \n",
      "5356  [1018.67, 1018.67, 1018.64, 1018.64, 1018.72, ...   \n",
      "5357  [1017.37, 1017.37, 1015.31, 1015.31, 1013.42, ...   \n",
      "5358  [992.26, 992.26, 991.04, 991.04, 989.79, 989.7...   \n",
      "5359  [1014.11, 1014.11, 1014.16, 1014.16, 1014.35, ...   \n",
      "\n",
      "                                    apparentTemperature  \\\n",
      "4911  [5.55, 5.55, 4.25, 4.25, 3.46, 3.46, 3.33, 3.3...   \n",
      "4912  [11.81, 11.81, 11.12, 11.12, 11.2, 11.2, 11.18...   \n",
      "4913  [7.56, 7.56, 7.73, 7.73, 7.42, 7.42, 7.36, 7.3...   \n",
      "4914  [7.56, 7.56, 7.73, 7.73, 7.42, 7.42, 7.36, 7.3...   \n",
      "4915  [7.71, 7.71, 6.69, 6.69, 4.94, 4.94, 5.62, 5.6...   \n",
      "...                                                 ...   \n",
      "5355  [15.78, 15.78, 14.99, 14.99, 14.52, 14.52, 14....   \n",
      "5356  [15.78, 15.78, 14.99, 14.99, 14.52, 14.52, 14....   \n",
      "5357  [2.03, 2.03, 1.82, 1.82, 1.85, 1.85, 2.1, 2.1,...   \n",
      "5358  [3.28, 3.28, 3.14, 3.14, 3.59, 3.59, 3.27, 3.2...   \n",
      "5359  [10.51, 10.51, 10.59, 10.59, 10.36, 10.36, 8.3...   \n",
      "\n",
      "                                              windSpeed  \\\n",
      "4911  [1.85, 1.85, 2.02, 2.02, 1.45, 1.45, 1.47, 1.4...   \n",
      "4912  [2.53, 2.53, 2.41, 2.41, 2.06, 2.06, 2.98, 2.9...   \n",
      "4913  [2.92, 2.92, 2.59, 2.59, 3.03, 3.03, 3.0, 3.0,...   \n",
      "4914  [2.92, 2.92, 2.59, 2.59, 3.03, 3.03, 3.0, 3.0,...   \n",
      "4915  [0.83, 0.83, 1.15, 1.15, 1.47, 1.47, 1.19, 1.1...   \n",
      "...                                                 ...   \n",
      "5355  [3.56, 3.56, 3.18, 3.18, 3.55, 3.55, 3.33, 3.3...   \n",
      "5356  [3.56, 3.56, 3.18, 3.18, 3.55, 3.55, 3.33, 3.3...   \n",
      "5357  [4.06, 4.06, 4.43, 4.43, 4.75, 4.75, 5.63, 5.6...   \n",
      "5358  [4.35, 4.35, 4.75, 4.75, 3.92, 3.92, 4.72, 4.7...   \n",
      "5359  [3.59, 3.59, 3.35, 3.35, 3.58, 3.58, 3.07, 3.0...   \n",
      "\n",
      "                                             precipType  \\\n",
      "4911  [rain, rain, rain, rain, rain, rain, rain, rai...   \n",
      "4912  [rain, rain, rain, rain, rain, rain, rain, rai...   \n",
      "4913  [rain, rain, rain, rain, rain, rain, rain, rai...   \n",
      "4914  [rain, rain, rain, rain, rain, rain, rain, rai...   \n",
      "4915  [rain, rain, rain, rain, rain, rain, rain, rai...   \n",
      "...                                                 ...   \n",
      "5355  [rain, rain, rain, rain, rain, rain, rain, rai...   \n",
      "5356  [rain, rain, rain, rain, rain, rain, rain, rai...   \n",
      "5357  [rain, rain, rain, rain, rain, rain, rain, rai...   \n",
      "5358  [rain, rain, rain, rain, rain, rain, rain, rai...   \n",
      "5359  [rain, rain, rain, rain, rain, rain, rain, rai...   \n",
      "\n",
      "                                                   icon  \\\n",
      "4911  [clear-night, clear-night, clear-night, clear-...   \n",
      "4912  [partly-cloudy-night, partly-cloudy-night, par...   \n",
      "4913  [partly-cloudy-night, partly-cloudy-night, par...   \n",
      "4914  [partly-cloudy-night, partly-cloudy-night, par...   \n",
      "4915  [clear-night, clear-night, clear-night, clear-...   \n",
      "...                                                 ...   \n",
      "5355  [partly-cloudy-night, partly-cloudy-night, cle...   \n",
      "5356  [partly-cloudy-night, partly-cloudy-night, cle...   \n",
      "5357  [clear-night, clear-night, clear-night, clear-...   \n",
      "5358  [partly-cloudy-night, partly-cloudy-night, par...   \n",
      "5359  [clear-night, clear-night, clear-night, clear-...   \n",
      "\n",
      "                                               humidity  \\\n",
      "4911  [0.8, 0.8, 0.85, 0.85, 0.9, 0.9, 0.93, 0.93, 0...   \n",
      "4912  [0.91, 0.91, 0.94, 0.94, 0.92, 0.92, 0.88, 0.8...   \n",
      "4913  [0.88, 0.88, 0.9, 0.9, 0.91, 0.91, 0.91, 0.91,...   \n",
      "4914  [0.88, 0.88, 0.9, 0.9, 0.91, 0.91, 0.91, 0.91,...   \n",
      "4915  [0.78, 0.78, 0.83, 0.83, 0.86, 0.86, 0.88, 0.8...   \n",
      "...                                                 ...   \n",
      "5355  [0.84, 0.84, 0.87, 0.87, 0.85, 0.85, 0.88, 0.8...   \n",
      "5356  [0.84, 0.84, 0.87, 0.87, 0.85, 0.85, 0.88, 0.8...   \n",
      "5357  [0.63, 0.63, 0.63, 0.63, 0.65, 0.65, 0.63, 0.6...   \n",
      "5358  [0.82, 0.82, 0.83, 0.83, 0.86, 0.86, 0.85, 0.8...   \n",
      "5359  [0.89, 0.89, 0.91, 0.91, 0.89, 0.89, 0.92, 0.9...   \n",
      "\n",
      "                                                summary  \n",
      "4911  [Clear, Clear, Clear, Clear, Clear, Clear, Cle...  \n",
      "4912  [Mostly Cloudy, Mostly Cloudy, Mostly Cloudy, ...  \n",
      "4913  [Mostly Cloudy, Mostly Cloudy, Mostly Cloudy, ...  \n",
      "4914  [Mostly Cloudy, Mostly Cloudy, Mostly Cloudy, ...  \n",
      "4915  [Clear, Clear, Clear, Clear, Clear, Clear, Cle...  \n",
      "...                                                 ...  \n",
      "5355  [Partly Cloudy, Partly Cloudy, Clear, Clear, P...  \n",
      "5356  [Partly Cloudy, Partly Cloudy, Clear, Clear, P...  \n",
      "5357  [Clear, Clear, Clear, Clear, Partly Cloudy, Pa...  \n",
      "5358  [Partly Cloudy, Partly Cloudy, Partly Cloudy, ...  \n",
      "5359  [Clear, Clear, Clear, Clear, Clear, Clear, Cle...  \n",
      "\n",
      "[399 rows x 21 columns]\n",
      "block_88-95\n",
      "          LCLid start_timestamp frequency  \\\n",
      "150   MAC002357      2012-04-28     30min   \n",
      "151   MAC002743      2012-05-09     30min   \n",
      "152   MAC002747      2012-05-10     30min   \n",
      "153   MAC002771      2012-05-11     30min   \n",
      "154   MAC002773      2012-05-11     30min   \n",
      "...         ...             ...       ...   \n",
      "5555  MAC004861      2012-01-01     30min   \n",
      "5556  MAC004866      2012-01-01     30min   \n",
      "5557  MAC004870      2012-01-04     30min   \n",
      "5558  MAC005004      2012-01-29     30min   \n",
      "5559  MAC005019      2012-05-22     30min   \n",
      "\n",
      "                                     energy_consumption  series_length  \\\n",
      "150   [0.035, 0.372, 0.125, 0.14, 0.135, 0.133, 0.13...          32208   \n",
      "151   [0.302, 0.23, 0.221, 0.13, 0.144, 0.17, 0.187,...          31680   \n",
      "152   [0.083, 0.121, 0.0969999999999999, 0.059, 0.10...          31632   \n",
      "153   [0.061, 0.0559999999999999, 0.0559999999999999...          31584   \n",
      "154   [0.036, 0.039, 0.026, 0.046, 0.024, 0.038, 0.0...          31584   \n",
      "...                                                 ...            ...   \n",
      "5555  [0.05, 0.051, 0.05, 0.051, 0.626, 0.051, 0.05,...          37872   \n",
      "5556  [0.052, 3.175, 1.775, 1.78, 1.207, 0.613, 0.38...          37872   \n",
      "5557  [0.129, 0.1159999999999999, 0.115, 0.116999999...          37728   \n",
      "5558  [0.147, 0.044, 0.033, 0.032, 0.031, 0.03, 0.03...          36528   \n",
      "5559  [0.1009999999999999, 0.11, 0.078, 0.063, 0.109...          31056   \n",
      "\n",
      "     stdorToU    Acorn Acorn_grouped       file  \\\n",
      "150       ToU  ACORN-Q     Adversity  block_100   \n",
      "151       Std  ACORN-Q     Adversity  block_100   \n",
      "152       Std  ACORN-Q     Adversity  block_100   \n",
      "153       Std  ACORN-Q     Adversity  block_100   \n",
      "154       Std  ACORN-Q     Adversity  block_100   \n",
      "...       ...      ...           ...        ...   \n",
      "5555      Std  ACORN-Q     Adversity   block_99   \n",
      "5556      Std  ACORN-Q     Adversity   block_99   \n",
      "5557      Std  ACORN-Q     Adversity   block_99   \n",
      "5558      Std  ACORN-Q     Adversity   block_99   \n",
      "5559      Std  ACORN-Q     Adversity   block_99   \n",
      "\n",
      "                                               holidays  ...  \\\n",
      "150   [NO_HOLIDAY, NO_HOLIDAY, NO_HOLIDAY, NO_HOLIDA...  ...   \n",
      "151   [NO_HOLIDAY, NO_HOLIDAY, NO_HOLIDAY, NO_HOLIDA...  ...   \n",
      "152   [NO_HOLIDAY, NO_HOLIDAY, NO_HOLIDAY, NO_HOLIDA...  ...   \n",
      "153   [NO_HOLIDAY, NO_HOLIDAY, NO_HOLIDAY, NO_HOLIDA...  ...   \n",
      "154   [NO_HOLIDAY, NO_HOLIDAY, NO_HOLIDAY, NO_HOLIDA...  ...   \n",
      "...                                                 ...  ...   \n",
      "5555  [NO_HOLIDAY, NO_HOLIDAY, NO_HOLIDAY, NO_HOLIDA...  ...   \n",
      "5556  [NO_HOLIDAY, NO_HOLIDAY, NO_HOLIDAY, NO_HOLIDA...  ...   \n",
      "5557  [NO_HOLIDAY, NO_HOLIDAY, NO_HOLIDAY, NO_HOLIDA...  ...   \n",
      "5558  [NO_HOLIDAY, NO_HOLIDAY, NO_HOLIDAY, NO_HOLIDA...  ...   \n",
      "5559  [NO_HOLIDAY, NO_HOLIDAY, NO_HOLIDAY, NO_HOLIDA...  ...   \n",
      "\n",
      "                                            windBearing  \\\n",
      "150   [41, 41, 26, 26, 31, 31, 32, 32, 30, 30, 35, 3...   \n",
      "151   [215, 215, 207, 207, 215, 215, 216, 216, 126, ...   \n",
      "152   [193, 193, 207, 207, 209, 209, 210, 210, 211, ...   \n",
      "153   [232, 232, 231, 231, 232, 232, 237, 237, 243, ...   \n",
      "154   [232, 232, 231, 231, 232, 232, 237, 237, 243, ...   \n",
      "...                                                 ...   \n",
      "5555  [229, 229, 238, 238, 229, 229, 231, 231, 227, ...   \n",
      "5556  [229, 229, 238, 238, 229, 229, 231, 231, 227, ...   \n",
      "5557  [257, 257, 272, 272, 273, 273, 272, 272, 271, ...   \n",
      "5558  [0, 0, 18, 18, 7, 7, 10, 10, 0, 0, 355, 355, 3...   \n",
      "5559  [339, 339, 337, 337, 338, 338, 337, 337, 335, ...   \n",
      "\n",
      "                                            temperature  \\\n",
      "150   [9.59, 9.59, 9.46, 9.46, 9.12, 9.12, 8.71, 8.7...   \n",
      "151   [11.46, 11.46, 11.38, 11.38, 11.38, 11.38, 10....   \n",
      "152   [14.92, 14.92, 15.01, 15.01, 15.36, 15.36, 15....   \n",
      "153   [13.83, 13.83, 13.53, 13.53, 12.99, 12.99, 12....   \n",
      "154   [13.83, 13.83, 13.53, 13.53, 12.99, 12.99, 12....   \n",
      "...                                                 ...   \n",
      "5555  [12.12, 12.12, 12.59, 12.59, 12.45, 12.45, 12....   \n",
      "5556  [12.12, 12.12, 12.59, 12.59, 12.45, 12.45, 12....   \n",
      "5557  [6.07, 6.07, 6.43, 6.43, 5.91, 5.91, 5.38, 5.3...   \n",
      "5558  [2.83, 2.83, 2.82, 2.82, 2.83, 2.83, 2.79, 2.7...   \n",
      "5559  [13.21, 13.21, 13.19, 13.19, 12.81, 12.81, 12....   \n",
      "\n",
      "                                               dewPoint  \\\n",
      "150   [7.93, 7.93, 7.9, 7.9, 7.64, 7.64, 7.71, 7.71,...   \n",
      "151   [10.23, 10.23, 10.17, 10.17, 10.24, 10.24, 10....   \n",
      "152   [14.12, 14.12, 14.18, 14.18, 14.25, 14.25, 14....   \n",
      "153   [11.44, 11.44, 10.37, 10.37, 9.92, 9.92, 9.8, ...   \n",
      "154   [11.44, 11.44, 10.37, 10.37, 9.92, 9.92, 9.8, ...   \n",
      "...                                                 ...   \n",
      "5555  [10.97, 10.97, 11.02, 11.02, 11.04, 11.04, 10....   \n",
      "5556  [10.97, 10.97, 11.02, 11.02, 11.04, 11.04, 10....   \n",
      "5557  [2.36, 2.36, 1.21, 1.21, 0.05, 0.05, -0.06, -0...   \n",
      "5558  [2.26, 2.26, 2.34, 2.34, 2.36, 2.36, 1.87, 1.8...   \n",
      "5559  [11.22, 11.22, 10.71, 10.71, 10.38, 10.38, 10....   \n",
      "\n",
      "                                               pressure  \\\n",
      "150   [1015.2, 1015.2, 1015.27, 1015.27, 1014.94, 10...   \n",
      "151   [1007.39, 1007.39, 1007.21, 1007.21, 1007.06, ...   \n",
      "152   [1007.56, 1007.56, 1007.21, 1007.21, 1006.92, ...   \n",
      "153   [1013.67, 1013.67, 1014.08, 1014.08, 1014.4, 1...   \n",
      "154   [1013.67, 1013.67, 1014.08, 1014.08, 1014.4, 1...   \n",
      "...                                                 ...   \n",
      "5555  [1008.1, 1008.1, 1007.88, 1007.88, 1007.95, 10...   \n",
      "5556  [1008.1, 1008.1, 1007.88, 1007.88, 1007.95, 10...   \n",
      "5557  [1009.02, 1009.02, 1010.21, 1010.21, 1011.78, ...   \n",
      "5558  [1032.34, 1032.34, 1032.12, 1032.12, 1031.89, ...   \n",
      "5559  [1010.94, 1010.94, 1011.31, 1011.31, 1011.65, ...   \n",
      "\n",
      "                                    apparentTemperature  \\\n",
      "150   [9.33, 9.33, 8.59, 8.59, 7.76, 7.76, 6.87, 6.8...   \n",
      "151   [11.46, 11.46, 11.38, 11.38, 11.38, 11.38, 10....   \n",
      "152   [14.95, 14.95, 15.04, 15.04, 15.38, 15.38, 15....   \n",
      "153   [13.83, 13.83, 13.53, 13.53, 12.99, 12.99, 12....   \n",
      "154   [13.83, 13.83, 13.53, 13.53, 12.99, 12.99, 12....   \n",
      "...                                                 ...   \n",
      "5555  [12.12, 12.12, 12.59, 12.59, 12.45, 12.45, 12....   \n",
      "5556  [12.12, 12.12, 12.59, 12.59, 12.45, 12.45, 12....   \n",
      "5557  [1.48, 1.48, 1.79, 1.79, 1.33, 1.33, 0.79, 0.7...   \n",
      "5558  [1.15, 1.15, 0.96, 0.96, 0.77, 0.77, 1.27, 1.2...   \n",
      "5559  [13.21, 13.21, 13.19, 13.19, 12.81, 12.81, 12....   \n",
      "\n",
      "                                              windSpeed  \\\n",
      "150   [1.37, 1.37, 1.97, 1.97, 2.52, 2.52, 3.15, 3.1...   \n",
      "151   [2.35, 2.35, 2.15, 2.15, 1.84, 1.84, 1.22, 1.2...   \n",
      "152   [6.2, 6.2, 7.36, 7.36, 7.42, 7.42, 7.14, 7.14,...   \n",
      "153   [6.69, 6.69, 6.8, 6.8, 6.25, 6.25, 5.74, 5.74,...   \n",
      "154   [6.69, 6.69, 6.8, 6.8, 6.25, 6.25, 5.74, 5.74,...   \n",
      "...                                                 ...   \n",
      "5555  [5.9, 5.9, 6.06, 6.06, 5.31, 5.31, 4.68, 4.68,...   \n",
      "5556  [5.9, 5.9, 6.06, 6.06, 5.31, 5.31, 4.68, 4.68,...   \n",
      "5557  [8.28, 8.28, 8.86, 8.86, 8.09, 8.09, 7.61, 7.6...   \n",
      "5558  [1.74, 1.74, 1.88, 1.88, 2.07, 2.07, 1.61, 1.6...   \n",
      "5559  [3.81, 3.81, 4.11, 4.11, 3.98, 3.98, 3.97, 3.9...   \n",
      "\n",
      "                                             precipType  \\\n",
      "150   [rain, rain, rain, rain, rain, rain, rain, rai...   \n",
      "151   [rain, rain, rain, rain, rain, rain, rain, rai...   \n",
      "152   [rain, rain, rain, rain, rain, rain, rain, rai...   \n",
      "153   [rain, rain, rain, rain, rain, rain, rain, rai...   \n",
      "154   [rain, rain, rain, rain, rain, rain, rain, rai...   \n",
      "...                                                 ...   \n",
      "5555  [rain, rain, rain, rain, rain, rain, rain, rai...   \n",
      "5556  [rain, rain, rain, rain, rain, rain, rain, rai...   \n",
      "5557  [rain, rain, rain, rain, rain, rain, rain, rai...   \n",
      "5558  [rain, rain, rain, rain, rain, rain, rain, rai...   \n",
      "5559  [rain, rain, rain, rain, rain, rain, rain, rai...   \n",
      "\n",
      "                                                   icon  \\\n",
      "150   [partly-cloudy-night, partly-cloudy-night, par...   \n",
      "151   [partly-cloudy-night, partly-cloudy-night, par...   \n",
      "152   [partly-cloudy-night, partly-cloudy-night, win...   \n",
      "153   [partly-cloudy-night, partly-cloudy-night, win...   \n",
      "154   [partly-cloudy-night, partly-cloudy-night, win...   \n",
      "...                                                 ...   \n",
      "5555  [partly-cloudy-night, partly-cloudy-night, clo...   \n",
      "5556  [partly-cloudy-night, partly-cloudy-night, clo...   \n",
      "5557  [wind, wind, wind, wind, wind, wind, clear-nig...   \n",
      "5558  [partly-cloudy-night, partly-cloudy-night, par...   \n",
      "5559  [partly-cloudy-night, partly-cloudy-night, par...   \n",
      "\n",
      "                                               humidity  \\\n",
      "150   [0.89, 0.89, 0.9, 0.9, 0.9, 0.9, 0.93, 0.93, 0...   \n",
      "151   [0.92, 0.92, 0.92, 0.92, 0.93, 0.93, 0.95, 0.9...   \n",
      "152   [0.95, 0.95, 0.95, 0.95, 0.93, 0.93, 0.93, 0.9...   \n",
      "153   [0.86, 0.86, 0.81, 0.81, 0.82, 0.82, 0.83, 0.8...   \n",
      "154   [0.86, 0.86, 0.81, 0.81, 0.82, 0.82, 0.83, 0.8...   \n",
      "...                                                 ...   \n",
      "5555  [0.93, 0.93, 0.9, 0.9, 0.91, 0.91, 0.93, 0.93,...   \n",
      "5556  [0.93, 0.93, 0.9, 0.9, 0.91, 0.91, 0.93, 0.93,...   \n",
      "5557  [0.77, 0.77, 0.69, 0.69, 0.66, 0.66, 0.68, 0.6...   \n",
      "5558  [0.96, 0.96, 0.97, 0.97, 0.97, 0.97, 0.94, 0.9...   \n",
      "5559  [0.88, 0.88, 0.85, 0.85, 0.85, 0.85, 0.87, 0.8...   \n",
      "\n",
      "                                                summary  \n",
      "150   [Partly Cloudy, Partly Cloudy, Partly Cloudy, ...  \n",
      "151   [Partly Cloudy, Partly Cloudy, Mostly Cloudy, ...  \n",
      "152   [Mostly Cloudy, Mostly Cloudy, Breezy and Most...  \n",
      "153   [Mostly Cloudy, Mostly Cloudy, Breezy and Part...  \n",
      "154   [Mostly Cloudy, Mostly Cloudy, Breezy and Part...  \n",
      "...                                                 ...  \n",
      "5555  [Mostly Cloudy, Mostly Cloudy, Overcast, Overc...  \n",
      "5556  [Mostly Cloudy, Mostly Cloudy, Overcast, Overc...  \n",
      "5557  [Breezy and Partly Cloudy, Breezy and Partly C...  \n",
      "5558  [Partly Cloudy, Partly Cloudy, Mostly Cloudy, ...  \n",
      "5559  [Mostly Cloudy, Mostly Cloudy, Mostly Cloudy, ...  \n",
      "\n",
      "[400 rows x 21 columns]\n",
      "block_96-103\n",
      "         LCLid start_timestamp frequency  \\\n",
      "350  MAC000090      2012-01-01     30min   \n",
      "351  MAC000207      2012-01-01     30min   \n",
      "352  MAC000208      2012-01-01     30min   \n",
      "353  MAC000212      2012-01-01     30min   \n",
      "354  MAC000329      2012-03-08     30min   \n",
      "..         ...             ...       ...   \n",
      "743  MAC004788      2012-04-05     30min   \n",
      "744  MAC005036      2012-02-01     30min   \n",
      "745  MAC005363      2012-02-23     30min   \n",
      "746  MAC005424      2012-04-15     30min   \n",
      "747  MAC005567      2012-12-20     30min   \n",
      "\n",
      "                                    energy_consumption  series_length  \\\n",
      "350  [0.165, 1.465, 1.186, 0.109, 0.091, 0.099, 0.0...          37872   \n",
      "351  [0.326, 0.306, 0.316, 0.288, 0.327, 0.33, 0.28...          37872   \n",
      "352  [0.259, 0.159, 0.068, 0.036, 0.031, 0.031, 0.0...          37872   \n",
      "353  [0.096, 0.114, 0.385, 0.155, 0.081, 0.099, 0.0...          37872   \n",
      "354  [0.12, 0.157, 0.1009999999999999, 0.088, 0.1, ...          34656   \n",
      "..                                                 ...            ...   \n",
      "743  [0.011, 0.019, 0.016, 0.012, 0.012, 0.172, 0.0...          33312   \n",
      "744  [0.1689999999999999, 0.0409999999999999, 0.03,...          36384   \n",
      "745  [0.1119999999999999, 0.1169999999999999, 0.087...          35328   \n",
      "746  [0.06, 0.093, 0.107, 0.067, 0.068, 0.069, 0.10...          32832   \n",
      "747  [0.185, 0.109, 0.083, 0.06, 0.046, 0.047, 0.05...          20880   \n",
      "\n",
      "    stdorToU    Acorn Acorn_grouped       file  \\\n",
      "350      Std  ACORN-Q     Adversity  block_104   \n",
      "351      Std  ACORN-Q     Adversity  block_104   \n",
      "352      Std  ACORN-Q     Adversity  block_104   \n",
      "353      Std  ACORN-Q     Adversity  block_104   \n",
      "354      Std  ACORN-Q     Adversity  block_104   \n",
      "..       ...      ...           ...        ...   \n",
      "743      Std  ACORN-U       ACORN-U  block_110   \n",
      "744      Std  ACORN-U       ACORN-U  block_110   \n",
      "745      Std  ACORN-U       ACORN-U  block_110   \n",
      "746      Std  ACORN-U       ACORN-U  block_110   \n",
      "747      Std  ACORN-Q     Adversity  block_110   \n",
      "\n",
      "                                              holidays  ...  \\\n",
      "350  [NO_HOLIDAY, NO_HOLIDAY, NO_HOLIDAY, NO_HOLIDA...  ...   \n",
      "351  [NO_HOLIDAY, NO_HOLIDAY, NO_HOLIDAY, NO_HOLIDA...  ...   \n",
      "352  [NO_HOLIDAY, NO_HOLIDAY, NO_HOLIDAY, NO_HOLIDA...  ...   \n",
      "353  [NO_HOLIDAY, NO_HOLIDAY, NO_HOLIDAY, NO_HOLIDA...  ...   \n",
      "354  [NO_HOLIDAY, NO_HOLIDAY, NO_HOLIDAY, NO_HOLIDA...  ...   \n",
      "..                                                 ...  ...   \n",
      "743  [NO_HOLIDAY, NO_HOLIDAY, NO_HOLIDAY, NO_HOLIDA...  ...   \n",
      "744  [New Year?s Day (substitute day), New Year?s D...  ...   \n",
      "745  [NO_HOLIDAY, NO_HOLIDAY, NO_HOLIDAY, NO_HOLIDA...  ...   \n",
      "746  [NO_HOLIDAY, NO_HOLIDAY, NO_HOLIDAY, NO_HOLIDA...  ...   \n",
      "747  [NO_HOLIDAY, NO_HOLIDAY, NO_HOLIDAY, NO_HOLIDA...  ...   \n",
      "\n",
      "                                           windBearing  \\\n",
      "350  [229, 229, 238, 238, 229, 229, 231, 231, 227, ...   \n",
      "351  [229, 229, 238, 238, 229, 229, 231, 231, 227, ...   \n",
      "352  [229, 229, 238, 238, 229, 229, 231, 231, 227, ...   \n",
      "353  [229, 229, 238, 238, 229, 229, 231, 231, 227, ...   \n",
      "354  [282, 282, 285, 285, 283, 283, 283, 283, 280, ...   \n",
      "..                                                 ...   \n",
      "743  [50, 50, 43, 43, 43, 43, 44, 44, 45, 45, 47, 4...   \n",
      "744  [60, 60, 60, 60, 58, 58, 57, 57, 58, 58, 60, 6...   \n",
      "745  [248, 248, 247, 247, 250, 250, 250, 250, 250, ...   \n",
      "746  [11, 11, 6, 6, 3, 3, 357, 357, 356, 356, 356, ...   \n",
      "747  [120, 120, 114, 114, 114, 114, 116, 116, 115, ...   \n",
      "\n",
      "                                           temperature  \\\n",
      "350  [12.12, 12.12, 12.59, 12.59, 12.45, 12.45, 12....   \n",
      "351  [12.12, 12.12, 12.59, 12.59, 12.45, 12.45, 12....   \n",
      "352  [12.12, 12.12, 12.59, 12.59, 12.45, 12.45, 12....   \n",
      "353  [12.12, 12.12, 12.59, 12.59, 12.45, 12.45, 12....   \n",
      "354  [4.38, 4.38, 4.63, 4.63, 4.17, 4.17, 3.94, 3.9...   \n",
      "..                                                 ...   \n",
      "743  [7.34, 7.34, 7.32, 7.32, 7.34, 7.34, 6.91, 6.9...   \n",
      "744  [1.72, 1.72, 1.49, 1.49, 0.67, 0.67, 0.65, 0.6...   \n",
      "745  [10.87, 10.87, 11.3, 11.3, 11.45, 11.45, 11.5,...   \n",
      "746  [5.38, 5.38, 4.89, 4.89, 4.0, 4.0, 3.89, 3.89,...   \n",
      "747  [6.54, 6.54, 6.54, 6.54, 6.53, 6.53, 6.64, 6.6...   \n",
      "\n",
      "                                              dewPoint  \\\n",
      "350  [10.97, 10.97, 11.02, 11.02, 11.04, 11.04, 10....   \n",
      "351  [10.97, 10.97, 11.02, 11.02, 11.04, 11.04, 10....   \n",
      "352  [10.97, 10.97, 11.02, 11.02, 11.04, 11.04, 10....   \n",
      "353  [10.97, 10.97, 11.02, 11.02, 11.04, 11.04, 10....   \n",
      "354  [0.33, 0.33, 0.79, 0.79, 0.32, 0.32, 0.23, 0.2...   \n",
      "..                                                 ...   \n",
      "743  [5.2, 5.2, 5.23, 5.23, 4.86, 4.86, 4.94, 4.94,...   \n",
      "744  [-2.04, -2.04, -2.44, -2.44, -2.59, -2.59, -2....   \n",
      "745  [9.79, 9.79, 9.92, 9.92, 10.21, 10.21, 10.21, ...   \n",
      "746  [1.58, 1.58, 1.89, 1.89, 1.45, 1.45, 1.29, 1.2...   \n",
      "747  [5.98, 5.98, 5.98, 5.98, 6.0, 6.0, 6.44, 6.44,...   \n",
      "\n",
      "                                              pressure  \\\n",
      "350  [1008.1, 1008.1, 1007.88, 1007.88, 1007.95, 10...   \n",
      "351  [1008.1, 1008.1, 1007.88, 1007.88, 1007.95, 10...   \n",
      "352  [1008.1, 1008.1, 1007.88, 1007.88, 1007.95, 10...   \n",
      "353  [1008.1, 1008.1, 1007.88, 1007.88, 1007.95, 10...   \n",
      "354  [1023.62, 1023.62, 1024.45, 1024.45, 1025.05, ...   \n",
      "..                                                 ...   \n",
      "743  [1015.87, 1015.87, 1016.08, 1016.08, 1016.23, ...   \n",
      "744  [1029.2, 1029.2, 1029.5, 1029.5, 1029.73, 1029...   \n",
      "745  [1019.19, 1019.19, 1019.56, 1019.56, 1019.81, ...   \n",
      "746  [1014.11, 1014.11, 1014.45, 1014.45, 1014.96, ...   \n",
      "747  [1010.17, 1010.17, 1009.18, 1009.18, 1008.18, ...   \n",
      "\n",
      "                                   apparentTemperature  \\\n",
      "350  [12.12, 12.12, 12.59, 12.59, 12.45, 12.45, 12....   \n",
      "351  [12.12, 12.12, 12.59, 12.59, 12.45, 12.45, 12....   \n",
      "352  [12.12, 12.12, 12.59, 12.59, 12.45, 12.45, 12....   \n",
      "353  [12.12, 12.12, 12.59, 12.59, 12.45, 12.45, 12....   \n",
      "354  [0.73, 0.73, 1.24, 1.24, 0.75, 0.75, 0.95, 0.9...   \n",
      "..                                                 ...   \n",
      "743  [4.54, 4.54, 4.61, 4.61, 4.43, 4.43, 3.73, 3.7...   \n",
      "744  [-2.59, -2.59, -2.73, -2.73, -3.63, -3.63, -3....   \n",
      "745  [10.87, 10.87, 11.3, 11.3, 11.45, 11.45, 11.5,...   \n",
      "746  [2.62, 2.62, 2.01, 2.01, 0.94, 0.94, 0.77, 0.7...   \n",
      "747  [2.82, 2.82, 2.88, 2.88, 2.85, 2.85, 2.89, 2.8...   \n",
      "\n",
      "                                             windSpeed  \\\n",
      "350  [5.9, 5.9, 6.06, 6.06, 5.31, 5.31, 4.68, 4.68,...   \n",
      "351  [5.9, 5.9, 6.06, 6.06, 5.31, 5.31, 4.68, 4.68,...   \n",
      "352  [5.9, 5.9, 6.06, 6.06, 5.31, 5.31, 4.68, 4.68,...   \n",
      "353  [5.9, 5.9, 6.06, 6.06, 5.31, 5.31, 4.68, 4.68,...   \n",
      "354  [4.65, 4.65, 4.28, 4.28, 4.16, 4.16, 3.38, 3.3...   \n",
      "..                                                 ...   \n",
      "743  [4.39, 4.39, 4.2, 4.2, 4.64, 4.64, 4.98, 4.98,...   \n",
      "744  [4.68, 4.68, 4.44, 4.44, 4.26, 4.26, 4.25, 4.2...   \n",
      "745  [5.23, 5.23, 4.8, 4.8, 4.9, 4.9, 4.45, 4.45, 3...   \n",
      "746  [3.51, 3.51, 3.53, 3.53, 3.5, 3.5, 3.57, 3.57,...   \n",
      "747  [6.07, 6.07, 5.92, 5.92, 5.99, 5.99, 6.24, 6.2...   \n",
      "\n",
      "                                            precipType  \\\n",
      "350  [rain, rain, rain, rain, rain, rain, rain, rai...   \n",
      "351  [rain, rain, rain, rain, rain, rain, rain, rai...   \n",
      "352  [rain, rain, rain, rain, rain, rain, rain, rai...   \n",
      "353  [rain, rain, rain, rain, rain, rain, rain, rai...   \n",
      "354  [rain, rain, rain, rain, rain, rain, rain, rai...   \n",
      "..                                                 ...   \n",
      "743  [rain, rain, rain, rain, rain, rain, rain, rai...   \n",
      "744  [rain, rain, rain, rain, snow, snow, snow, sno...   \n",
      "745  [rain, rain, rain, rain, rain, rain, rain, rai...   \n",
      "746  [rain, rain, rain, rain, rain, rain, rain, rai...   \n",
      "747  [rain, rain, rain, rain, rain, rain, rain, rai...   \n",
      "\n",
      "                                                  icon  \\\n",
      "350  [partly-cloudy-night, partly-cloudy-night, clo...   \n",
      "351  [partly-cloudy-night, partly-cloudy-night, clo...   \n",
      "352  [partly-cloudy-night, partly-cloudy-night, clo...   \n",
      "353  [partly-cloudy-night, partly-cloudy-night, clo...   \n",
      "354  [clear-night, clear-night, clear-night, clear-...   \n",
      "..                                                 ...   \n",
      "743  [partly-cloudy-night, partly-cloudy-night, par...   \n",
      "744  [partly-cloudy-night, partly-cloudy-night, par...   \n",
      "745  [partly-cloudy-night, partly-cloudy-night, par...   \n",
      "746  [clear-night, clear-night, clear-night, clear-...   \n",
      "747  [partly-cloudy-night, partly-cloudy-night, par...   \n",
      "\n",
      "                                              humidity  \\\n",
      "350  [0.93, 0.93, 0.9, 0.9, 0.91, 0.91, 0.93, 0.93,...   \n",
      "351  [0.93, 0.93, 0.9, 0.9, 0.91, 0.91, 0.93, 0.93,...   \n",
      "352  [0.93, 0.93, 0.9, 0.9, 0.91, 0.91, 0.93, 0.93,...   \n",
      "353  [0.93, 0.93, 0.9, 0.9, 0.91, 0.91, 0.93, 0.93,...   \n",
      "354  [0.75, 0.75, 0.76, 0.76, 0.76, 0.76, 0.77, 0.7...   \n",
      "..                                                 ...   \n",
      "743  [0.86, 0.86, 0.87, 0.87, 0.84, 0.84, 0.87, 0.8...   \n",
      "744  [0.76, 0.76, 0.75, 0.75, 0.79, 0.79, 0.79, 0.7...   \n",
      "745  [0.93, 0.93, 0.91, 0.91, 0.92, 0.92, 0.92, 0.9...   \n",
      "746  [0.77, 0.77, 0.81, 0.81, 0.83, 0.83, 0.83, 0.8...   \n",
      "747  [0.96, 0.96, 0.96, 0.96, 0.96, 0.96, 0.99, 0.9...   \n",
      "\n",
      "                                               summary  \n",
      "350  [Mostly Cloudy, Mostly Cloudy, Overcast, Overc...  \n",
      "351  [Mostly Cloudy, Mostly Cloudy, Overcast, Overc...  \n",
      "352  [Mostly Cloudy, Mostly Cloudy, Overcast, Overc...  \n",
      "353  [Mostly Cloudy, Mostly Cloudy, Overcast, Overc...  \n",
      "354  [Clear, Clear, Clear, Clear, Clear, Clear, Cle...  \n",
      "..                                                 ...  \n",
      "743  [Mostly Cloudy, Mostly Cloudy, Mostly Cloudy, ...  \n",
      "744  [Partly Cloudy, Partly Cloudy, Partly Cloudy, ...  \n",
      "745  [Mostly Cloudy, Mostly Cloudy, Mostly Cloudy, ...  \n",
      "746  [Clear, Clear, Clear, Clear, Clear, Clear, Cle...  \n",
      "747  [Mostly Cloudy, Mostly Cloudy, Mostly Cloudy, ...  \n",
      "\n",
      "[348 rows x 21 columns]\n",
      "block_104-110\n"
     ]
    }
   ],
   "source": [
    "#Writing each chunk to disk\n",
    "for blk in tqdm(split_blocks):\n",
    "    df = hhblock_df.loc[hhblock_df.file.isin(blk)]\n",
    "    print(df)\n",
    "    blk = [int(b.replace(\"block_\",\"\")) for b in blk]\n",
    "    block_str = f\"block_{min(blk)}-{max(blk)}\"\n",
    "    print(block_str)\n",
    "    df.to_parquet(f\"data/london_smart_meters/preprocessed/london_smart_meters_merged_{block_str}.parquet\")"
   ]
  }
 ],
 "metadata": {
  "kernelspec": {
   "display_name": "Python 3 (ipykernel)",
   "language": "python",
   "name": "python3"
  },
  "language_info": {
   "codemirror_mode": {
    "name": "ipython",
    "version": 3
   },
   "file_extension": ".py",
   "mimetype": "text/x-python",
   "name": "python",
   "nbconvert_exporter": "python",
   "pygments_lexer": "ipython3",
   "version": "3.12.7"
  },
  "vscode": {
   "interpreter": {
    "hash": "30fe1d27e07bcd39a201a380e0896b1a8ddc5b4c0f1bff527b499634c2e361cc"
   }
  }
 },
 "nbformat": 4,
 "nbformat_minor": 5
}
